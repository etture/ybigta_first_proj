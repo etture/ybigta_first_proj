{
 "cells": [
  {
   "cell_type": "code",
   "execution_count": 5,
   "metadata": {},
   "outputs": [
    {
     "name": "stdout",
     "output_type": "stream",
     "text": [
      "Collecting imblearn\n",
      "  Downloading https://files.pythonhosted.org/packages/81/a7/4179e6ebfd654bd0eac0b9c06125b8b4c96a9d0a8ff9e9507eb2a26d2d7e/imblearn-0.0-py2.py3-none-any.whl\n",
      "Collecting imbalanced-learn (from imblearn)\n",
      "  Downloading https://files.pythonhosted.org/packages/e6/62/08c14224a7e242df2cef7b312d2ef821c3931ec9b015ff93bb52ec8a10a3/imbalanced_learn-0.5.0-py3-none-any.whl (173kB)\n",
      "\u001b[K    100% |████████████████████████████████| 174kB 3.1MB/s ta 0:00:01\n",
      "\u001b[?25hCollecting joblib>=0.11 (from imbalanced-learn->imblearn)\n",
      "  Using cached https://files.pythonhosted.org/packages/cd/c1/50a758e8247561e58cb87305b1e90b171b8c767b15b12a1734001f41d356/joblib-0.13.2-py2.py3-none-any.whl\n",
      "Collecting numpy>=1.11 (from imbalanced-learn->imblearn)\n",
      "  Using cached https://files.pythonhosted.org/packages/19/b9/bda9781f0a74b90ebd2e046fde1196182900bd4a8e1ea503d3ffebc50e7c/numpy-1.17.0-cp36-cp36m-manylinux1_x86_64.whl\n",
      "Collecting scikit-learn>=0.21 (from imbalanced-learn->imblearn)\n",
      "  Using cached https://files.pythonhosted.org/packages/a0/c5/d2238762d780dde84a20b8c761f563fe882b88c5a5fb03c056547c442a19/scikit_learn-0.21.3-cp36-cp36m-manylinux1_x86_64.whl\n",
      "Collecting scipy>=0.17 (from imbalanced-learn->imblearn)\n",
      "  Using cached https://files.pythonhosted.org/packages/29/50/a552a5aff252ae915f522e44642bb49a7b7b31677f9580cfd11bcc869976/scipy-1.3.1-cp36-cp36m-manylinux1_x86_64.whl\n",
      "Installing collected packages: joblib, numpy, scipy, scikit-learn, imbalanced-learn, imblearn\n",
      "Successfully installed imbalanced-learn-0.5.0 imblearn-0.0 joblib-0.13.2 numpy-1.17.0 scikit-learn-0.21.3 scipy-1.3.1\n"
     ]
    }
   ],
   "source": [
    "!pip3 install imblearn"
   ]
  },
  {
   "cell_type": "code",
   "execution_count": 32,
   "metadata": {},
   "outputs": [],
   "source": [
    "import pandas as pd\n",
    "import numpy as np\n",
    "import matplotlib.pyplot as plt\n",
    "import seaborn as sns\n",
    "#import pandas_profiling\n",
    "\n",
    "from sklearn.linear_model import LogisticRegression\n",
    "from sklearn.model_selection import train_test_split\n",
    "#from sklearn.model_selection import TimeSeriesSplit\n",
    "from sklearn.model_selection import KFold\n",
    "from sklearn.feature_selection import RFECV\n",
    "from sklearn.preprocessing import LabelEncoder\n",
    "\n",
    "from sklearn.neighbors import KNeighborsClassifier\n",
    "from sklearn.svm import SVC, LinearSVC\n",
    "\n",
    "from sklearn.metrics import roc_auc_score\n",
    "from sklearn import preprocessing\n",
    "\n",
    "import xgboost as xgb\n",
    "\n",
    "from datetime import datetime\n",
    "import lightgbm as lgb\n",
    "#import multiprocessing\n",
    "#import gc\n"
   ]
  },
  {
   "cell_type": "code",
   "execution_count": 33,
   "metadata": {},
   "outputs": [],
   "source": [
    "from sklearn.preprocessing import MinMaxScaler  \n",
    "##smote 데이터 스케일링"
   ]
  },
  {
   "cell_type": "code",
   "execution_count": 34,
   "metadata": {},
   "outputs": [],
   "source": [
    "#!pip3 install imblearn"
   ]
  },
  {
   "cell_type": "code",
   "execution_count": 35,
   "metadata": {},
   "outputs": [],
   "source": [
    "from sklearn.datasets import make_classification\n",
    "from sklearn.decomposition import PCA\n",
    "from imblearn.over_sampling import SMOTE ##SMOTE 오예~ "
   ]
  },
  {
   "cell_type": "code",
   "execution_count": 37,
   "metadata": {},
   "outputs": [],
   "source": [
    "def reduce_mem_usage(df, verbose=True):\n",
    "    numerics = ['int16', 'int32', 'int64', 'float16', 'float32', 'float64']\n",
    "    start_mem = df.memory_usage().sum() / 1024**2    \n",
    "    for col in df.columns:\n",
    "        col_type = df[col].dtypes\n",
    "        if col_type in numerics:\n",
    "            c_min = df[col].min()\n",
    "            c_max = df[col].max()\n",
    "            if str(col_type)[:3] == 'int':\n",
    "                if c_min > np.iinfo(np.int8).min and c_max < np.iinfo(np.int8).max:\n",
    "                    df[col] = df[col].astype(np.int8)\n",
    "                elif c_min > np.iinfo(np.int16).min and c_max < np.iinfo(np.int16).max:\n",
    "                    df[col] = df[col].astype(np.int16)\n",
    "                elif c_min > np.iinfo(np.int32).min and c_max < np.iinfo(np.int32).max:\n",
    "                    df[col] = df[col].astype(np.int32)\n",
    "                elif c_min > np.iinfo(np.int64).min and c_max < np.iinfo(np.int64).max:\n",
    "                    df[col] = df[col].astype(np.int64)  \n",
    "            else:\n",
    "                if c_min > np.finfo(np.float16).min and c_max < np.finfo(np.float16).max:\n",
    "                    df[col] = df[col].astype(np.float16)\n",
    "                elif c_min > np.finfo(np.float32).min and c_max < np.finfo(np.float32).max:\n",
    "                    df[col] = df[col].astype(np.float32)\n",
    "                else:\n",
    "                    df[col] = df[col].astype(np.float64)    \n",
    "    end_mem = df.memory_usage().sum() / 1024**2\n",
    "    if verbose: print('Mem. usage decreased to {:5.2f} Mb ({:.1f}% reduction)'.format(end_mem, 100 * (start_mem - end_mem) / start_mem))\n",
    "    return df"
   ]
  },
  {
   "cell_type": "code",
   "execution_count": 38,
   "metadata": {},
   "outputs": [],
   "source": [
    "import os\n",
    "import gc\n",
    "import sys"
   ]
  },
  {
   "cell_type": "code",
   "execution_count": 39,
   "metadata": {},
   "outputs": [],
   "source": [
    "trans = pd.read_csv('../../Data/original/train_transaction.csv', index_col='TransactionID')\n",
    "test_trans = pd.read_csv('../../Data/original/test_transaction.csv', index_col='TransactionID')"
   ]
  },
  {
   "cell_type": "code",
   "execution_count": 40,
   "metadata": {},
   "outputs": [],
   "source": [
    "ident = pd.read_csv('../../Data/original/train_identity.csv', index_col='TransactionID')\n",
    "test_ident = pd.read_csv('../../Data/original/test_identity.csv', index_col='TransactionID')"
   ]
  },
  {
   "cell_type": "code",
   "execution_count": 41,
   "metadata": {},
   "outputs": [],
   "source": [
    "sample_sub = pd.read_csv('../../Data/original/sample_submission.csv', index_col='TransactionID')"
   ]
  },
  {
   "cell_type": "code",
   "execution_count": 42,
   "metadata": {},
   "outputs": [],
   "source": [
    "train = trans.merge(ident, how='left', left_index=True, right_index=True)\n",
    "test = test_trans.merge(test_ident, how='left', left_index=True, right_index=True)"
   ]
  },
  {
   "cell_type": "code",
   "execution_count": 43,
   "metadata": {},
   "outputs": [
    {
     "data": {
      "text/plain": [
       "0"
      ]
     },
     "execution_count": 43,
     "metadata": {},
     "output_type": "execute_result"
    }
   ],
   "source": [
    "del trans, ident, test_trans, test_ident\n",
    "gc.collect()"
   ]
  },
  {
   "cell_type": "code",
   "execution_count": 44,
   "metadata": {},
   "outputs": [
    {
     "name": "stdout",
     "output_type": "stream",
     "text": [
      "Mem. usage decreased to 668.22 Mb (66.2% reduction)\n",
      "Mem. usage decreased to 583.43 Mb (65.6% reduction)\n"
     ]
    }
   ],
   "source": [
    "train = reduce_mem_usage(train)\n",
    "test = reduce_mem_usage(test)"
   ]
  },
  {
   "cell_type": "code",
   "execution_count": 45,
   "metadata": {},
   "outputs": [],
   "source": [
    "final_cols = ['isFraud','TransactionAmt','TransactionDT',\n",
    " 'P_emaildomain',\n",
    " 'R_emaildomain', \"ProductCD\", \"card1\", \"card2\", \"card3\", \"card4\", \"card5\", \"card6\", \n",
    "\"addr1\", \"addr2\", \"dist1\", \"dist2\", \"C1\", \"C2\", \"C3\", \"C4\", \"C5\", \"C6\", \"C7\", \"C8\", \"C9\", \"C10\", \n",
    "\"C11\", \"C12\", \"C13\", \"C14\", \"D1\", \"D2\", \"D3\", \"D4\", \"D5\", \"D6\", \"D7\", \"D8\", \"D9\", \"D10\", \"D11\", \"D12\", \n",
    "\"D13\", \"D14\", \"D15\", \"M1\", \"M2\", \"M3\", \"M4\", \"M5\", \"M6\", \"M7\", \"M8\", \"M9\", \"id_01\", \"id_02\", \n",
    "\"id_03\", \"id_04\", \"id_05\", \"id_06\", \"id_07\", \"id_08\", \"id_09\", \"id_10\", \"id_11\", \n",
    "\"id_12\", \"id_13\", \"id_14\", \"id_15\", \"id_16\", \"id_17\", \"id_18\", \"id_19\", \"id_20\", \"id_21\", \"id_22\", \"id_23\", \"id_24\", \n",
    "\"id_25\", \"id_26\", \"id_27\", \"id_28\", \"id_29\", \"id_30\", \"id_31\", \"id_32\", \"id_33\", \"id_34\", \"id_35\", \n",
    "\"id_36\", \"id_37\", \"id_38\", \n",
    "'V1','V2','V3','V4','V5','V6','V7','V9','V12','V13','V17','V18','V19',\n",
    "'V20','V23','V24','V25','V26','V29','V30','V33',\n",
    " 'V34','V35','V36','V37','V38','V39','V40','V42','V43','V44','V45','V47','V48','V49','V51','V52','V53','V54','V55',\n",
    " 'V56','V57','V58','V59','V60','V61','V62','V63','V64','V66','V67','V69','V70','V71','V72','V73','V74','V75','V76',\n",
    " 'V77','V78','V79','V80','V81','V82','V83','V85','V86','V87','V90','V91','V92','V93','V94', 'V95', 'V96', 'V97',\n",
    " 'V98','V99','V100','V101','V102','V103','V105','V109','V115','V124','V125','V126','V127','V128','V129', 'V130','V131',\n",
    " 'V132', 'V133', 'V134','V135','V136','V137','V139','V140','V143','V145','V146','V147','V149','V150','V151','V152',\n",
    " 'V156','V158','V159','V160','V161','V162','V164','V165','V166',\n",
    " 'V167','V168','V169','V170','V171','V172','V173','V174','V175','V176','V177','V178','V179','V180','V182','V187','V188',\n",
    " 'V189','V192','V198','V199','V200','V201','V202','V203','V204','V205','V206','V207','V208','V209','V210',\n",
    " 'V211', 'V212','V213','V214','V215','V216','V217','V218','V219','V220','V221','V222','V223','V224','V225','V226',\n",
    " 'V227','V228','V229','V230','V231','V232','V233','V234','V236','V239','V243','V244','V245','V246','V248','V250',\n",
    " 'V251','V256','V257',\n",
    " 'V258','V259','V260','V261','V262','V263','V264','V265','V266','V267','V268','V270','V271','V272','V273','V274',\n",
    " 'V275','V276','V277','V278','V279','V280','V281','V282','V283','V284','V285','V286','V287','V288','V289','V290',\n",
    " 'V291','V292','V293','V294','V295',\n",
    " 'V296','V297','V298','V299','V300','V301','V303','V304','V306','V307','V308','V309','V310','V311','V312',\n",
    " 'V313','V314','V315','V316','V317','V318','V319','V320','V321','V322','V323','V324','V326','V329','V331',\n",
    " 'V332','V333','V335','V336','V338','V339']"
   ]
  },
  {
   "cell_type": "code",
   "execution_count": 46,
   "metadata": {},
   "outputs": [
    {
     "name": "stdout",
     "output_type": "stream",
     "text": [
      "351\n",
      "82\n",
      "False\n"
     ]
    }
   ],
   "source": [
    "\n",
    "del_cols = []\n",
    "no_cols= []\n",
    "for col in train.columns:\n",
    "\n",
    "  if col not in final_cols:\n",
    "    del_cols.append(col)\n",
    "  else:\n",
    "    no_cols.append(col)\n",
    "print(len(no_cols));print(len(del_cols))\n",
    "print(no_cols == final_cols)"
   ]
  },
  {
   "cell_type": "code",
   "execution_count": 47,
   "metadata": {},
   "outputs": [
    {
     "name": "stdout",
     "output_type": "stream",
     "text": [
      "82\n"
     ]
    },
    {
     "data": {
      "text/plain": [
       "['V8',\n",
       " 'V10',\n",
       " 'V11',\n",
       " 'V14',\n",
       " 'V15',\n",
       " 'V16',\n",
       " 'V21',\n",
       " 'V22',\n",
       " 'V27',\n",
       " 'V28',\n",
       " 'V31',\n",
       " 'V32',\n",
       " 'V41',\n",
       " 'V46',\n",
       " 'V50',\n",
       " 'V65',\n",
       " 'V68',\n",
       " 'V84',\n",
       " 'V88',\n",
       " 'V89',\n",
       " 'V104',\n",
       " 'V106',\n",
       " 'V107',\n",
       " 'V108',\n",
       " 'V110',\n",
       " 'V111',\n",
       " 'V112',\n",
       " 'V113',\n",
       " 'V114',\n",
       " 'V116',\n",
       " 'V117',\n",
       " 'V118',\n",
       " 'V119',\n",
       " 'V120',\n",
       " 'V121',\n",
       " 'V122',\n",
       " 'V123',\n",
       " 'V138',\n",
       " 'V141',\n",
       " 'V142',\n",
       " 'V144',\n",
       " 'V148',\n",
       " 'V153',\n",
       " 'V154',\n",
       " 'V155',\n",
       " 'V157',\n",
       " 'V163',\n",
       " 'V181',\n",
       " 'V183',\n",
       " 'V184',\n",
       " 'V185',\n",
       " 'V186',\n",
       " 'V190',\n",
       " 'V191',\n",
       " 'V193',\n",
       " 'V194',\n",
       " 'V195',\n",
       " 'V196',\n",
       " 'V197',\n",
       " 'V235',\n",
       " 'V237',\n",
       " 'V238',\n",
       " 'V240',\n",
       " 'V241',\n",
       " 'V242',\n",
       " 'V247',\n",
       " 'V249',\n",
       " 'V252',\n",
       " 'V253',\n",
       " 'V254',\n",
       " 'V255',\n",
       " 'V269',\n",
       " 'V302',\n",
       " 'V305',\n",
       " 'V325',\n",
       " 'V327',\n",
       " 'V328',\n",
       " 'V330',\n",
       " 'V334',\n",
       " 'V337',\n",
       " 'DeviceType',\n",
       " 'DeviceInfo']"
      ]
     },
     "execution_count": 47,
     "metadata": {},
     "output_type": "execute_result"
    }
   ],
   "source": [
    "print(len(del_cols))\n",
    "del_cols"
   ]
  },
  {
   "cell_type": "code",
   "execution_count": 48,
   "metadata": {},
   "outputs": [],
   "source": [
    "train = train.drop(del_cols, axis=1)\n",
    "test = test.drop(del_cols, axis=1)"
   ]
  },
  {
   "cell_type": "code",
   "execution_count": 49,
   "metadata": {},
   "outputs": [],
   "source": [
    "for column in ['card1', 'card2', 'card3', 'card4', 'card5', 'card6', 'addr1', 'addr2']:\n",
    "    train[column +  '_count_full'] = \\\n",
    "        train[column].map(pd.concat([train[column], test[column]], ignore_index=True).value_counts(dropna=False))\n",
    "    test[column +  '_count_full'] = \\\n",
    "        test[column].map(pd.concat([train[column], test[column]], ignore_index=True).value_counts(dropna=False))"
   ]
  },
  {
   "cell_type": "code",
   "execution_count": 50,
   "metadata": {},
   "outputs": [],
   "source": [
    "train['TransactionAmt_to_mean_card1'] = train['TransactionAmt'] / train.groupby(['card1'])['TransactionAmt'].transform('mean')\n",
    "train['TransactionAmt_to_mean_card4'] = train['TransactionAmt'] / train.groupby(['card4'])['TransactionAmt'].transform('mean')\n",
    "train['TransactionAmt_to_std_card1'] = train['TransactionAmt'] / train.groupby(['card1'])['TransactionAmt'].transform('std')\n",
    "train['TransactionAmt_to_std_card4'] = train['TransactionAmt'] / train.groupby(['card4'])['TransactionAmt'].transform('std')\n",
    "\n",
    "test['TransactionAmt_to_mean_card1'] = test['TransactionAmt'] / test.groupby(['card1'])['TransactionAmt'].transform('mean')\n",
    "test['TransactionAmt_to_mean_card4'] = test['TransactionAmt'] / test.groupby(['card4'])['TransactionAmt'].transform('mean')\n",
    "test['TransactionAmt_to_std_card1'] = test['TransactionAmt'] / test.groupby(['card1'])['TransactionAmt'].transform('std')\n",
    "test['TransactionAmt_to_std_card4'] = test['TransactionAmt'] / test.groupby(['card4'])['TransactionAmt'].transform('std')"
   ]
  },
  {
   "cell_type": "code",
   "execution_count": 51,
   "metadata": {},
   "outputs": [
    {
     "data": {
      "text/plain": [
       "Index(['isFraud', 'TransactionDT', 'TransactionAmt', 'ProductCD', 'card1',\n",
       "       'card2', 'card3', 'card4', 'card5', 'card6',\n",
       "       ...\n",
       "       'card3_count_full', 'card4_count_full', 'card5_count_full',\n",
       "       'card6_count_full', 'addr1_count_full', 'addr2_count_full',\n",
       "       'TransactionAmt_to_mean_card1', 'TransactionAmt_to_mean_card4',\n",
       "       'TransactionAmt_to_std_card1', 'TransactionAmt_to_std_card4'],\n",
       "      dtype='object', length=363)"
      ]
     },
     "execution_count": 51,
     "metadata": {},
     "output_type": "execute_result"
    }
   ],
   "source": [
    "train.columns"
   ]
  },
  {
   "cell_type": "code",
   "execution_count": 52,
   "metadata": {},
   "outputs": [],
   "source": [
    "# 준형이형꺼 처리\n",
    "#id_30\n",
    "\n",
    "def os(df):\n",
    "    if df == \"-999\":\n",
    "        df = -999\n",
    "    elif \"Windows\" in df:\n",
    "        df = \"Windows\"\n",
    "    elif \"Mac\" in df:\n",
    "        df = \"Mac\"\n",
    "    elif \"iOS\" in df:\n",
    "        df = \"ios\"\n",
    "    elif \"Android\" in df:\n",
    "        df = \"Android\"\n",
    "    else:\n",
    "        df = \"other\"\n",
    "        \n",
    "    return df\n",
    "\n",
    "train[\"id_30\"].fillna(\"-999\", inplace=True)\n",
    "train[\"OS\"] = train[\"id_30\"].apply(os)\n",
    "\n",
    "test[\"id_30\"].fillna(\"-999\", inplace=True)\n",
    "test[\"OS\"] = test[\"id_30\"].apply(os)\n",
    "\n",
    "#id_31 \n",
    "# latest 여부 / 브라우저 col 생성\n",
    "latest_browser_list = [\"samsung browser 7.0\",\n",
    "                  \"opera 53.0\",\n",
    "                  \"mobile safari 10.0\",\n",
    "                  \"google search application 49.0\",\n",
    "                  \"firefox 60.0\",\n",
    "                  \"edge 17.0\",\n",
    "                  \"chrome 69.0\", \n",
    "                  \"chrome 67.0 for android\",\n",
    "                  \"chrome 63.0 for android\",\n",
    "                  \"chrome 63.0 for ios\",\n",
    "                  \"chrome 64.0\",\n",
    "                  \"chrome 64.0 for android\",\n",
    "                  \"chrome 64.0 for ios\",\n",
    "                  \"chrome 65.0\",\n",
    "                  \"chrome 65.0 for android\",\n",
    "                  \"chrome 65.0 for ios\",\n",
    "                  \"chrome 66.0\",\n",
    "                  \"chrome 66.0 for android\",\n",
    "                  \"chrome 66.0 for ios\"\n",
    "                 ]\n",
    "\n",
    "def latest_browser(df):\n",
    "    if df == \"-999\":\n",
    "        df = -999\n",
    "    elif df in latest_browser_list:\n",
    "        df = 1\n",
    "    else:\n",
    "        df = 0\n",
    "    return df\n",
    "\n",
    "def browser(df):\n",
    "    if df == \"-999\":\n",
    "        df = -999\n",
    "    elif \"chrome\" in df:\n",
    "        df = \"chrome\"\n",
    "    elif \"safari\" in df:\n",
    "        df = \"safari\"\n",
    "    elif \"firefox\" in df:\n",
    "        df = \"firefox\"\n",
    "    elif \"ie\" in df:\n",
    "        df = \"ie\"\n",
    "    elif \"samsung\" in df:\n",
    "        df = \"samsumg\"\n",
    "    elif \"Samsung\" in df:\n",
    "        df = \"samsumg\"\n",
    "    return df \n",
    "    \n",
    "\n",
    "train[\"id_31\"].fillna(\"-999\", inplace=True)\n",
    "train[\"Latest_browser\"] = train[\"id_31\"].apply(latest_browser)\n",
    "train[\"Browser\"] = train[\"id_31\"].apply(browser)\n",
    "\n",
    "test[\"id_31\"].fillna(\"-999\", inplace=True)\n",
    "test[\"Latest_browser\"] = test[\"id_31\"].apply(latest_browser)\n",
    "test[\"Browser\"] = test[\"id_31\"].apply(browser)"
   ]
  },
  {
   "cell_type": "code",
   "execution_count": 53,
   "metadata": {},
   "outputs": [],
   "source": [
    "y_train = train['isFraud'].copy()"
   ]
  },
  {
   "cell_type": "code",
   "execution_count": 54,
   "metadata": {},
   "outputs": [],
   "source": [
    "X_train = train.drop('isFraud', axis=1)\n",
    "X_test = test.copy()"
   ]
  },
  {
   "cell_type": "code",
   "execution_count": 55,
   "metadata": {},
   "outputs": [],
   "source": [
    "# Fill numeric columns' NaN values with mean\n",
    "for c in X_train.columns:\n",
    "    if X_train[c].dtype=='float16' or  X_train[c].dtype=='float32' or  X_train[c].dtype=='float64':\n",
    "        X_train[c].fillna(X_train[c].mean())\n",
    "        X_test[c].fillna(X_train[c].mean())"
   ]
  },
  {
   "cell_type": "code",
   "execution_count": 56,
   "metadata": {},
   "outputs": [],
   "source": [
    "\n",
    "# Fill categorical columns' NaN values with placeholder (-999)\n",
    "X_train = X_train.fillna(-999)\n",
    "X_test = X_test.fillna(-999)"
   ]
  },
  {
   "cell_type": "code",
   "execution_count": 57,
   "metadata": {},
   "outputs": [],
   "source": [
    "# Label-Encode categorical columns\n",
    "for f in X_train.columns:\n",
    "    if X_train[f].dtype=='object' or X_test[f].dtype=='object': \n",
    "        lbl = preprocessing.LabelEncoder()\n",
    "        lbl.fit(list(X_train[f].values) + list(X_test[f].values))\n",
    "        X_train[f] = lbl.transform(list(X_train[f].values))\n",
    "        X_test[f] = lbl.transform(list(X_test[f].values))"
   ]
  },
  {
   "cell_type": "code",
   "execution_count": 36,
   "metadata": {},
   "outputs": [],
   "source": [
    "f =1"
   ]
  },
  {
   "cell_type": "code",
   "execution_count": 59,
   "metadata": {},
   "outputs": [],
   "source": [
    "X_train_ = X_train.copy()\n",
    "y_train_ = y_train.copy()\n",
    "X_train_[X_train_ == np.inf] = np.nan\n",
    "y_train_[y_train_ == np.inf] = np.nan\n",
    "X_train_ = X_train_.fillna(-999)\n",
    "y_train_ = y_train_.fillna(-999)"
   ]
  },
  {
   "cell_type": "code",
   "execution_count": 61,
   "metadata": {},
   "outputs": [
    {
     "name": "stdout",
     "output_type": "stream",
     "text": [
      "After OverSampling, the shape of train_X: (1139754, 365)\n",
      "After OverSampling, the shape of train_y: (1139754, 365) \n",
      "\n",
      "After OverSampling, counts of label '1': 569877\n",
      "After OverSampling, counts of label '0': 569877\n"
     ]
    }
   ],
   "source": [
    "# 모델설정\n",
    "sm = SMOTE(ratio='auto', kind='regular')\n",
    "\n",
    "# train데이터를 넣어 복제함\n",
    "X_resampled, y_resampled = sm.fit_sample(X_train_,list(y_train_))\n",
    "\n",
    "print('After OverSampling, the shape of train_X: {}'.format(X_resampled.shape))\n",
    "print('After OverSampling, the shape of train_y: {} \\n'.format(X_resampled.shape))\n",
    "\n",
    "print(\"After OverSampling, counts of label '1': {}\".format(sum(y_resampled==1)))\n",
    "print(\"After OverSampling, counts of label '0': {}\".format(sum(y_resampled==0)))"
   ]
  },
  {
   "cell_type": "code",
   "execution_count": 72,
   "metadata": {},
   "outputs": [
    {
     "data": {
      "text/plain": [
       "numpy.ndarray"
      ]
     },
     "execution_count": 72,
     "metadata": {},
     "output_type": "execute_result"
    }
   ],
   "source": [
    "type(X_resampled)"
   ]
  },
  {
   "cell_type": "code",
   "execution_count": 62,
   "metadata": {},
   "outputs": [
    {
     "name": "stdout",
     "output_type": "stream",
     "text": [
      "KFold(n_splits=5, random_state=None, shuffle=True)\n"
     ]
    }
   ],
   "source": [
    "# Set up K-Fold\n",
    "n_fold = 5\n",
    "folds = KFold(n_splits=n_fold, shuffle=True)\n",
    "\n",
    "print(folds)"
   ]
  },
  {
   "cell_type": "code",
   "execution_count": 41,
   "metadata": {},
   "outputs": [],
   "source": [
    "# train.to_csv('smote_train.csv')\n",
    "# test.to_csv('smote_test.csv')"
   ]
  },
  {
   "cell_type": "code",
   "execution_count": 73,
   "metadata": {},
   "outputs": [
    {
     "data": {
      "text/html": [
       "<div>\n",
       "<style scoped>\n",
       "    .dataframe tbody tr th:only-of-type {\n",
       "        vertical-align: middle;\n",
       "    }\n",
       "\n",
       "    .dataframe tbody tr th {\n",
       "        vertical-align: top;\n",
       "    }\n",
       "\n",
       "    .dataframe thead th {\n",
       "        text-align: right;\n",
       "    }\n",
       "</style>\n",
       "<table border=\"1\" class=\"dataframe\">\n",
       "  <thead>\n",
       "    <tr style=\"text-align: right;\">\n",
       "      <th></th>\n",
       "      <th>TransactionDT</th>\n",
       "      <th>TransactionAmt</th>\n",
       "      <th>ProductCD</th>\n",
       "      <th>card1</th>\n",
       "      <th>card2</th>\n",
       "      <th>card3</th>\n",
       "      <th>card4</th>\n",
       "      <th>card5</th>\n",
       "      <th>card6</th>\n",
       "      <th>addr1</th>\n",
       "      <th>...</th>\n",
       "      <th>card6_count_full</th>\n",
       "      <th>addr1_count_full</th>\n",
       "      <th>addr2_count_full</th>\n",
       "      <th>TransactionAmt_to_mean_card1</th>\n",
       "      <th>TransactionAmt_to_mean_card4</th>\n",
       "      <th>TransactionAmt_to_std_card1</th>\n",
       "      <th>TransactionAmt_to_std_card4</th>\n",
       "      <th>OS</th>\n",
       "      <th>Latest_browser</th>\n",
       "      <th>Browser</th>\n",
       "    </tr>\n",
       "    <tr>\n",
       "      <th>TransactionID</th>\n",
       "      <th></th>\n",
       "      <th></th>\n",
       "      <th></th>\n",
       "      <th></th>\n",
       "      <th></th>\n",
       "      <th></th>\n",
       "      <th></th>\n",
       "      <th></th>\n",
       "      <th></th>\n",
       "      <th></th>\n",
       "      <th></th>\n",
       "      <th></th>\n",
       "      <th></th>\n",
       "      <th></th>\n",
       "      <th></th>\n",
       "      <th></th>\n",
       "      <th></th>\n",
       "      <th></th>\n",
       "      <th></th>\n",
       "      <th></th>\n",
       "      <th></th>\n",
       "    </tr>\n",
       "  </thead>\n",
       "  <tbody>\n",
       "    <tr>\n",
       "      <td>2987000</td>\n",
       "      <td>86400</td>\n",
       "      <td>68.5</td>\n",
       "      <td>4</td>\n",
       "      <td>13926</td>\n",
       "      <td>-999.0</td>\n",
       "      <td>150.0</td>\n",
       "      <td>2</td>\n",
       "      <td>142.0</td>\n",
       "      <td>2</td>\n",
       "      <td>315.0</td>\n",
       "      <td>...</td>\n",
       "      <td>267648</td>\n",
       "      <td>43035</td>\n",
       "      <td>956415</td>\n",
       "      <td>0.194580</td>\n",
       "      <td>0.257812</td>\n",
       "      <td>0.000000</td>\n",
       "      <td>0.000000</td>\n",
       "      <td>0</td>\n",
       "      <td>-999</td>\n",
       "      <td>0</td>\n",
       "    </tr>\n",
       "    <tr>\n",
       "      <td>2987001</td>\n",
       "      <td>86401</td>\n",
       "      <td>29.0</td>\n",
       "      <td>4</td>\n",
       "      <td>2755</td>\n",
       "      <td>404.0</td>\n",
       "      <td>150.0</td>\n",
       "      <td>3</td>\n",
       "      <td>102.0</td>\n",
       "      <td>2</td>\n",
       "      <td>325.0</td>\n",
       "      <td>...</td>\n",
       "      <td>267648</td>\n",
       "      <td>76902</td>\n",
       "      <td>956415</td>\n",
       "      <td>0.123779</td>\n",
       "      <td>0.219116</td>\n",
       "      <td>0.000000</td>\n",
       "      <td>0.114258</td>\n",
       "      <td>0</td>\n",
       "      <td>-999</td>\n",
       "      <td>0</td>\n",
       "    </tr>\n",
       "    <tr>\n",
       "      <td>2987002</td>\n",
       "      <td>86469</td>\n",
       "      <td>59.0</td>\n",
       "      <td>4</td>\n",
       "      <td>4663</td>\n",
       "      <td>490.0</td>\n",
       "      <td>150.0</td>\n",
       "      <td>4</td>\n",
       "      <td>166.0</td>\n",
       "      <td>3</td>\n",
       "      <td>330.0</td>\n",
       "      <td>...</td>\n",
       "      <td>824959</td>\n",
       "      <td>48387</td>\n",
       "      <td>956415</td>\n",
       "      <td>0.608398</td>\n",
       "      <td>0.443115</td>\n",
       "      <td>0.589355</td>\n",
       "      <td>0.258545</td>\n",
       "      <td>0</td>\n",
       "      <td>-999</td>\n",
       "      <td>0</td>\n",
       "    </tr>\n",
       "    <tr>\n",
       "      <td>2987003</td>\n",
       "      <td>86499</td>\n",
       "      <td>50.0</td>\n",
       "      <td>4</td>\n",
       "      <td>18132</td>\n",
       "      <td>567.0</td>\n",
       "      <td>150.0</td>\n",
       "      <td>3</td>\n",
       "      <td>117.0</td>\n",
       "      <td>3</td>\n",
       "      <td>476.0</td>\n",
       "      <td>...</td>\n",
       "      <td>824959</td>\n",
       "      <td>17455</td>\n",
       "      <td>956415</td>\n",
       "      <td>0.405029</td>\n",
       "      <td>0.377686</td>\n",
       "      <td>0.259521</td>\n",
       "      <td>0.196899</td>\n",
       "      <td>0</td>\n",
       "      <td>-999</td>\n",
       "      <td>0</td>\n",
       "    </tr>\n",
       "    <tr>\n",
       "      <td>2987004</td>\n",
       "      <td>86506</td>\n",
       "      <td>50.0</td>\n",
       "      <td>1</td>\n",
       "      <td>4497</td>\n",
       "      <td>514.0</td>\n",
       "      <td>150.0</td>\n",
       "      <td>3</td>\n",
       "      <td>102.0</td>\n",
       "      <td>2</td>\n",
       "      <td>420.0</td>\n",
       "      <td>...</td>\n",
       "      <td>267648</td>\n",
       "      <td>7107</td>\n",
       "      <td>956415</td>\n",
       "      <td>0.515625</td>\n",
       "      <td>0.377686</td>\n",
       "      <td>0.882812</td>\n",
       "      <td>0.196899</td>\n",
       "      <td>1</td>\n",
       "      <td>0</td>\n",
       "      <td>64</td>\n",
       "    </tr>\n",
       "  </tbody>\n",
       "</table>\n",
       "<p>5 rows × 365 columns</p>\n",
       "</div>"
      ],
      "text/plain": [
       "               TransactionDT  TransactionAmt  ProductCD  card1  card2  card3  \\\n",
       "TransactionID                                                                  \n",
       "2987000                86400            68.5          4  13926 -999.0  150.0   \n",
       "2987001                86401            29.0          4   2755  404.0  150.0   \n",
       "2987002                86469            59.0          4   4663  490.0  150.0   \n",
       "2987003                86499            50.0          4  18132  567.0  150.0   \n",
       "2987004                86506            50.0          1   4497  514.0  150.0   \n",
       "\n",
       "               card4  card5  card6  addr1  ...  card6_count_full  \\\n",
       "TransactionID                              ...                     \n",
       "2987000            2  142.0      2  315.0  ...            267648   \n",
       "2987001            3  102.0      2  325.0  ...            267648   \n",
       "2987002            4  166.0      3  330.0  ...            824959   \n",
       "2987003            3  117.0      3  476.0  ...            824959   \n",
       "2987004            3  102.0      2  420.0  ...            267648   \n",
       "\n",
       "               addr1_count_full  addr2_count_full  \\\n",
       "TransactionID                                       \n",
       "2987000                   43035            956415   \n",
       "2987001                   76902            956415   \n",
       "2987002                   48387            956415   \n",
       "2987003                   17455            956415   \n",
       "2987004                    7107            956415   \n",
       "\n",
       "               TransactionAmt_to_mean_card1  TransactionAmt_to_mean_card4  \\\n",
       "TransactionID                                                               \n",
       "2987000                            0.194580                      0.257812   \n",
       "2987001                            0.123779                      0.219116   \n",
       "2987002                            0.608398                      0.443115   \n",
       "2987003                            0.405029                      0.377686   \n",
       "2987004                            0.515625                      0.377686   \n",
       "\n",
       "               TransactionAmt_to_std_card1  TransactionAmt_to_std_card4  OS  \\\n",
       "TransactionID                                                                 \n",
       "2987000                           0.000000                     0.000000   0   \n",
       "2987001                           0.000000                     0.114258   0   \n",
       "2987002                           0.589355                     0.258545   0   \n",
       "2987003                           0.259521                     0.196899   0   \n",
       "2987004                           0.882812                     0.196899   1   \n",
       "\n",
       "               Latest_browser  Browser  \n",
       "TransactionID                           \n",
       "2987000                  -999        0  \n",
       "2987001                  -999        0  \n",
       "2987002                  -999        0  \n",
       "2987003                  -999        0  \n",
       "2987004                     0       64  \n",
       "\n",
       "[5 rows x 365 columns]"
      ]
     },
     "execution_count": 73,
     "metadata": {},
     "output_type": "execute_result"
    }
   ],
   "source": [
    "X_train.head()"
   ]
  },
  {
   "cell_type": "code",
   "execution_count": 77,
   "metadata": {},
   "outputs": [
    {
     "data": {
      "text/plain": [
       "numpy.ndarray"
      ]
     },
     "execution_count": 77,
     "metadata": {},
     "output_type": "execute_result"
    }
   ],
   "source": [
    "type(X_resampled)"
   ]
  },
  {
   "cell_type": "code",
   "execution_count": 78,
   "metadata": {},
   "outputs": [
    {
     "data": {
      "text/html": [
       "<div>\n",
       "<style scoped>\n",
       "    .dataframe tbody tr th:only-of-type {\n",
       "        vertical-align: middle;\n",
       "    }\n",
       "\n",
       "    .dataframe tbody tr th {\n",
       "        vertical-align: top;\n",
       "    }\n",
       "\n",
       "    .dataframe thead th {\n",
       "        text-align: right;\n",
       "    }\n",
       "</style>\n",
       "<table border=\"1\" class=\"dataframe\">\n",
       "  <thead>\n",
       "    <tr style=\"text-align: right;\">\n",
       "      <th></th>\n",
       "      <th>0</th>\n",
       "      <th>1</th>\n",
       "      <th>2</th>\n",
       "      <th>3</th>\n",
       "      <th>4</th>\n",
       "      <th>5</th>\n",
       "      <th>6</th>\n",
       "      <th>7</th>\n",
       "      <th>8</th>\n",
       "      <th>9</th>\n",
       "      <th>...</th>\n",
       "      <th>355</th>\n",
       "      <th>356</th>\n",
       "      <th>357</th>\n",
       "      <th>358</th>\n",
       "      <th>359</th>\n",
       "      <th>360</th>\n",
       "      <th>361</th>\n",
       "      <th>362</th>\n",
       "      <th>363</th>\n",
       "      <th>364</th>\n",
       "    </tr>\n",
       "  </thead>\n",
       "  <tbody>\n",
       "    <tr>\n",
       "      <td>0</td>\n",
       "      <td>86400.0</td>\n",
       "      <td>68.5</td>\n",
       "      <td>4.0</td>\n",
       "      <td>13926.0</td>\n",
       "      <td>-999.0</td>\n",
       "      <td>150.0</td>\n",
       "      <td>2.0</td>\n",
       "      <td>142.0</td>\n",
       "      <td>2.0</td>\n",
       "      <td>315.0</td>\n",
       "      <td>...</td>\n",
       "      <td>267648.0</td>\n",
       "      <td>43035.0</td>\n",
       "      <td>956415.0</td>\n",
       "      <td>0.194580</td>\n",
       "      <td>0.257812</td>\n",
       "      <td>0.000000</td>\n",
       "      <td>0.000000</td>\n",
       "      <td>0.0</td>\n",
       "      <td>-999.0</td>\n",
       "      <td>0.0</td>\n",
       "    </tr>\n",
       "    <tr>\n",
       "      <td>1</td>\n",
       "      <td>86401.0</td>\n",
       "      <td>29.0</td>\n",
       "      <td>4.0</td>\n",
       "      <td>2755.0</td>\n",
       "      <td>404.0</td>\n",
       "      <td>150.0</td>\n",
       "      <td>3.0</td>\n",
       "      <td>102.0</td>\n",
       "      <td>2.0</td>\n",
       "      <td>325.0</td>\n",
       "      <td>...</td>\n",
       "      <td>267648.0</td>\n",
       "      <td>76902.0</td>\n",
       "      <td>956415.0</td>\n",
       "      <td>0.123779</td>\n",
       "      <td>0.219116</td>\n",
       "      <td>0.000000</td>\n",
       "      <td>0.114258</td>\n",
       "      <td>0.0</td>\n",
       "      <td>-999.0</td>\n",
       "      <td>0.0</td>\n",
       "    </tr>\n",
       "    <tr>\n",
       "      <td>2</td>\n",
       "      <td>86469.0</td>\n",
       "      <td>59.0</td>\n",
       "      <td>4.0</td>\n",
       "      <td>4663.0</td>\n",
       "      <td>490.0</td>\n",
       "      <td>150.0</td>\n",
       "      <td>4.0</td>\n",
       "      <td>166.0</td>\n",
       "      <td>3.0</td>\n",
       "      <td>330.0</td>\n",
       "      <td>...</td>\n",
       "      <td>824959.0</td>\n",
       "      <td>48387.0</td>\n",
       "      <td>956415.0</td>\n",
       "      <td>0.608398</td>\n",
       "      <td>0.443115</td>\n",
       "      <td>0.589355</td>\n",
       "      <td>0.258545</td>\n",
       "      <td>0.0</td>\n",
       "      <td>-999.0</td>\n",
       "      <td>0.0</td>\n",
       "    </tr>\n",
       "    <tr>\n",
       "      <td>3</td>\n",
       "      <td>86499.0</td>\n",
       "      <td>50.0</td>\n",
       "      <td>4.0</td>\n",
       "      <td>18132.0</td>\n",
       "      <td>567.0</td>\n",
       "      <td>150.0</td>\n",
       "      <td>3.0</td>\n",
       "      <td>117.0</td>\n",
       "      <td>3.0</td>\n",
       "      <td>476.0</td>\n",
       "      <td>...</td>\n",
       "      <td>824959.0</td>\n",
       "      <td>17455.0</td>\n",
       "      <td>956415.0</td>\n",
       "      <td>0.405029</td>\n",
       "      <td>0.377686</td>\n",
       "      <td>0.259521</td>\n",
       "      <td>0.196899</td>\n",
       "      <td>0.0</td>\n",
       "      <td>-999.0</td>\n",
       "      <td>0.0</td>\n",
       "    </tr>\n",
       "    <tr>\n",
       "      <td>4</td>\n",
       "      <td>86506.0</td>\n",
       "      <td>50.0</td>\n",
       "      <td>1.0</td>\n",
       "      <td>4497.0</td>\n",
       "      <td>514.0</td>\n",
       "      <td>150.0</td>\n",
       "      <td>3.0</td>\n",
       "      <td>102.0</td>\n",
       "      <td>2.0</td>\n",
       "      <td>420.0</td>\n",
       "      <td>...</td>\n",
       "      <td>267648.0</td>\n",
       "      <td>7107.0</td>\n",
       "      <td>956415.0</td>\n",
       "      <td>0.515625</td>\n",
       "      <td>0.377686</td>\n",
       "      <td>0.882812</td>\n",
       "      <td>0.196899</td>\n",
       "      <td>1.0</td>\n",
       "      <td>0.0</td>\n",
       "      <td>64.0</td>\n",
       "    </tr>\n",
       "  </tbody>\n",
       "</table>\n",
       "<p>5 rows × 365 columns</p>\n",
       "</div>"
      ],
      "text/plain": [
       "       0     1    2        3      4      5    6      7    8      9    ...  \\\n",
       "0  86400.0  68.5  4.0  13926.0 -999.0  150.0  2.0  142.0  2.0  315.0  ...   \n",
       "1  86401.0  29.0  4.0   2755.0  404.0  150.0  3.0  102.0  2.0  325.0  ...   \n",
       "2  86469.0  59.0  4.0   4663.0  490.0  150.0  4.0  166.0  3.0  330.0  ...   \n",
       "3  86499.0  50.0  4.0  18132.0  567.0  150.0  3.0  117.0  3.0  476.0  ...   \n",
       "4  86506.0  50.0  1.0   4497.0  514.0  150.0  3.0  102.0  2.0  420.0  ...   \n",
       "\n",
       "        355      356       357       358       359       360       361  362  \\\n",
       "0  267648.0  43035.0  956415.0  0.194580  0.257812  0.000000  0.000000  0.0   \n",
       "1  267648.0  76902.0  956415.0  0.123779  0.219116  0.000000  0.114258  0.0   \n",
       "2  824959.0  48387.0  956415.0  0.608398  0.443115  0.589355  0.258545  0.0   \n",
       "3  824959.0  17455.0  956415.0  0.405029  0.377686  0.259521  0.196899  0.0   \n",
       "4  267648.0   7107.0  956415.0  0.515625  0.377686  0.882812  0.196899  1.0   \n",
       "\n",
       "     363   364  \n",
       "0 -999.0   0.0  \n",
       "1 -999.0   0.0  \n",
       "2 -999.0   0.0  \n",
       "3 -999.0   0.0  \n",
       "4    0.0  64.0  \n",
       "\n",
       "[5 rows x 365 columns]"
      ]
     },
     "execution_count": 78,
     "metadata": {},
     "output_type": "execute_result"
    }
   ],
   "source": [
    "pd.DataFrame(X_resampled).head()"
   ]
  },
  {
   "cell_type": "code",
   "execution_count": 75,
   "metadata": {},
   "outputs": [
    {
     "ename": "AttributeError",
     "evalue": "'numpy.ndarray' object has no attribute 'head'",
     "output_type": "error",
     "traceback": [
      "\u001b[0;31m---------------------------------------------------------------------------\u001b[0m",
      "\u001b[0;31mAttributeError\u001b[0m                            Traceback (most recent call last)",
      "\u001b[0;32m<ipython-input-75-8cee9343db9f>\u001b[0m in \u001b[0;36m<module>\u001b[0;34m\u001b[0m\n\u001b[0;32m----> 1\u001b[0;31m \u001b[0mX_resampled\u001b[0m\u001b[0;34m.\u001b[0m\u001b[0mhead\u001b[0m\u001b[0;34m(\u001b[0m\u001b[0;34m)\u001b[0m\u001b[0;34m\u001b[0m\u001b[0;34m\u001b[0m\u001b[0m\n\u001b[0m",
      "\u001b[0;31mAttributeError\u001b[0m: 'numpy.ndarray' object has no attribute 'head'"
     ]
    }
   ],
   "source": [
    "X_resampled.head()"
   ]
  },
  {
   "cell_type": "code",
   "execution_count": 64,
   "metadata": {},
   "outputs": [
    {
     "data": {
      "text/plain": [
       "'/home/etture2/ybigta_first_proj/Models'"
      ]
     },
     "execution_count": 64,
     "metadata": {},
     "output_type": "execute_result"
    }
   ],
   "source": [
    "pwd"
   ]
  },
  {
   "cell_type": "code",
   "execution_count": 65,
   "metadata": {},
   "outputs": [],
   "source": [
    "# Initialize submission DataFrame\n",
    "sample_submission = pd.read_csv('../../Data/original/sample_submission.csv')\n",
    "lgb_submission = sample_submission.copy()\n",
    "lgb_submission['isFraud'] = 0\n"
   ]
  },
  {
   "cell_type": "code",
   "execution_count": 67,
   "metadata": {},
   "outputs": [],
   "source": [
    "import time"
   ]
  },
  {
   "cell_type": "code",
   "execution_count": 81,
   "metadata": {},
   "outputs": [
    {
     "name": "stdout",
     "output_type": "stream",
     "text": [
      "Fold 0 started..., Time: 2019-8-24 7:7:20\n",
      "Training until validation scores don't improve for 50 rounds.\n",
      "[100]\tvalid_0's auc: 0.991511\n",
      "[200]\tvalid_0's auc: 0.995394\n",
      "[300]\tvalid_0's auc: 0.996467\n",
      "[400]\tvalid_0's auc: 0.996987\n",
      "[500]\tvalid_0's auc: 0.99727\n",
      "[600]\tvalid_0's auc: 0.997506\n",
      "[700]\tvalid_0's auc: 0.997724\n",
      "[800]\tvalid_0's auc: 0.997887\n",
      "[900]\tvalid_0's auc: 0.998033\n",
      "[1000]\tvalid_0's auc: 0.998165\n",
      "Did not meet early stopping. Best iteration is:\n",
      "[1000]\tvalid_0's auc: 0.998165\n",
      "Completed, Time elapsed: 262.58616161346436 seconds\n",
      "ROC accuracy: 0.998165004087519\n",
      "-------------------------------------------------------\n",
      "Fold 1 started..., Time: 2019-8-24 7:11:43\n"
     ]
    },
    {
     "name": "stderr",
     "output_type": "stream",
     "text": [
      "/home/etture2/.local/lib/python3.6/site-packages/lightgbm/engine.py:118: UserWarning: Found `n_estimators` in params. Will use it instead of argument\n",
      "  warnings.warn(\"Found `{}` in params. Will use it instead of argument\".format(alias))\n"
     ]
    },
    {
     "name": "stdout",
     "output_type": "stream",
     "text": [
      "Training until validation scores don't improve for 50 rounds.\n",
      "[100]\tvalid_0's auc: 0.991786\n",
      "[200]\tvalid_0's auc: 0.995453\n",
      "[300]\tvalid_0's auc: 0.996509\n",
      "[400]\tvalid_0's auc: 0.997014\n",
      "[500]\tvalid_0's auc: 0.997301\n",
      "[600]\tvalid_0's auc: 0.997558\n",
      "[700]\tvalid_0's auc: 0.99775\n",
      "[800]\tvalid_0's auc: 0.997907\n",
      "[900]\tvalid_0's auc: 0.998058\n",
      "[1000]\tvalid_0's auc: 0.99818\n",
      "Did not meet early stopping. Best iteration is:\n",
      "[1000]\tvalid_0's auc: 0.99818\n",
      "Completed, Time elapsed: 262.4127674102783 seconds\n",
      "ROC accuracy: 0.9981800555666802\n",
      "-------------------------------------------------------\n",
      "Fold 2 started..., Time: 2019-8-24 7:16:6\n"
     ]
    },
    {
     "name": "stderr",
     "output_type": "stream",
     "text": [
      "/home/etture2/.local/lib/python3.6/site-packages/lightgbm/engine.py:118: UserWarning: Found `n_estimators` in params. Will use it instead of argument\n",
      "  warnings.warn(\"Found `{}` in params. Will use it instead of argument\".format(alias))\n"
     ]
    },
    {
     "name": "stdout",
     "output_type": "stream",
     "text": [
      "Training until validation scores don't improve for 50 rounds.\n",
      "[100]\tvalid_0's auc: 0.991644\n",
      "[200]\tvalid_0's auc: 0.995292\n",
      "[300]\tvalid_0's auc: 0.996355\n",
      "[400]\tvalid_0's auc: 0.996849\n",
      "[500]\tvalid_0's auc: 0.997187\n",
      "[600]\tvalid_0's auc: 0.997413\n",
      "[700]\tvalid_0's auc: 0.997587\n",
      "[800]\tvalid_0's auc: 0.997748\n",
      "[900]\tvalid_0's auc: 0.997917\n",
      "[1000]\tvalid_0's auc: 0.998072\n",
      "Did not meet early stopping. Best iteration is:\n",
      "[1000]\tvalid_0's auc: 0.998072\n",
      "Completed, Time elapsed: 266.0423758029938 seconds\n",
      "ROC accuracy: 0.9980723293135798\n",
      "-------------------------------------------------------\n",
      "Fold 3 started..., Time: 2019-8-24 7:20:32\n"
     ]
    },
    {
     "name": "stderr",
     "output_type": "stream",
     "text": [
      "/home/etture2/.local/lib/python3.6/site-packages/lightgbm/engine.py:118: UserWarning: Found `n_estimators` in params. Will use it instead of argument\n",
      "  warnings.warn(\"Found `{}` in params. Will use it instead of argument\".format(alias))\n"
     ]
    },
    {
     "name": "stdout",
     "output_type": "stream",
     "text": [
      "Training until validation scores don't improve for 50 rounds.\n",
      "[100]\tvalid_0's auc: 0.991651\n",
      "[200]\tvalid_0's auc: 0.995318\n",
      "[300]\tvalid_0's auc: 0.996439\n",
      "[400]\tvalid_0's auc: 0.996962\n",
      "[500]\tvalid_0's auc: 0.997285\n",
      "[600]\tvalid_0's auc: 0.997505\n",
      "[700]\tvalid_0's auc: 0.997717\n",
      "[800]\tvalid_0's auc: 0.99788\n",
      "[900]\tvalid_0's auc: 0.998028\n",
      "[1000]\tvalid_0's auc: 0.998158\n",
      "Did not meet early stopping. Best iteration is:\n",
      "[1000]\tvalid_0's auc: 0.998158\n",
      "Completed, Time elapsed: 259.89632201194763 seconds\n",
      "ROC accuracy: 0.9981575069900496\n",
      "-------------------------------------------------------\n",
      "Fold 4 started..., Time: 2019-8-24 7:24:52\n"
     ]
    },
    {
     "name": "stderr",
     "output_type": "stream",
     "text": [
      "/home/etture2/.local/lib/python3.6/site-packages/lightgbm/engine.py:118: UserWarning: Found `n_estimators` in params. Will use it instead of argument\n",
      "  warnings.warn(\"Found `{}` in params. Will use it instead of argument\".format(alias))\n"
     ]
    },
    {
     "name": "stdout",
     "output_type": "stream",
     "text": [
      "Training until validation scores don't improve for 50 rounds.\n",
      "[100]\tvalid_0's auc: 0.991788\n",
      "[200]\tvalid_0's auc: 0.99531\n",
      "[300]\tvalid_0's auc: 0.996412\n",
      "[400]\tvalid_0's auc: 0.996906\n",
      "[500]\tvalid_0's auc: 0.997219\n",
      "[600]\tvalid_0's auc: 0.997446\n",
      "[700]\tvalid_0's auc: 0.997655\n",
      "[800]\tvalid_0's auc: 0.997815\n",
      "[900]\tvalid_0's auc: 0.997944\n",
      "[1000]\tvalid_0's auc: 0.998078\n",
      "Did not meet early stopping. Best iteration is:\n",
      "[1000]\tvalid_0's auc: 0.998078\n",
      "Completed, Time elapsed: 260.17385149002075 seconds\n",
      "ROC accuracy: 0.9980782373135\n",
      "-------------------------------------------------------\n",
      "Done.\n"
     ]
    }
   ],
   "source": [
    "# If using GPU, set this option to True\n",
    "gpu_enabled = False\n",
    "\n",
    "params = {\n",
    "    'boosting_type': 'gbdt',\n",
    "    'objective': 'binary',\n",
    "    'n_estimators': 1000,\n",
    "    'colsample_bytree': 0.85,\n",
    "    'subsample_freq': 1,\n",
    "    'subsample': 0.85,\n",
    "    'max_bin': 255,\n",
    "    'metric': 'auc',\n",
    "    'n_jobs': -1,\n",
    "    'num_leaves': 2**8,\n",
    "    'max_depth': 10,\n",
    "    'tree_learner': 'serial',\n",
    "    'learning_rate': 0.05,\n",
    "    'bagging_fraction': 0.8,\n",
    "    'bagging_freq': 5,\n",
    "    'verbose': 0,\n",
    "    'reg_alpha': 0.3,\n",
    "    'reg_lambda': 0.243\n",
    "}\n",
    "\n",
    "if gpu_enabled:\n",
    "    params.update({\n",
    "        'device': 'gpu',\n",
    "        'gpu_platform_id': 0,\n",
    "        'gpu_device_id': 0\n",
    "    })\n",
    "    \n",
    "params['learning_rate'] = 0.02\n",
    "params['max_depth'] = 8\n",
    "params['num_leaves'] = 128\n",
    "params['colsample_bytree'] = 0.7\n",
    "params['subsample'] = 0.9\n",
    "params['reg_alpha'] = 0.45\n",
    "params['reg_lambda'] = 0.4\n",
    "\n",
    "X_resampled_ = pd.DataFrame(X_resampled)\n",
    "y_resampled_ = pd.DataFrame(y_resampled)\n",
    "# for fold_n, (train_index, valid_index) in enumerate(folds.split(X_resampled)):    \n",
    "for fold_n, (train_index, valid_index) in enumerate(folds.split(X_resampled_)):    \n",
    "    # Print current iteration information\n",
    "    start = time.time()\n",
    "    now = time.localtime(start)\n",
    "    print('Fold {} started..., Time: {yy}-{mm}-{dd} {hh}:{MM}:{ss}'.format(fold_n, yy=now.tm_year, mm=now.tm_mon, dd=now.tm_mday, hh=now.tm_hour, MM=now.tm_min, ss=now.tm_sec))\n",
    "    \n",
    "    X_train_, X_valid = X_resampled_.iloc[train_index], X_resampled_.iloc[valid_index]\n",
    "    y_train_, y_valid = y_resampled_.iloc[train_index], y_resampled_.iloc[valid_index]\n",
    "    \n",
    "    lgb_train = lgb.Dataset(X_train_, label=y_train_)\n",
    "    lgb_test = lgb.Dataset(X_valid, label=y_valid)\n",
    "    \n",
    "    lgb_estimator = lgb.train(\n",
    "        params,\n",
    "        lgb_train,\n",
    "        valid_sets = [lgb_test],\n",
    "        verbose_eval=100,\n",
    "        early_stopping_rounds=50\n",
    "    )\n",
    "    \n",
    "    del X_train_, y_train_\n",
    "    \n",
    "    pred = lgb_estimator.predict(X_test)\n",
    "    val = lgb_estimator.predict(X_valid)\n",
    "    \n",
    "    # Measure time elapsed\n",
    "    now = time.time()\n",
    "    time_elapsed = now - start\n",
    "    print('Completed, Time elapsed: {} seconds'.format(time_elapsed))\n",
    "    \n",
    "    print('ROC accuracy: {}'.format(roc_auc_score(y_valid, val)))\n",
    "    \n",
    "    del val, y_valid\n",
    "    \n",
    "    lgb_submission['isFraud'] = lgb_submission['isFraud'] + pred/n_fold\n",
    "    \n",
    "    del pred\n",
    "    gc.collect()\n",
    "    \n",
    "    print('-------------------------------------------------------')\n",
    "    \n",
    "print('Done.')"
   ]
  },
  {
   "cell_type": "code",
   "execution_count": 85,
   "metadata": {},
   "outputs": [
    {
     "data": {
      "text/plain": [
       "'/home/etture2/ybigta_first_proj/Models'"
      ]
     },
     "execution_count": 85,
     "metadata": {},
     "output_type": "execute_result"
    }
   ],
   "source": [
    "pwd"
   ]
  },
  {
   "cell_type": "code",
   "execution_count": 86,
   "metadata": {},
   "outputs": [
    {
     "data": {
      "text/html": [
       "<div>\n",
       "<style scoped>\n",
       "    .dataframe tbody tr th:only-of-type {\n",
       "        vertical-align: middle;\n",
       "    }\n",
       "\n",
       "    .dataframe tbody tr th {\n",
       "        vertical-align: top;\n",
       "    }\n",
       "\n",
       "    .dataframe thead th {\n",
       "        text-align: right;\n",
       "    }\n",
       "</style>\n",
       "<table border=\"1\" class=\"dataframe\">\n",
       "  <thead>\n",
       "    <tr style=\"text-align: right;\">\n",
       "      <th></th>\n",
       "      <th>TransactionID</th>\n",
       "      <th>isFraud</th>\n",
       "    </tr>\n",
       "  </thead>\n",
       "  <tbody>\n",
       "    <tr>\n",
       "      <td>0</td>\n",
       "      <td>3663549</td>\n",
       "      <td>0.004235</td>\n",
       "    </tr>\n",
       "    <tr>\n",
       "      <td>1</td>\n",
       "      <td>3663550</td>\n",
       "      <td>0.006467</td>\n",
       "    </tr>\n",
       "    <tr>\n",
       "      <td>2</td>\n",
       "      <td>3663551</td>\n",
       "      <td>0.004909</td>\n",
       "    </tr>\n",
       "    <tr>\n",
       "      <td>3</td>\n",
       "      <td>3663552</td>\n",
       "      <td>0.004498</td>\n",
       "    </tr>\n",
       "    <tr>\n",
       "      <td>4</td>\n",
       "      <td>3663553</td>\n",
       "      <td>0.007498</td>\n",
       "    </tr>\n",
       "  </tbody>\n",
       "</table>\n",
       "</div>"
      ],
      "text/plain": [
       "   TransactionID   isFraud\n",
       "0        3663549  0.004235\n",
       "1        3663550  0.006467\n",
       "2        3663551  0.004909\n",
       "3        3663552  0.004498\n",
       "4        3663553  0.007498"
      ]
     },
     "execution_count": 86,
     "metadata": {},
     "output_type": "execute_result"
    }
   ],
   "source": [
    "dir_name = 'submission'\n",
    "lgb_submission.to_csv('./{directory}/sub_lightgbm_smote.csv'.format(directory=dir_name), index=False)\n",
    "lgb_submission.head()"
   ]
  },
  {
   "cell_type": "code",
   "execution_count": null,
   "metadata": {},
   "outputs": [],
   "source": []
  }
 ],
 "metadata": {
  "kernelspec": {
   "display_name": "Python 3",
   "language": "python",
   "name": "python3"
  },
  "language_info": {
   "codemirror_mode": {
    "name": "ipython",
    "version": 3
   },
   "file_extension": ".py",
   "mimetype": "text/x-python",
   "name": "python",
   "nbconvert_exporter": "python",
   "pygments_lexer": "ipython3",
   "version": "3.6.8"
  }
 },
 "nbformat": 4,
 "nbformat_minor": 2
}
