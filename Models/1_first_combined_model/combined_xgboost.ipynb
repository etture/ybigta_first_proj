{
 "cells": [
  {
   "cell_type": "code",
   "execution_count": 1,
   "metadata": {},
   "outputs": [],
   "source": [
    "import os\n",
    "import gc\n",
    "import sys\n",
    "import time\n",
    "\n",
    "import pandas as pd\n",
    "import numpy as np\n",
    "from sklearn.model_selection import TimeSeriesSplit, KFold\n",
    "from sklearn.metrics import roc_auc_score\n",
    "from sklearn import preprocessing\n",
    "import xgboost as xgb"
   ]
  },
  {
   "cell_type": "code",
   "execution_count": 2,
   "metadata": {},
   "outputs": [],
   "source": [
    "def reduce_mem_usage(df, verbose=True):\n",
    "    numerics = ['int16', 'int32', 'int64', 'float16', 'float32', 'float64']\n",
    "    start_mem = df.memory_usage().sum() / 1024**2    \n",
    "    for col in df.columns:\n",
    "        col_type = df[col].dtypes\n",
    "        if col_type in numerics:\n",
    "            c_min = df[col].min()\n",
    "            c_max = df[col].max()\n",
    "            if str(col_type)[:3] == 'int':\n",
    "                if c_min > np.iinfo(np.int8).min and c_max < np.iinfo(np.int8).max:\n",
    "                    df[col] = df[col].astype(np.int8)\n",
    "                elif c_min > np.iinfo(np.int16).min and c_max < np.iinfo(np.int16).max:\n",
    "                    df[col] = df[col].astype(np.int16)\n",
    "                elif c_min > np.iinfo(np.int32).min and c_max < np.iinfo(np.int32).max:\n",
    "                    df[col] = df[col].astype(np.int32)\n",
    "                elif c_min > np.iinfo(np.int64).min and c_max < np.iinfo(np.int64).max:\n",
    "                    df[col] = df[col].astype(np.int64)  \n",
    "            else:\n",
    "                if c_min > np.finfo(np.float16).min and c_max < np.finfo(np.float16).max:\n",
    "                    df[col] = df[col].astype(np.float16)\n",
    "                elif c_min > np.finfo(np.float32).min and c_max < np.finfo(np.float32).max:\n",
    "                    df[col] = df[col].astype(np.float32)\n",
    "                else:\n",
    "                    df[col] = df[col].astype(np.float64)    \n",
    "    end_mem = df.memory_usage().sum() / 1024**2\n",
    "    if verbose: print('Mem. usage decreased to {:5.2f} Mb ({:.1f}% reduction)'.format(end_mem, 100 * (start_mem - end_mem) / start_mem))\n",
    "    return df"
   ]
  },
  {
   "cell_type": "code",
   "execution_count": 3,
   "metadata": {},
   "outputs": [],
   "source": [
    "def read_and_reduce(filename):\n",
    "    df = pd.read_csv(filename)\n",
    "    return reduce_mem_usage(df)"
   ]
  },
  {
   "cell_type": "code",
   "execution_count": 4,
   "metadata": {},
   "outputs": [],
   "source": [
    "def merge_and_reduce(df1, df2, how, on):\n",
    "    df = df1.merge(df2, how='left', on=on)\n",
    "    return reduce_mem_usage(df)"
   ]
  },
  {
   "cell_type": "markdown",
   "metadata": {},
   "source": [
    "# Preprocessing"
   ]
  },
  {
   "cell_type": "code",
   "execution_count": 5,
   "metadata": {},
   "outputs": [
    {
     "name": "stdout",
     "output_type": "stream",
     "text": [
      "Mem. usage decreased to 342.98 Mb (70.8% reduction)\n",
      "Mem. usage decreased to 301.53 Mb (70.0% reduction)\n"
     ]
    }
   ],
   "source": [
    "V_cols_train = read_and_reduce('./data/V_cols_train.csv')\n",
    "V_cols_test = read_and_reduce('./data/V_cols_test.csv')"
   ]
  },
  {
   "cell_type": "code",
   "execution_count": 6,
   "metadata": {},
   "outputs": [
    {
     "name": "stdout",
     "output_type": "stream",
     "text": [
      "(590540, 261)\n",
      "(506691, 260)\n"
     ]
    }
   ],
   "source": [
    "print(V_cols_train.shape)\n",
    "print(V_cols_test.shape)"
   ]
  },
  {
   "cell_type": "code",
   "execution_count": 7,
   "metadata": {},
   "outputs": [
    {
     "name": "stdout",
     "output_type": "stream",
     "text": [
      "Mem. usage decreased to 33.79 Mb (53.1% reduction)\n",
      "Mem. usage decreased to 28.99 Mb (53.1% reduction)\n"
     ]
    }
   ],
   "source": [
    "trans_train = read_and_reduce('./data/jinoo_train.csv')\n",
    "trans_test = read_and_reduce('./data/jinoo_test.csv')"
   ]
  },
  {
   "cell_type": "code",
   "execution_count": 8,
   "metadata": {},
   "outputs": [
    {
     "name": "stdout",
     "output_type": "stream",
     "text": [
      "(590540, 16)\n",
      "(506691, 16)\n"
     ]
    }
   ],
   "source": [
    "print(trans_train.shape)\n",
    "print(trans_test.shape)"
   ]
  },
  {
   "cell_type": "code",
   "execution_count": 9,
   "metadata": {},
   "outputs": [
    {
     "data": {
      "text/plain": [
       "Index(['TransactionID', 'card1_count_full', 'card2_count_full',\n",
       "       'card3_count_full', 'card4_count_full', 'card5_count_full',\n",
       "       'card6_count_full', 'addr1_count_full', 'addr2_count_full',\n",
       "       'Transaction_day_of_week', 'Transaction_hour_of_day',\n",
       "       'TransactionAmt_to_mean_card1', 'TransactionAmt_to_mean_card4',\n",
       "       'TransactionAmt_to_std_card1', 'TransactionAmt_to_std_card4',\n",
       "       'emaildomain'],\n",
       "      dtype='object')"
      ]
     },
     "execution_count": 9,
     "metadata": {},
     "output_type": "execute_result"
    }
   ],
   "source": [
    "trans_train.columns"
   ]
  },
  {
   "cell_type": "code",
   "execution_count": 10,
   "metadata": {},
   "outputs": [
    {
     "data": {
      "text/html": [
       "<div>\n",
       "<style scoped>\n",
       "    .dataframe tbody tr th:only-of-type {\n",
       "        vertical-align: middle;\n",
       "    }\n",
       "\n",
       "    .dataframe tbody tr th {\n",
       "        vertical-align: top;\n",
       "    }\n",
       "\n",
       "    .dataframe thead th {\n",
       "        text-align: right;\n",
       "    }\n",
       "</style>\n",
       "<table border=\"1\" class=\"dataframe\">\n",
       "  <thead>\n",
       "    <tr style=\"text-align: right;\">\n",
       "      <th></th>\n",
       "      <th>TransactionID</th>\n",
       "      <th>card1_count_full</th>\n",
       "      <th>card2_count_full</th>\n",
       "      <th>card3_count_full</th>\n",
       "      <th>card4_count_full</th>\n",
       "      <th>card5_count_full</th>\n",
       "      <th>card6_count_full</th>\n",
       "      <th>addr1_count_full</th>\n",
       "      <th>addr2_count_full</th>\n",
       "      <th>Transaction_day_of_week</th>\n",
       "      <th>Transaction_hour_of_day</th>\n",
       "      <th>TransactionAmt_to_mean_card1</th>\n",
       "      <th>TransactionAmt_to_mean_card4</th>\n",
       "      <th>TransactionAmt_to_std_card1</th>\n",
       "      <th>TransactionAmt_to_std_card4</th>\n",
       "      <th>emaildomain</th>\n",
       "    </tr>\n",
       "  </thead>\n",
       "  <tbody>\n",
       "    <tr>\n",
       "      <th>0</th>\n",
       "      <td>2987000</td>\n",
       "      <td>56</td>\n",
       "      <td>17587</td>\n",
       "      <td>956845</td>\n",
       "      <td>9524</td>\n",
       "      <td>309</td>\n",
       "      <td>267648</td>\n",
       "      <td>43035</td>\n",
       "      <td>956415</td>\n",
       "      <td>0.0</td>\n",
       "      <td>0.0</td>\n",
       "      <td>0.194580</td>\n",
       "      <td>0.257812</td>\n",
       "      <td>0.0000</td>\n",
       "      <td>0.000000</td>\n",
       "      <td>NaN</td>\n",
       "    </tr>\n",
       "    <tr>\n",
       "      <th>1</th>\n",
       "      <td>2987001</td>\n",
       "      <td>1338</td>\n",
       "      <td>5593</td>\n",
       "      <td>956845</td>\n",
       "      <td>347386</td>\n",
       "      <td>49491</td>\n",
       "      <td>267648</td>\n",
       "      <td>76902</td>\n",
       "      <td>956415</td>\n",
       "      <td>0.0</td>\n",
       "      <td>0.0</td>\n",
       "      <td>0.123779</td>\n",
       "      <td>0.219116</td>\n",
       "      <td>0.0000</td>\n",
       "      <td>0.114258</td>\n",
       "      <td>gmail.com</td>\n",
       "    </tr>\n",
       "    <tr>\n",
       "      <th>2</th>\n",
       "      <td>2987002</td>\n",
       "      <td>1794</td>\n",
       "      <td>70496</td>\n",
       "      <td>956845</td>\n",
       "      <td>719649</td>\n",
       "      <td>102930</td>\n",
       "      <td>824959</td>\n",
       "      <td>48387</td>\n",
       "      <td>956415</td>\n",
       "      <td>0.0</td>\n",
       "      <td>0.0</td>\n",
       "      <td>0.608398</td>\n",
       "      <td>0.443115</td>\n",
       "      <td>0.5894</td>\n",
       "      <td>0.258545</td>\n",
       "      <td>outlook.com</td>\n",
       "    </tr>\n",
       "    <tr>\n",
       "      <th>3</th>\n",
       "      <td>2987003</td>\n",
       "      <td>7635</td>\n",
       "      <td>11287</td>\n",
       "      <td>956845</td>\n",
       "      <td>347386</td>\n",
       "      <td>47061</td>\n",
       "      <td>824959</td>\n",
       "      <td>17455</td>\n",
       "      <td>956415</td>\n",
       "      <td>0.0</td>\n",
       "      <td>0.0</td>\n",
       "      <td>0.405029</td>\n",
       "      <td>0.377686</td>\n",
       "      <td>0.2595</td>\n",
       "      <td>0.196899</td>\n",
       "      <td>yahoo.com</td>\n",
       "    </tr>\n",
       "    <tr>\n",
       "      <th>4</th>\n",
       "      <td>2987004</td>\n",
       "      <td>30</td>\n",
       "      <td>27225</td>\n",
       "      <td>956845</td>\n",
       "      <td>347386</td>\n",
       "      <td>49491</td>\n",
       "      <td>267648</td>\n",
       "      <td>7107</td>\n",
       "      <td>956415</td>\n",
       "      <td>0.0</td>\n",
       "      <td>0.0</td>\n",
       "      <td>0.515625</td>\n",
       "      <td>0.377686</td>\n",
       "      <td>0.8830</td>\n",
       "      <td>0.196899</td>\n",
       "      <td>gmail.com</td>\n",
       "    </tr>\n",
       "  </tbody>\n",
       "</table>\n",
       "</div>"
      ],
      "text/plain": [
       "   TransactionID  card1_count_full  card2_count_full  card3_count_full  \\\n",
       "0        2987000                56             17587            956845   \n",
       "1        2987001              1338              5593            956845   \n",
       "2        2987002              1794             70496            956845   \n",
       "3        2987003              7635             11287            956845   \n",
       "4        2987004                30             27225            956845   \n",
       "\n",
       "   card4_count_full  card5_count_full  card6_count_full  addr1_count_full  \\\n",
       "0              9524               309            267648             43035   \n",
       "1            347386             49491            267648             76902   \n",
       "2            719649            102930            824959             48387   \n",
       "3            347386             47061            824959             17455   \n",
       "4            347386             49491            267648              7107   \n",
       "\n",
       "   addr2_count_full  Transaction_day_of_week  Transaction_hour_of_day  \\\n",
       "0            956415                      0.0                      0.0   \n",
       "1            956415                      0.0                      0.0   \n",
       "2            956415                      0.0                      0.0   \n",
       "3            956415                      0.0                      0.0   \n",
       "4            956415                      0.0                      0.0   \n",
       "\n",
       "   TransactionAmt_to_mean_card1  TransactionAmt_to_mean_card4  \\\n",
       "0                      0.194580                      0.257812   \n",
       "1                      0.123779                      0.219116   \n",
       "2                      0.608398                      0.443115   \n",
       "3                      0.405029                      0.377686   \n",
       "4                      0.515625                      0.377686   \n",
       "\n",
       "   TransactionAmt_to_std_card1  TransactionAmt_to_std_card4  emaildomain  \n",
       "0                       0.0000                     0.000000          NaN  \n",
       "1                       0.0000                     0.114258    gmail.com  \n",
       "2                       0.5894                     0.258545  outlook.com  \n",
       "3                       0.2595                     0.196899    yahoo.com  \n",
       "4                       0.8830                     0.196899    gmail.com  "
      ]
     },
     "execution_count": 10,
     "metadata": {},
     "output_type": "execute_result"
    }
   ],
   "source": [
    "trans_train.head()"
   ]
  },
  {
   "cell_type": "code",
   "execution_count": 11,
   "metadata": {},
   "outputs": [
    {
     "name": "stdout",
     "output_type": "stream",
     "text": [
      "Mem. usage decreased to 379.02 Mb (0.0% reduction)\n",
      "Mem. usage decreased to 332.45 Mb (0.0% reduction)\n"
     ]
    }
   ],
   "source": [
    "train = merge_and_reduce(V_cols_train, trans_train, how='left', on='TransactionID')\n",
    "test = merge_and_reduce(V_cols_test, trans_test, how='left', on='TransactionID')"
   ]
  },
  {
   "cell_type": "code",
   "execution_count": 12,
   "metadata": {},
   "outputs": [
    {
     "name": "stdout",
     "output_type": "stream",
     "text": [
      "(590540, 276)\n",
      "(506691, 275)\n"
     ]
    }
   ],
   "source": [
    "print(train.shape)\n",
    "print(test.shape)"
   ]
  },
  {
   "cell_type": "markdown",
   "metadata": {},
   "source": [
    "# XGBoost"
   ]
  },
  {
   "cell_type": "code",
   "execution_count": 13,
   "metadata": {},
   "outputs": [],
   "source": [
    "y_train = train['isFraud'].copy()"
   ]
  },
  {
   "cell_type": "code",
   "execution_count": 14,
   "metadata": {},
   "outputs": [],
   "source": [
    "X_train = train.drop('isFraud', axis=1)\n",
    "X_test = test.copy()"
   ]
  },
  {
   "cell_type": "code",
   "execution_count": 15,
   "metadata": {},
   "outputs": [],
   "source": [
    "# Fill numeric columns' NaN values with mean\n",
    "for c in X_train.columns:\n",
    "    if X_train[c].dtype=='float16' or  X_train[c].dtype=='float32' or  X_train[c].dtype=='float64':\n",
    "        X_train[c].fillna(X_train[c].mean())\n",
    "        X_test[c].fillna(X_train[c].mean())"
   ]
  },
  {
   "cell_type": "code",
   "execution_count": 16,
   "metadata": {},
   "outputs": [],
   "source": [
    "# Fill categorical columns' NaN values with placeholder (-999)\n",
    "X_train = X_train.fillna(-999)\n",
    "X_test = X_test.fillna(-999)"
   ]
  },
  {
   "cell_type": "code",
   "execution_count": 17,
   "metadata": {},
   "outputs": [],
   "source": [
    "# Label-Encode categorical columns\n",
    "for f in X_train.columns:\n",
    "    if X_train[f].dtype=='object' or X_test[f].dtype=='object': \n",
    "        lbl = preprocessing.LabelEncoder()\n",
    "        lbl.fit(list(X_train[f].values) + list(X_test[f].values))\n",
    "        X_train[f] = lbl.transform(list(X_train[f].values))\n",
    "        X_test[f] = lbl.transform(list(X_test[f].values))"
   ]
  },
  {
   "cell_type": "code",
   "execution_count": 18,
   "metadata": {},
   "outputs": [
    {
     "name": "stdout",
     "output_type": "stream",
     "text": [
      "KFold(n_splits=4, random_state=None, shuffle=True)\n"
     ]
    }
   ],
   "source": [
    "# Set up K-Fold\n",
    "n_fold = 4\n",
    "folds = KFold(n_splits=n_fold, shuffle=True)\n",
    "\n",
    "print(folds)"
   ]
  },
  {
   "cell_type": "code",
   "execution_count": 19,
   "metadata": {},
   "outputs": [],
   "source": [
    "# Initialize submission DataFrame\n",
    "sample_submission = pd.read_csv('../../../Data/sample_submission.csv')\n",
    "xgb_submission = sample_submission.copy()\n",
    "xgb_submission['isFraud'] = 0"
   ]
  },
  {
   "cell_type": "code",
   "execution_count": 30,
   "metadata": {},
   "outputs": [
    {
     "name": "stdout",
     "output_type": "stream",
     "text": [
      "XGBoost --> Tree method: gpu_hist, Fold_N: 4\n",
      "-------------------------------------------------------\n",
      "Fold 0 started..., Time: 2019-8-16 2:0:40\n",
      "Completed, Time elapsed: 1185.2291111946106 seconds\n",
      "ROC accuracy: 0.9508000309204723\n",
      "-------------------------------------------------------\n",
      "Fold 1 started..., Time: 2019-8-16 2:20:26\n",
      "Completed, Time elapsed: 1178.115707874298 seconds\n",
      "ROC accuracy: 0.9513864145943742\n",
      "-------------------------------------------------------\n",
      "Fold 2 started..., Time: 2019-8-16 2:40:4\n",
      "Completed, Time elapsed: 1175.2693135738373 seconds\n",
      "ROC accuracy: 0.9528751751794307\n",
      "-------------------------------------------------------\n"
     ]
    }
   ],
   "source": [
    "# auto, exact, approx, hist, gpu_hist (https://xgboost.readthedocs.io/en/latest/parameter.html)\n",
    "tree_method = 'gpu_hist'\n",
    "print('XGBoost --> Tree method: {}, Fold_N: {}'.format(tree_method, n_fold))\n",
    "print('-------------------------------------------------------')\n",
    "\n",
    "# Set timezone\n",
    "os.environ['TZ'] = 'Asia/Seoul'\n",
    "time.tzset()\n",
    "\n",
    "# Execute K-Fold XGBoost\n",
    "for fold_n, (train_index, valid_index) in enumerate(folds.split(X_train)):\n",
    "    xgbclf = xgb.XGBClassifier(\n",
    "        n_estimators=1000,\n",
    "        max_depth=8,\n",
    "        learning_rate=0.048,\n",
    "        subsample=0.85,\n",
    "        colsample_bytree=0.85,\n",
    "        missing=-999,\n",
    "        tree_method=tree_method,\n",
    "        reg_alpha=0.15,\n",
    "        reg_lamdba=0.85\n",
    "    )\n",
    "\n",
    "    # Print current iteration information\n",
    "    start = time.time()\n",
    "    now = time.localtime(start)\n",
    "    print('Fold {} started..., Time: {yy}-{mm}-{dd} {hh}:{MM}:{ss}'.format(fold_n, yy=now.tm_year, mm=now.tm_mon, dd=now.tm_mday, hh=now.tm_hour, MM=now.tm_min, ss=now.tm_sec))\n",
    "    \n",
    "    X_train_, X_valid = X_train.iloc[train_index], X_train.iloc[valid_index]\n",
    "    y_train_, y_valid = y_train.iloc[train_index], y_train.iloc[valid_index]\n",
    "    xgbclf.fit(X_train_,y_train_)\n",
    "    del X_train_,y_train_\n",
    "    pred=xgbclf.predict_proba(X_test)[:,1]\n",
    "    val=xgbclf.predict_proba(X_valid)[:,1]\n",
    "    del xgbclf, X_valid\n",
    "    \n",
    "    # Measure time elapsed\n",
    "    now = time.time()\n",
    "    time_elapsed = now - start\n",
    "    print('Completed, Time elapsed: {} seconds'.format(time_elapsed))\n",
    "    \n",
    "    print('ROC accuracy: {}'.format(roc_auc_score(y_valid, val)))\n",
    "    del val,y_valid\n",
    "    xgb_submission['isFraud'] = xgb_submission['isFraud']+pred/n_fold\n",
    "    del pred\n",
    "    gc.collect()\n",
    "    \n",
    "    print('-------------------------------------------------------')"
   ]
  },
  {
   "cell_type": "code",
   "execution_count": 34,
   "metadata": {},
   "outputs": [
    {
     "data": {
      "text/html": [
       "<div>\n",
       "<style scoped>\n",
       "    .dataframe tbody tr th:only-of-type {\n",
       "        vertical-align: middle;\n",
       "    }\n",
       "\n",
       "    .dataframe tbody tr th {\n",
       "        vertical-align: top;\n",
       "    }\n",
       "\n",
       "    .dataframe thead th {\n",
       "        text-align: right;\n",
       "    }\n",
       "</style>\n",
       "<table border=\"1\" class=\"dataframe\">\n",
       "  <thead>\n",
       "    <tr style=\"text-align: right;\">\n",
       "      <th></th>\n",
       "      <th>TransactionID</th>\n",
       "      <th>isFraud</th>\n",
       "    </tr>\n",
       "  </thead>\n",
       "  <tbody>\n",
       "    <tr>\n",
       "      <th>0</th>\n",
       "      <td>3663549</td>\n",
       "      <td>0.000897</td>\n",
       "    </tr>\n",
       "    <tr>\n",
       "      <th>1</th>\n",
       "      <td>3663550</td>\n",
       "      <td>0.006521</td>\n",
       "    </tr>\n",
       "    <tr>\n",
       "      <th>2</th>\n",
       "      <td>3663551</td>\n",
       "      <td>0.000312</td>\n",
       "    </tr>\n",
       "    <tr>\n",
       "      <th>3</th>\n",
       "      <td>3663552</td>\n",
       "      <td>0.003687</td>\n",
       "    </tr>\n",
       "    <tr>\n",
       "      <th>4</th>\n",
       "      <td>3663553</td>\n",
       "      <td>0.000641</td>\n",
       "    </tr>\n",
       "  </tbody>\n",
       "</table>\n",
       "</div>"
      ],
      "text/plain": [
       "   TransactionID   isFraud\n",
       "0        3663549  0.000897\n",
       "1        3663550  0.006521\n",
       "2        3663551  0.000312\n",
       "3        3663552  0.003687\n",
       "4        3663553  0.000641"
      ]
     },
     "execution_count": 34,
     "metadata": {},
     "output_type": "execute_result"
    }
   ],
   "source": [
    "exp_name = 'submission'\n",
    "xgb_submission.to_csv('./{directory}/sub_xgboost.csv'.format(directory=exp_name), index=False)\n",
    "xgb_submission.head()"
   ]
  },
  {
   "cell_type": "code",
   "execution_count": null,
   "metadata": {},
   "outputs": [],
   "source": []
  }
 ],
 "metadata": {
  "kernelspec": {
   "display_name": "Python 3",
   "language": "python",
   "name": "python3"
  },
  "language_info": {
   "codemirror_mode": {
    "name": "ipython",
    "version": 3
   },
   "file_extension": ".py",
   "mimetype": "text/x-python",
   "name": "python",
   "nbconvert_exporter": "python",
   "pygments_lexer": "ipython3",
   "version": "3.6.8"
  }
 },
 "nbformat": 4,
 "nbformat_minor": 2
}
