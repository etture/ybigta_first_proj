{
 "cells": [
  {
   "cell_type": "code",
   "execution_count": 93,
   "metadata": {},
   "outputs": [],
   "source": [
    "import os\n",
    "import gc\n",
    "import sys\n",
    "sys.path.append(\"../..\")\n",
    "import time\n",
    "\n",
    "import pandas as pd\n",
    "import numpy as np\n",
    "from sklearn.model_selection import TimeSeriesSplit, KFold\n",
    "from sklearn.metrics import roc_auc_score, f1_score\n",
    "from sklearn import preprocessing\n",
    "import xgboost as xgb\n",
    "\n",
    "from Other.utils.ReduceMem import read_and_reduce, merge_and_reduce"
   ]
  },
  {
   "cell_type": "code",
   "execution_count": 22,
   "metadata": {},
   "outputs": [],
   "source": [
    "def check_and_drop_column(df, column):\n",
    "    if column in df.columns:\n",
    "        df.drop(columns=[column], axis=1, inplace=True)"
   ]
  },
  {
   "cell_type": "code",
   "execution_count": 42,
   "metadata": {},
   "outputs": [],
   "source": [
    "def print_columns(df):\n",
    "    s = ''\n",
    "    for col in df.columns:\n",
    "        s += '\"%s\", ' % col\n",
    "    print(s[:-2])"
   ]
  },
  {
   "cell_type": "markdown",
   "metadata": {},
   "source": [
    "# Preprocessing"
   ]
  },
  {
   "cell_type": "code",
   "execution_count": 49,
   "metadata": {},
   "outputs": [
    {
     "name": "stdout",
     "output_type": "stream",
     "text": [
      "Mem. usage decreased to 342.98 Mb (70.8% reduction)\n",
      "Mem. usage decreased to 301.53 Mb (70.0% reduction)\n"
     ]
    }
   ],
   "source": [
    "V_cols_train = read_and_reduce('../data/V_cols_train.csv')\n",
    "V_cols_test = read_and_reduce('../data/V_cols_test.csv')"
   ]
  },
  {
   "cell_type": "code",
   "execution_count": 3,
   "metadata": {
    "scrolled": true
   },
   "outputs": [
    {
     "name": "stdout",
     "output_type": "stream",
     "text": [
      "(590540, 261)\n",
      "(506691, 260)\n"
     ]
    }
   ],
   "source": [
    "print(V_cols_train.shape)\n",
    "print(V_cols_test.shape)"
   ]
  },
  {
   "cell_type": "code",
   "execution_count": 4,
   "metadata": {},
   "outputs": [
    {
     "name": "stdout",
     "output_type": "stream",
     "text": [
      "Mem. usage decreased to 33.79 Mb (53.1% reduction)\n",
      "Mem. usage decreased to 28.99 Mb (53.1% reduction)\n"
     ]
    }
   ],
   "source": [
    "trans_train = read_and_reduce('../data/jinoo_train.csv')\n",
    "trans_test = read_and_reduce('../data/jinoo_test.csv')"
   ]
  },
  {
   "cell_type": "code",
   "execution_count": 5,
   "metadata": {},
   "outputs": [
    {
     "name": "stdout",
     "output_type": "stream",
     "text": [
      "(590540, 16)\n",
      "(506691, 16)\n"
     ]
    }
   ],
   "source": [
    "print(trans_train.shape)\n",
    "print(trans_test.shape)"
   ]
  },
  {
   "cell_type": "code",
   "execution_count": 6,
   "metadata": {},
   "outputs": [
    {
     "data": {
      "text/plain": [
       "Index(['TransactionID', 'card1_count_full', 'card2_count_full',\n",
       "       'card3_count_full', 'card4_count_full', 'card5_count_full',\n",
       "       'card6_count_full', 'addr1_count_full', 'addr2_count_full',\n",
       "       'Transaction_day_of_week', 'Transaction_hour_of_day',\n",
       "       'TransactionAmt_to_mean_card1', 'TransactionAmt_to_mean_card4',\n",
       "       'TransactionAmt_to_std_card1', 'TransactionAmt_to_std_card4',\n",
       "       'emaildomain'],\n",
       "      dtype='object')"
      ]
     },
     "execution_count": 6,
     "metadata": {},
     "output_type": "execute_result"
    }
   ],
   "source": [
    "trans_train.columns"
   ]
  },
  {
   "cell_type": "code",
   "execution_count": 19,
   "metadata": {},
   "outputs": [
    {
     "data": {
      "text/plain": [
       "'/home/jinoo/ybigta/ybigta_first_proj/Models/2_combined_model_2'"
      ]
     },
     "execution_count": 19,
     "metadata": {},
     "output_type": "execute_result"
    }
   ],
   "source": [
    "pwd"
   ]
  },
  {
   "cell_type": "code",
   "execution_count": 20,
   "metadata": {},
   "outputs": [
    {
     "name": "stdout",
     "output_type": "stream",
     "text": [
      "Mem. usage decreased to 542.35 Mb (69.4% reduction)\n",
      "Mem. usage decreased to 25.86 Mb (42.7% reduction)\n",
      "Mem. usage decreased to 472.59 Mb (68.9% reduction)\n",
      "Mem. usage decreased to 25.44 Mb (42.7% reduction)\n"
     ]
    }
   ],
   "source": [
    "# Original data\n",
    "orig_trans_train = read_and_reduce('../../../Data/train_transaction.csv')\n",
    "orig_id_train = read_and_reduce('../../../Data/train_identity.csv')\n",
    "orig_trans_test = read_and_reduce('../../../Data/test_transaction.csv')\n",
    "orig_id_test = read_and_reduce('../../../Data/test_identity.csv')"
   ]
  },
  {
   "cell_type": "code",
   "execution_count": 40,
   "metadata": {},
   "outputs": [],
   "source": [
    "# 원본 데이터 merge\n",
    "orig_train = orig_trans_train.merge(orig_id_train, how='left', on='TransactionID')\n",
    "orig_test = orig_trans_test.merge(orig_id_test, how='left', on='TransactionID')"
   ]
  },
  {
   "cell_type": "code",
   "execution_count": 58,
   "metadata": {},
   "outputs": [],
   "source": [
    "# 민태꺼 V 빼기\n",
    "for col in orig_train.columns:\n",
    "    if str(col)[0] == 'V':\n",
    "        check_and_drop_column(orig_train, col)\n",
    "        \n",
    "for col in orig_test.columns:\n",
    "    if str(col)[0] == 'V':\n",
    "        check_and_drop_column(orig_test, col)"
   ]
  },
  {
   "cell_type": "code",
   "execution_count": 59,
   "metadata": {},
   "outputs": [],
   "source": [
    "# 준형이형꺼 처리\n",
    "#id_30\n",
    "\n",
    "def os(df):\n",
    "    if df == \"-999\":\n",
    "        df = -999\n",
    "    elif \"Windows\" in df:\n",
    "        df = \"Windows\"\n",
    "    elif \"Mac\" in df:\n",
    "        df = \"Mac\"\n",
    "    elif \"iOS\" in df:\n",
    "        df = \"ios\"\n",
    "    elif \"Android\" in df:\n",
    "        df = \"Android\"\n",
    "    else:\n",
    "        df = \"other\"\n",
    "        \n",
    "    return df\n",
    "\n",
    "orig_train[\"id_30\"].fillna(\"-999\", inplace=True)\n",
    "orig_train[\"OS\"] = orig_train[\"id_30\"].apply(os)\n",
    "\n",
    "orig_test[\"id_30\"].fillna(\"-999\", inplace=True)\n",
    "orig_test[\"OS\"] = orig_test[\"id_30\"].apply(os)\n",
    "\n",
    "#id_31 \n",
    "# latest 여부 / 브라우저 col 생성\n",
    "latest_browser_list = [\"samsung browser 7.0\",\n",
    "                  \"opera 53.0\",\n",
    "                  \"mobile safari 10.0\",\n",
    "                  \"google search application 49.0\",\n",
    "                  \"firefox 60.0\",\n",
    "                  \"edge 17.0\",\n",
    "                  \"chrome 69.0\", \n",
    "                  \"chrome 67.0 for android\",\n",
    "                  \"chrome 63.0 for android\",\n",
    "                  \"chrome 63.0 for ios\",\n",
    "                  \"chrome 64.0\",\n",
    "                  \"chrome 64.0 for android\",\n",
    "                  \"chrome 64.0 for ios\",\n",
    "                  \"chrome 65.0\",\n",
    "                  \"chrome 65.0 for android\",\n",
    "                  \"chrome 65.0 for ios\",\n",
    "                  \"chrome 66.0\",\n",
    "                  \"chrome 66.0 for android\",\n",
    "                  \"chrome 66.0 for ios\"\n",
    "                 ]\n",
    "\n",
    "def latest_browser(df):\n",
    "    if df == \"-999\":\n",
    "        df = -999\n",
    "    elif df in latest_browser_list:\n",
    "        df = 1\n",
    "    else:\n",
    "        df = 0\n",
    "    return df\n",
    "\n",
    "def browser(df):\n",
    "    if df == \"-999\":\n",
    "        df = -999\n",
    "    elif \"chrome\" in df:\n",
    "        df = \"chrome\"\n",
    "    elif \"safari\" in df:\n",
    "        df = \"safari\"\n",
    "    elif \"firefox\" in df:\n",
    "        df = \"firefox\"\n",
    "    elif \"ie\" in df:\n",
    "        df = \"ie\"\n",
    "    elif \"samsung\" in df:\n",
    "        df = \"samsumg\"\n",
    "    elif \"Samsung\" in df:\n",
    "        df = \"samsumg\"\n",
    "    return df \n",
    "    \n",
    "\n",
    "orig_train[\"id_31\"].fillna(\"-999\", inplace=True)\n",
    "orig_train[\"Latest_browser\"] = orig_train[\"id_31\"].apply(latest_browser)\n",
    "orig_train[\"Browser\"] = orig_train[\"id_31\"].apply(browser)\n",
    "\n",
    "orig_test[\"id_31\"].fillna(\"-999\", inplace=True)\n",
    "orig_test[\"Latest_browser\"] = orig_test[\"id_31\"].apply(latest_browser)\n",
    "orig_test[\"Browser\"] = orig_test[\"id_31\"].apply(browser)"
   ]
  },
  {
   "cell_type": "code",
   "execution_count": null,
   "metadata": {},
   "outputs": [],
   "source": [
    "# 민태꺼 'isFraud' drop\n",
    "V_cols_train = V_cols_train.drop('isFraud', axis=1)\n",
    "V_cols_test = V_cols_test.drop('isFraud', axis=1)"
   ]
  },
  {
   "cell_type": "code",
   "execution_count": 60,
   "metadata": {},
   "outputs": [],
   "source": [
    "# 민태꺼 V merge\n",
    "train_V = orig_train.merge(V_cols_train, how='left', on='TransactionID')\n",
    "test_V = orig_test.merge(V_cols_test, how='left', on='TransactionID')"
   ]
  },
  {
   "cell_type": "code",
   "execution_count": 61,
   "metadata": {},
   "outputs": [],
   "source": [
    "# 내꺼까지 merge\n",
    "train = train_V.merge(trans_train, how='left', on='TransactionID')\n",
    "test = test_V.merge(trans_test, how='left', on='TransactionID')"
   ]
  },
  {
   "cell_type": "code",
   "execution_count": 65,
   "metadata": {},
   "outputs": [
    {
     "data": {
      "text/plain": [
       "Text(0.5, 1.0, 'TransactionAmt Distribution')"
      ]
     },
     "execution_count": 65,
     "metadata": {},
     "output_type": "execute_result"
    },
    {
     "data": {
      "image/png": "[encoded data removed]",
      "text/plain": [
       "<Figure size 720x360 with 1 Axes>"
      ]
     },
     "metadata": {
      "needs_background": "light"
     },
     "output_type": "display_data"
    }
   ],
   "source": [
    "import matplotlib.pyplot as plt\n",
    "import seaborn as sns\n",
    "\n",
    "# 민태 TransactionAmt log regularization 그래프\n",
    "f, (ax1) = plt.subplots(1, 1, figsize=(10, 5))\n",
    "ax = sns.distplot(train['TransactionAmt'], bins=3, hist=False, ax=ax1,label='train',color='b')\n",
    "ax = sns.distplot(test['TransactionAmt'], bins=3, hist=False, ax=ax1, label='test',color='r')\n",
    "ax1.set_title('TransactionAmt Distribution', fontsize=20)"
   ]
  },
  {
   "cell_type": "code",
   "execution_count": 66,
   "metadata": {},
   "outputs": [],
   "source": [
    "train['TransactionAmt'] = np.log(train['TransactionAmt']+1)\n",
    "test['TransactionAmt'] = np.log(test['TransactionAmt']+1)"
   ]
  },
  {
   "cell_type": "code",
   "execution_count": 67,
   "metadata": {},
   "outputs": [
    {
     "data": {
      "text/plain": [
       "Text(0.5, 1.0, 'TransactionAmt Distribution')"
      ]
     },
     "execution_count": 67,
     "metadata": {},
     "output_type": "execute_result"
    },
    {
     "data": {
      "image/png": "[encoded data removed]",
      "text/plain": [
       "<Figure size 720x360 with 1 Axes>"
      ]
     },
     "metadata": {
      "needs_background": "light"
     },
     "output_type": "display_data"
    }
   ],
   "source": [
    "f, (ax1) = plt.subplots(1, 1, figsize=(10, 5))\n",
    "ax = sns.distplot(train['TransactionAmt'], bins=3, hist=False, ax=ax1,label='train',color='b')\n",
    "ax = sns.distplot(test['TransactionAmt'], bins=3, hist=False, ax=ax1, label='test',color='r')\n",
    "ax1.set_title('TransactionAmt Distribution', fontsize=20)"
   ]
  },
  {
   "cell_type": "code",
   "execution_count": 68,
   "metadata": {},
   "outputs": [
    {
     "name": "stdout",
     "output_type": "stream",
     "text": [
      "(590540, 372)\n",
      "(506691, 371)\n"
     ]
    }
   ],
   "source": [
    "print(train.shape)\n",
    "print(test.shape)"
   ]
  },
  {
   "cell_type": "code",
   "execution_count": 70,
   "metadata": {},
   "outputs": [],
   "source": [
    "dir_name = 'merged_data'\n",
    "train.to_csv('./{directory}/train.csv'.format(directory=dir_name), index=False)\n",
    "test.to_csv('./{directory}/test.csv'.format(directory=dir_name), index=False)"
   ]
  },
  {
   "cell_type": "markdown",
   "metadata": {},
   "source": [
    "###  원본  데이터 merge -> 민태꺼 V 있는거 빼기 -> 민태꺼 추가 -> 내꺼 추가 -> 준형이형꺼 추가"
   ]
  },
  {
   "cell_type": "markdown",
   "metadata": {},
   "source": [
    "# XGBoost"
   ]
  },
  {
   "cell_type": "code",
   "execution_count": 71,
   "metadata": {},
   "outputs": [],
   "source": [
    "y_train = train['isFraud'].copy()"
   ]
  },
  {
   "cell_type": "code",
   "execution_count": 72,
   "metadata": {},
   "outputs": [],
   "source": [
    "X_train = train.drop('isFraud', axis=1)\n",
    "X_test = test.copy()"
   ]
  },
  {
   "cell_type": "code",
   "execution_count": 73,
   "metadata": {},
   "outputs": [],
   "source": [
    "# Fill numeric columns' NaN values with mean\n",
    "for c in X_train.columns:\n",
    "    if X_train[c].dtype=='float16' or  X_train[c].dtype=='float32' or  X_train[c].dtype=='float64':\n",
    "        X_train[c].fillna(X_train[c].mean())\n",
    "        X_test[c].fillna(X_train[c].mean())"
   ]
  },
  {
   "cell_type": "code",
   "execution_count": 74,
   "metadata": {},
   "outputs": [],
   "source": [
    "# Fill categorical columns' NaN values with placeholder (-999)\n",
    "X_train = X_train.fillna(-999)\n",
    "X_test = X_test.fillna(-999)"
   ]
  },
  {
   "cell_type": "code",
   "execution_count": 75,
   "metadata": {},
   "outputs": [],
   "source": [
    "# Label-Encode categorical columns\n",
    "for f in X_train.columns:\n",
    "    if X_train[f].dtype=='object' or X_test[f].dtype=='object': \n",
    "        lbl = preprocessing.LabelEncoder()\n",
    "        lbl.fit(list(X_train[f].values) + list(X_test[f].values))\n",
    "        X_train[f] = lbl.transform(list(X_train[f].values))\n",
    "        X_test[f] = lbl.transform(list(X_test[f].values))"
   ]
  },
  {
   "cell_type": "code",
   "execution_count": 90,
   "metadata": {},
   "outputs": [
    {
     "name": "stdout",
     "output_type": "stream",
     "text": [
      "KFold(n_splits=5, random_state=None, shuffle=True)\n"
     ]
    }
   ],
   "source": [
    "# Set up K-Fold\n",
    "n_fold = 5\n",
    "folds = KFold(n_splits=n_fold, shuffle=True)\n",
    "\n",
    "print(folds)"
   ]
  },
  {
   "cell_type": "code",
   "execution_count": 91,
   "metadata": {},
   "outputs": [],
   "source": [
    "# Initialize submission DataFrame\n",
    "sample_submission = pd.read_csv('../../../Data/sample_submission.csv')\n",
    "xgb_submission = sample_submission.copy()\n",
    "xgb_submission['isFraud'] = 0"
   ]
  },
  {
   "cell_type": "code",
   "execution_count": 94,
   "metadata": {
    "scrolled": false
   },
   "outputs": [
    {
     "name": "stdout",
     "output_type": "stream",
     "text": [
      "XGBoost --> Tree method: gpu_hist, Fold_N: 5\n",
      "-------------------------------------------------------\n",
      "Fold 0 started..., Time: 2019-8-17 16:3:12\n"
     ]
    },
    {
     "data": {
      "image/png": "[encoded data removed]",
      "text/plain": [
       "<Figure size 432x288 with 1 Axes>"
      ]
     },
     "metadata": {
      "needs_background": "light"
     },
     "output_type": "display_data"
    },
    {
     "name": "stdout",
     "output_type": "stream",
     "text": [
      "Feature importances: \n",
      " [0.00159179 0.00180496 0.00219636 0.0036959  0.00163284 0.00187358\n",
      " 0.00356749 0.00119898 0.00169182 0.0047018  0.0016901  0.00559079\n",
      " 0.00169316 0.00108677 0.00173723 0.00327112 0.00607419 0.00214763\n",
      " 0.00231509 0.00359959 0.00187699 0.00225751 0.00729273 0.00526192\n",
      " 0.00223609 0.00276801 0.003769   0.00514165 0.00355153 0.00840261\n",
      " 0.00192137 0.00300577 0.00171338 0.00170902 0.00108578 0.00168279\n",
      " 0.00104959 0.00142528 0.000855   0.00172038 0.00146931 0.00143633\n",
      " 0.00176658 0.00116533 0.00194123 0.00052989 0.00131817 0.00197109\n",
      " 0.00272403 0.00251085 0.00209759 0.00118492 0.00119083 0.00124452\n",
      " 0.00197104 0.00125236 0.00258282 0.00196022 0.00111932 0.00117518\n",
      " 0.00135687 0.00149295 0.0025793  0.00061843 0.00099109 0.00041809\n",
      " 0.00120694 0.00145505 0.00114967 0.00105289 0.00614688 0.00114474\n",
      " 0.00100747 0.00138298 0.00182463 0.00520781 0.00176791 0.00084429\n",
      " 0.00125166 0.00118743 0.00036618 0.00055315 0.00032055 0.00161489\n",
      " 0.00132261 0.00603209 0.00159242 0.00118779 0.         0.00102134\n",
      " 0.00094412 0.0012704  0.00246813 0.00141914 0.00194309 0.00103927\n",
      " 0.00127994 0.00050247 0.0010946  0.00116594 0.00116262 0.00139325\n",
      " 0.00155389 0.00124144 0.0012607  0.00234593 0.00193225 0.0010018\n",
      " 0.00232113 0.00160683 0.00219055 0.00124913 0.00171491 0.00135022\n",
      " 0.00199362 0.0025131  0.00167989 0.00174261 0.0015847  0.0015506\n",
      " 0.00169886 0.00127661 0.00168647 0.0010348  0.00226053 0.00122163\n",
      " 0.00131022 0.00141117 0.00526084 0.00148721 0.00435179 0.00220128\n",
      " 0.00129505 0.00117524 0.00247729 0.00225775 0.00167901 0.0022634\n",
      " 0.00284381 0.0024569  0.00153835 0.00156448 0.00182047 0.00324478\n",
      " 0.00156043 0.00256801 0.00165681 0.0023604  0.00111197 0.02498479\n",
      " 0.00200251 0.003562   0.00176704 0.00184048 0.00186524 0.00219547\n",
      " 0.00141364 0.0017076  0.00298247 0.00092033 0.00221513 0.00251727\n",
      " 0.00245579 0.00159166 0.00135387 0.00283302 0.00403879 0.01614672\n",
      " 0.0012625  0.00102575 0.00286748 0.00086015 0.00126583 0.00132178\n",
      " 0.00080881 0.00334044 0.0012647  0.00060062 0.00251589 0.00091269\n",
      " 0.00138221 0.00351525 0.00248645 0.00116643 0.00112241 0.00110246\n",
      " 0.00102886 0.00147165 0.00145471 0.00127217 0.0016337  0.00095219\n",
      " 0.00216032 0.00083088 0.00101792 0.00164012 0.00127424 0.00152904\n",
      " 0.00206679 0.00209978 0.00128999 0.00114881 0.00179757 0.00383175\n",
      " 0.00079525 0.00146749 0.0025634  0.01251027 0.0015847  0.00072934\n",
      " 0.00162846 0.0034641  0.00347452 0.00103109 0.00230008 0.00108224\n",
      " 0.00183823 0.00097747 0.00352804 0.00149932 0.00208757 0.00310909\n",
      " 0.00103032 0.00102508 0.0024728  0.00093933 0.00036058 0.00184347\n",
      " 0.00084366 0.00099174 0.00089501 0.00502219 0.00167493 0.01669686\n",
      " 0.0025586  0.00488234 0.00077831 0.00272746 0.0472399  0.00076665\n",
      " 0.00134408 0.00082066 0.00157114 0.00124138 0.0042178  0.00182949\n",
      " 0.00350653 0.00197266 0.00082361 0.00168594 0.00133255 0.00105935\n",
      " 0.00136268 0.00168044 0.00201938 0.00122161 0.00233632 0.00189446\n",
      " 0.00094927 0.00083285 0.00436892 0.00169464 0.01248316 0.00128666\n",
      " 0.00158409 0.00071213 0.00092586 0.00090286 0.0010332  0.00507313\n",
      " 0.00151494 0.00096358 0.00065853 0.00115276 0.00090275 0.00381379\n",
      " 0.00148805 0.01592948 0.00112404 0.00122049 0.00329628 0.00198955\n",
      " 0.00584087 0.13976651 0.00095543 0.00122346 0.00148427 0.00451826\n",
      " 0.00092086 0.00079864 0.0008775  0.00199032 0.00124954 0.00098086\n",
      " 0.0012811  0.00182401 0.00133084 0.00100034 0.00112717 0.00111096\n",
      " 0.00112685 0.00108388 0.00135519 0.0016469  0.00289496 0.00273513\n",
      " 0.00147305 0.00622969 0.00048415 0.00212252 0.00147336 0.00119565\n",
      " 0.00107874 0.00190834 0.00083261 0.00129854 0.00112154 0.00154845\n",
      " 0.01758475 0.00560146 0.00409543 0.00055557 0.00239129 0.0015949\n",
      " 0.00147236 0.00212872 0.00091614 0.00086847 0.00098306 0.00134581\n",
      " 0.00304524 0.0011567  0.00166253 0.00140078 0.00255656 0.00168466\n",
      " 0.00185196 0.00329955 0.00088023 0.00327394 0.00230415 0.00094673\n",
      " 0.00188677 0.00134391 0.0015821  0.00367323 0.00357935 0.00611619\n",
      " 0.0018493  0.00162118 0.00387727 0.003998   0.00368793 0.00265612\n",
      " 0.00137991 0.0017098  0.00172123 0.00170246 0.00461543 0.00173532\n",
      " 0.0013039  0.00406946 0.00159568 0.00092212 0.00083254 0.00099421\n",
      " 0.00121743 0.0017417  0.00145004 0.00142405 0.00207553]\n",
      "Completed, Time elapsed: 1365.1938738822937 seconds\n",
      "ROC accuracy: 0.9714380803377822\n"
     ]
    },
    {
     "ename": "ValueError",
     "evalue": "Classification metrics can't handle a mix of binary and continuous targets",
     "output_type": "error",
     "traceback": [
      "\u001b[0;31m---------------------------------------------------------------------------\u001b[0m",
      "\u001b[0;31mValueError\u001b[0m                                Traceback (most recent call last)",
      "\u001b[0;32m<ipython-input-94-f614afa05410>\u001b[0m in \u001b[0;36m<module>\u001b[0;34m\u001b[0m\n\u001b[1;32m     47\u001b[0m \u001b[0;34m\u001b[0m\u001b[0m\n\u001b[1;32m     48\u001b[0m     \u001b[0mprint\u001b[0m\u001b[0;34m(\u001b[0m\u001b[0;34m'ROC accuracy: {}'\u001b[0m\u001b[0;34m.\u001b[0m\u001b[0mformat\u001b[0m\u001b[0;34m(\u001b[0m\u001b[0mroc_auc_score\u001b[0m\u001b[0;34m(\u001b[0m\u001b[0my_valid\u001b[0m\u001b[0;34m,\u001b[0m \u001b[0mval\u001b[0m\u001b[0;34m)\u001b[0m\u001b[0;34m)\u001b[0m\u001b[0;34m)\u001b[0m\u001b[0;34m\u001b[0m\u001b[0;34m\u001b[0m\u001b[0m\n\u001b[0;32m---> 49\u001b[0;31m     \u001b[0mprint\u001b[0m\u001b[0;34m(\u001b[0m\u001b[0;34m'F1 Score: {}'\u001b[0m\u001b[0;34m.\u001b[0m\u001b[0mformat\u001b[0m\u001b[0;34m(\u001b[0m\u001b[0mf1_score\u001b[0m\u001b[0;34m(\u001b[0m\u001b[0my_valid\u001b[0m\u001b[0;34m,\u001b[0m \u001b[0mval\u001b[0m\u001b[0;34m)\u001b[0m\u001b[0;34m)\u001b[0m\u001b[0;34m)\u001b[0m\u001b[0;34m\u001b[0m\u001b[0;34m\u001b[0m\u001b[0m\n\u001b[0m\u001b[1;32m     50\u001b[0m     \u001b[0;32mdel\u001b[0m \u001b[0mval\u001b[0m\u001b[0;34m,\u001b[0m\u001b[0my_valid\u001b[0m\u001b[0;34m\u001b[0m\u001b[0;34m\u001b[0m\u001b[0m\n\u001b[1;32m     51\u001b[0m     \u001b[0mxgb_submission\u001b[0m\u001b[0;34m[\u001b[0m\u001b[0;34m'isFraud'\u001b[0m\u001b[0;34m]\u001b[0m \u001b[0;34m=\u001b[0m \u001b[0mxgb_submission\u001b[0m\u001b[0;34m[\u001b[0m\u001b[0;34m'isFraud'\u001b[0m\u001b[0;34m]\u001b[0m\u001b[0;34m+\u001b[0m\u001b[0mpred\u001b[0m\u001b[0;34m/\u001b[0m\u001b[0mn_fold\u001b[0m\u001b[0;34m\u001b[0m\u001b[0;34m\u001b[0m\u001b[0m\n",
      "\u001b[0;32m~/.local/lib/python3.6/site-packages/sklearn/metrics/classification.py\u001b[0m in \u001b[0;36mf1_score\u001b[0;34m(y_true, y_pred, labels, pos_label, average, sample_weight)\u001b[0m\n\u001b[1;32m   1057\u001b[0m     return fbeta_score(y_true, y_pred, 1, labels=labels,\n\u001b[1;32m   1058\u001b[0m                        \u001b[0mpos_label\u001b[0m\u001b[0;34m=\u001b[0m\u001b[0mpos_label\u001b[0m\u001b[0;34m,\u001b[0m \u001b[0maverage\u001b[0m\u001b[0;34m=\u001b[0m\u001b[0maverage\u001b[0m\u001b[0;34m,\u001b[0m\u001b[0;34m\u001b[0m\u001b[0;34m\u001b[0m\u001b[0m\n\u001b[0;32m-> 1059\u001b[0;31m                        sample_weight=sample_weight)\n\u001b[0m\u001b[1;32m   1060\u001b[0m \u001b[0;34m\u001b[0m\u001b[0m\n\u001b[1;32m   1061\u001b[0m \u001b[0;34m\u001b[0m\u001b[0m\n",
      "\u001b[0;32m~/.local/lib/python3.6/site-packages/sklearn/metrics/classification.py\u001b[0m in \u001b[0;36mfbeta_score\u001b[0;34m(y_true, y_pred, beta, labels, pos_label, average, sample_weight)\u001b[0m\n\u001b[1;32m   1180\u001b[0m                                                  \u001b[0maverage\u001b[0m\u001b[0;34m=\u001b[0m\u001b[0maverage\u001b[0m\u001b[0;34m,\u001b[0m\u001b[0;34m\u001b[0m\u001b[0;34m\u001b[0m\u001b[0m\n\u001b[1;32m   1181\u001b[0m                                                  \u001b[0mwarn_for\u001b[0m\u001b[0;34m=\u001b[0m\u001b[0;34m(\u001b[0m\u001b[0;34m'f-score'\u001b[0m\u001b[0;34m,\u001b[0m\u001b[0;34m)\u001b[0m\u001b[0;34m,\u001b[0m\u001b[0;34m\u001b[0m\u001b[0;34m\u001b[0m\u001b[0m\n\u001b[0;32m-> 1182\u001b[0;31m                                                  sample_weight=sample_weight)\n\u001b[0m\u001b[1;32m   1183\u001b[0m     \u001b[0;32mreturn\u001b[0m \u001b[0mf\u001b[0m\u001b[0;34m\u001b[0m\u001b[0;34m\u001b[0m\u001b[0m\n\u001b[1;32m   1184\u001b[0m \u001b[0;34m\u001b[0m\u001b[0m\n",
      "\u001b[0;32m~/.local/lib/python3.6/site-packages/sklearn/metrics/classification.py\u001b[0m in \u001b[0;36mprecision_recall_fscore_support\u001b[0;34m(y_true, y_pred, beta, labels, pos_label, average, warn_for, sample_weight)\u001b[0m\n\u001b[1;32m   1413\u001b[0m         \u001b[0;32mraise\u001b[0m \u001b[0mValueError\u001b[0m\u001b[0;34m(\u001b[0m\u001b[0;34m\"beta should be >0 in the F-beta score\"\u001b[0m\u001b[0;34m)\u001b[0m\u001b[0;34m\u001b[0m\u001b[0;34m\u001b[0m\u001b[0m\n\u001b[1;32m   1414\u001b[0m     labels = _check_set_wise_labels(y_true, y_pred, average, labels,\n\u001b[0;32m-> 1415\u001b[0;31m                                     pos_label)\n\u001b[0m\u001b[1;32m   1416\u001b[0m \u001b[0;34m\u001b[0m\u001b[0m\n\u001b[1;32m   1417\u001b[0m     \u001b[0;31m# Calculate tp_sum, pred_sum, true_sum ###\u001b[0m\u001b[0;34m\u001b[0m\u001b[0;34m\u001b[0m\u001b[0;34m\u001b[0m\u001b[0m\n",
      "\u001b[0;32m~/.local/lib/python3.6/site-packages/sklearn/metrics/classification.py\u001b[0m in \u001b[0;36m_check_set_wise_labels\u001b[0;34m(y_true, y_pred, average, labels, pos_label)\u001b[0m\n\u001b[1;32m   1237\u001b[0m                          str(average_options))\n\u001b[1;32m   1238\u001b[0m \u001b[0;34m\u001b[0m\u001b[0m\n\u001b[0;32m-> 1239\u001b[0;31m     \u001b[0my_type\u001b[0m\u001b[0;34m,\u001b[0m \u001b[0my_true\u001b[0m\u001b[0;34m,\u001b[0m \u001b[0my_pred\u001b[0m \u001b[0;34m=\u001b[0m \u001b[0m_check_targets\u001b[0m\u001b[0;34m(\u001b[0m\u001b[0my_true\u001b[0m\u001b[0;34m,\u001b[0m \u001b[0my_pred\u001b[0m\u001b[0;34m)\u001b[0m\u001b[0;34m\u001b[0m\u001b[0;34m\u001b[0m\u001b[0m\n\u001b[0m\u001b[1;32m   1240\u001b[0m     \u001b[0mpresent_labels\u001b[0m \u001b[0;34m=\u001b[0m \u001b[0munique_labels\u001b[0m\u001b[0;34m(\u001b[0m\u001b[0my_true\u001b[0m\u001b[0;34m,\u001b[0m \u001b[0my_pred\u001b[0m\u001b[0;34m)\u001b[0m\u001b[0;34m\u001b[0m\u001b[0;34m\u001b[0m\u001b[0m\n\u001b[1;32m   1241\u001b[0m     \u001b[0;32mif\u001b[0m \u001b[0maverage\u001b[0m \u001b[0;34m==\u001b[0m \u001b[0;34m'binary'\u001b[0m\u001b[0;34m:\u001b[0m\u001b[0;34m\u001b[0m\u001b[0;34m\u001b[0m\u001b[0m\n",
      "\u001b[0;32m~/.local/lib/python3.6/site-packages/sklearn/metrics/classification.py\u001b[0m in \u001b[0;36m_check_targets\u001b[0;34m(y_true, y_pred)\u001b[0m\n\u001b[1;32m     79\u001b[0m     \u001b[0;32mif\u001b[0m \u001b[0mlen\u001b[0m\u001b[0;34m(\u001b[0m\u001b[0my_type\u001b[0m\u001b[0;34m)\u001b[0m \u001b[0;34m>\u001b[0m \u001b[0;36m1\u001b[0m\u001b[0;34m:\u001b[0m\u001b[0;34m\u001b[0m\u001b[0;34m\u001b[0m\u001b[0m\n\u001b[1;32m     80\u001b[0m         raise ValueError(\"Classification metrics can't handle a mix of {0} \"\n\u001b[0;32m---> 81\u001b[0;31m                          \"and {1} targets\".format(type_true, type_pred))\n\u001b[0m\u001b[1;32m     82\u001b[0m \u001b[0;34m\u001b[0m\u001b[0m\n\u001b[1;32m     83\u001b[0m     \u001b[0;31m# We can't have more than one value on y_type => The set is no more needed\u001b[0m\u001b[0;34m\u001b[0m\u001b[0;34m\u001b[0m\u001b[0;34m\u001b[0m\u001b[0m\n",
      "\u001b[0;31mValueError\u001b[0m: Classification metrics can't handle a mix of binary and continuous targets"
     ]
    }
   ],
   "source": [
    "# auto, exact, approx, hist, gpu_hist (https://xgboost.readthedocs.io/en/latest/parameter.html)\n",
    "tree_method = 'gpu_hist'\n",
    "print('XGBoost --> Tree method: {}, Fold_N: {}'.format(tree_method, n_fold))\n",
    "print('-------------------------------------------------------')\n",
    "\n",
    "# Set timezone\n",
    "os.environ['TZ'] = 'Asia/Seoul'\n",
    "time.tzset()\n",
    "\n",
    "# Execute K-Fold XGBoost\n",
    "for fold_n, (train_index, valid_index) in enumerate(folds.split(X_train)):\n",
    "    xgbclf = xgb.XGBClassifier(\n",
    "        n_estimators=1000,\n",
    "        max_depth=8,\n",
    "        learning_rate=0.048,\n",
    "        subsample=0.85,\n",
    "        colsample_bytree=0.85,\n",
    "        missing=-999,\n",
    "        tree_method=tree_method,\n",
    "        reg_alpha=0.15,\n",
    "        reg_lamdba=0.85\n",
    "    )\n",
    "\n",
    "    # Print current iteration information\n",
    "    start = time.time()\n",
    "    now = time.localtime(start)\n",
    "    print('Fold {} started..., Time: {yy}-{mm}-{dd} {hh}:{MM}:{ss}'.format(fold_n, yy=now.tm_year, mm=now.tm_mon, dd=now.tm_mday, hh=now.tm_hour, MM=now.tm_min, ss=now.tm_sec))\n",
    "    \n",
    "    X_train_, X_valid = X_train.iloc[train_index], X_train.iloc[valid_index]\n",
    "    y_train_, y_valid = y_train.iloc[train_index], y_train.iloc[valid_index]\n",
    "    xgbclf.fit(X_train_,y_train_)\n",
    "    del X_train_,y_train_\n",
    "    pred=xgbclf.predict_proba(X_test)[:,1]\n",
    "    val=xgbclf.predict_proba(X_valid)[:,1]\n",
    "    \n",
    "    # Feature importances\n",
    "    xgb.plot_importance(xgbclf)\n",
    "    plt.show()\n",
    "    print('Feature importances: \\n', xgbclf.feature_importances_)\n",
    "    \n",
    "    del xgbclf, X_valid\n",
    "    \n",
    "    # Measure time elapsed\n",
    "    now = time.time()\n",
    "    time_elapsed = now - start\n",
    "    print('Completed, Time elapsed: {} seconds'.format(time_elapsed))\n",
    "    \n",
    "    print('ROC accuracy: {}'.format(roc_auc_score(y_valid, val)))\n",
    "    print('F1 Score: {}'.format(f1_score(y_valid, val)))\n",
    "    del val,y_valid\n",
    "    xgb_submission['isFraud'] = xgb_submission['isFraud']+pred/n_fold\n",
    "    del pred\n",
    "    gc.collect()\n",
    "    \n",
    "    print('-------------------------------------------------------')\n",
    "    \n",
    "print('Done.')"
   ]
  },
  {
   "cell_type": "code",
   "execution_count": 82,
   "metadata": {},
   "outputs": [
    {
     "data": {
      "text/html": [
       "<div>\n",
       "<style scoped>\n",
       "    .dataframe tbody tr th:only-of-type {\n",
       "        vertical-align: middle;\n",
       "    }\n",
       "\n",
       "    .dataframe tbody tr th {\n",
       "        vertical-align: top;\n",
       "    }\n",
       "\n",
       "    .dataframe thead th {\n",
       "        text-align: right;\n",
       "    }\n",
       "</style>\n",
       "<table border=\"1\" class=\"dataframe\">\n",
       "  <thead>\n",
       "    <tr style=\"text-align: right;\">\n",
       "      <th></th>\n",
       "      <th>TransactionID</th>\n",
       "      <th>isFraud</th>\n",
       "    </tr>\n",
       "  </thead>\n",
       "  <tbody>\n",
       "    <tr>\n",
       "      <th>0</th>\n",
       "      <td>3663549</td>\n",
       "      <td>0.000668</td>\n",
       "    </tr>\n",
       "    <tr>\n",
       "      <th>1</th>\n",
       "      <td>3663550</td>\n",
       "      <td>0.000819</td>\n",
       "    </tr>\n",
       "    <tr>\n",
       "      <th>2</th>\n",
       "      <td>3663551</td>\n",
       "      <td>0.000199</td>\n",
       "    </tr>\n",
       "    <tr>\n",
       "      <th>3</th>\n",
       "      <td>3663552</td>\n",
       "      <td>0.001080</td>\n",
       "    </tr>\n",
       "    <tr>\n",
       "      <th>4</th>\n",
       "      <td>3663553</td>\n",
       "      <td>0.000416</td>\n",
       "    </tr>\n",
       "  </tbody>\n",
       "</table>\n",
       "</div>"
      ],
      "text/plain": [
       "   TransactionID   isFraud\n",
       "0        3663549  0.000668\n",
       "1        3663550  0.000819\n",
       "2        3663551  0.000199\n",
       "3        3663552  0.001080\n",
       "4        3663553  0.000416"
      ]
     },
     "execution_count": 82,
     "metadata": {},
     "output_type": "execute_result"
    }
   ],
   "source": [
    "dir_name = 'submission'\n",
    "xgb_submission.to_csv('./{directory}/sub_xgboost.csv'.format(directory=dir_name), index=False)\n",
    "xgb_submission.head()"
   ]
  },
  {
   "cell_type": "code",
   "execution_count": null,
   "metadata": {},
   "outputs": [],
   "source": []
  }
 ],
 "metadata": {
  "kernelspec": {
   "display_name": "Python 3",
   "language": "python",
   "name": "python3"
  },
  "language_info": {
   "codemirror_mode": {
    "name": "ipython",
    "version": 3
   },
   "file_extension": ".py",
   "mimetype": "text/x-python",
   "name": "python",
   "nbconvert_exporter": "python",
   "pygments_lexer": "ipython3",
   "version": "3.6.8"
  }
 },
 "nbformat": 4,
 "nbformat_minor": 2
}
