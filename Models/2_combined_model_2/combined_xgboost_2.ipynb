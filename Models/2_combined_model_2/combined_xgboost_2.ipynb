{
 "cells": [
  {
   "cell_type": "code",
   "execution_count": 80,
   "metadata": {},
   "outputs": [],
   "source": [
    "import os\n",
    "import gc\n",
    "import sys\n",
    "sys.path.append(\"../..\")\n",
    "import time\n",
    "\n",
    "import pandas as pd\n",
    "import numpy as np\n",
    "from sklearn.model_selection import TimeSeriesSplit, KFold\n",
    "from sklearn.metrics import roc_auc_score\n",
    "from sklearn import preprocessing\n",
    "import xgboost as xgb\n",
    "\n",
    "from Other.utils.ReduceMem import read_and_reduce, merge_and_reduce"
   ]
  },
  {
   "cell_type": "code",
   "execution_count": 22,
   "metadata": {},
   "outputs": [],
   "source": [
    "def check_and_drop_column(df, column):\n",
    "    if column in df.columns:\n",
    "        df.drop(columns=[column], axis=1, inplace=True)"
   ]
  },
  {
   "cell_type": "code",
   "execution_count": 42,
   "metadata": {},
   "outputs": [],
   "source": [
    "def print_columns(df):\n",
    "    s = ''\n",
    "    for col in df.columns:\n",
    "        s += '\"%s\", ' % col\n",
    "    print(s[:-2])"
   ]
  },
  {
   "cell_type": "markdown",
   "metadata": {},
   "source": [
    "# Preprocessing"
   ]
  },
  {
   "cell_type": "code",
   "execution_count": 49,
   "metadata": {},
   "outputs": [
    {
     "name": "stdout",
     "output_type": "stream",
     "text": [
      "Mem. usage decreased to 342.98 Mb (70.8% reduction)\n",
      "Mem. usage decreased to 301.53 Mb (70.0% reduction)\n"
     ]
    }
   ],
   "source": [
    "V_cols_train = read_and_reduce('../data/V_cols_train.csv')\n",
    "V_cols_test = read_and_reduce('../data/V_cols_test.csv')"
   ]
  },
  {
   "cell_type": "code",
   "execution_count": 3,
   "metadata": {
    "scrolled": true
   },
   "outputs": [
    {
     "name": "stdout",
     "output_type": "stream",
     "text": [
      "(590540, 261)\n",
      "(506691, 260)\n"
     ]
    }
   ],
   "source": [
    "print(V_cols_train.shape)\n",
    "print(V_cols_test.shape)"
   ]
  },
  {
   "cell_type": "code",
   "execution_count": 4,
   "metadata": {},
   "outputs": [
    {
     "name": "stdout",
     "output_type": "stream",
     "text": [
      "Mem. usage decreased to 33.79 Mb (53.1% reduction)\n",
      "Mem. usage decreased to 28.99 Mb (53.1% reduction)\n"
     ]
    }
   ],
   "source": [
    "trans_train = read_and_reduce('../data/jinoo_train.csv')\n",
    "trans_test = read_and_reduce('../data/jinoo_test.csv')"
   ]
  },
  {
   "cell_type": "code",
   "execution_count": 5,
   "metadata": {},
   "outputs": [
    {
     "name": "stdout",
     "output_type": "stream",
     "text": [
      "(590540, 16)\n",
      "(506691, 16)\n"
     ]
    }
   ],
   "source": [
    "print(trans_train.shape)\n",
    "print(trans_test.shape)"
   ]
  },
  {
   "cell_type": "code",
   "execution_count": 6,
   "metadata": {},
   "outputs": [
    {
     "data": {
      "text/plain": [
       "Index(['TransactionID', 'card1_count_full', 'card2_count_full',\n",
       "       'card3_count_full', 'card4_count_full', 'card5_count_full',\n",
       "       'card6_count_full', 'addr1_count_full', 'addr2_count_full',\n",
       "       'Transaction_day_of_week', 'Transaction_hour_of_day',\n",
       "       'TransactionAmt_to_mean_card1', 'TransactionAmt_to_mean_card4',\n",
       "       'TransactionAmt_to_std_card1', 'TransactionAmt_to_std_card4',\n",
       "       'emaildomain'],\n",
       "      dtype='object')"
      ]
     },
     "execution_count": 6,
     "metadata": {},
     "output_type": "execute_result"
    }
   ],
   "source": [
    "trans_train.columns"
   ]
  },
  {
   "cell_type": "code",
   "execution_count": 19,
   "metadata": {},
   "outputs": [
    {
     "data": {
      "text/plain": [
       "'/home/jinoo/ybigta/ybigta_first_proj/Models/2_combined_model_2'"
      ]
     },
     "execution_count": 19,
     "metadata": {},
     "output_type": "execute_result"
    }
   ],
   "source": [
    "pwd"
   ]
  },
  {
   "cell_type": "code",
   "execution_count": 20,
   "metadata": {},
   "outputs": [
    {
     "name": "stdout",
     "output_type": "stream",
     "text": [
      "Mem. usage decreased to 542.35 Mb (69.4% reduction)\n",
      "Mem. usage decreased to 25.86 Mb (42.7% reduction)\n",
      "Mem. usage decreased to 472.59 Mb (68.9% reduction)\n",
      "Mem. usage decreased to 25.44 Mb (42.7% reduction)\n"
     ]
    }
   ],
   "source": [
    "# Original data\n",
    "orig_trans_train = read_and_reduce('../../../Data/train_transaction.csv')\n",
    "orig_id_train = read_and_reduce('../../../Data/train_identity.csv')\n",
    "orig_trans_test = read_and_reduce('../../../Data/test_transaction.csv')\n",
    "orig_id_test = read_and_reduce('../../../Data/test_identity.csv')"
   ]
  },
  {
   "cell_type": "code",
   "execution_count": 40,
   "metadata": {},
   "outputs": [],
   "source": [
    "# 원본 데이터 merge\n",
    "orig_train = orig_trans_train.merge(orig_id_train, how='left', on='TransactionID')\n",
    "orig_test = orig_trans_test.merge(orig_id_test, how='left', on='TransactionID')"
   ]
  },
  {
   "cell_type": "code",
   "execution_count": 58,
   "metadata": {},
   "outputs": [],
   "source": [
    "# 민태꺼 V 빼기\n",
    "for col in orig_train.columns:\n",
    "    if str(col)[0] == 'V':\n",
    "        check_and_drop_column(orig_train, col)\n",
    "        \n",
    "for col in orig_test.columns:\n",
    "    if str(col)[0] == 'V':\n",
    "        check_and_drop_column(orig_test, col)"
   ]
  },
  {
   "cell_type": "code",
   "execution_count": 59,
   "metadata": {},
   "outputs": [],
   "source": [
    "# 준형이형꺼 처리\n",
    "#id_30\n",
    "\n",
    "def os(df):\n",
    "    if df == \"-999\":\n",
    "        df = -999\n",
    "    elif \"Windows\" in df:\n",
    "        df = \"Windows\"\n",
    "    elif \"Mac\" in df:\n",
    "        df = \"Mac\"\n",
    "    elif \"iOS\" in df:\n",
    "        df = \"ios\"\n",
    "    elif \"Android\" in df:\n",
    "        df = \"Android\"\n",
    "    else:\n",
    "        df = \"other\"\n",
    "        \n",
    "    return df\n",
    "\n",
    "orig_train[\"id_30\"].fillna(\"-999\", inplace=True)\n",
    "orig_train[\"OS\"] = orig_train[\"id_30\"].apply(os)\n",
    "\n",
    "orig_test[\"id_30\"].fillna(\"-999\", inplace=True)\n",
    "orig_test[\"OS\"] = orig_test[\"id_30\"].apply(os)\n",
    "\n",
    "#id_31 \n",
    "# latest 여부 / 브라우저 col 생성\n",
    "latest_browser_list = [\"samsung browser 7.0\",\n",
    "                  \"opera 53.0\",\n",
    "                  \"mobile safari 10.0\",\n",
    "                  \"google search application 49.0\",\n",
    "                  \"firefox 60.0\",\n",
    "                  \"edge 17.0\",\n",
    "                  \"chrome 69.0\", \n",
    "                  \"chrome 67.0 for android\",\n",
    "                  \"chrome 63.0 for android\",\n",
    "                  \"chrome 63.0 for ios\",\n",
    "                  \"chrome 64.0\",\n",
    "                  \"chrome 64.0 for android\",\n",
    "                  \"chrome 64.0 for ios\",\n",
    "                  \"chrome 65.0\",\n",
    "                  \"chrome 65.0 for android\",\n",
    "                  \"chrome 65.0 for ios\",\n",
    "                  \"chrome 66.0\",\n",
    "                  \"chrome 66.0 for android\",\n",
    "                  \"chrome 66.0 for ios\"\n",
    "                 ]\n",
    "\n",
    "def latest_browser(df):\n",
    "    if df == \"-999\":\n",
    "        df = -999\n",
    "    elif df in latest_browser_list:\n",
    "        df = 1\n",
    "    else:\n",
    "        df = 0\n",
    "    return df\n",
    "\n",
    "def browser(df):\n",
    "    if df == \"-999\":\n",
    "        df = -999\n",
    "    elif \"chrome\" in df:\n",
    "        df = \"chrome\"\n",
    "    elif \"safari\" in df:\n",
    "        df = \"safari\"\n",
    "    elif \"firefox\" in df:\n",
    "        df = \"firefox\"\n",
    "    elif \"ie\" in df:\n",
    "        df = \"ie\"\n",
    "    elif \"samsung\" in df:\n",
    "        df = \"samsumg\"\n",
    "    elif \"Samsung\" in df:\n",
    "        df = \"samsumg\"\n",
    "    return df \n",
    "    \n",
    "\n",
    "orig_train[\"id_31\"].fillna(\"-999\", inplace=True)\n",
    "orig_train[\"Latest_browser\"] = orig_train[\"id_31\"].apply(latest_browser)\n",
    "orig_train[\"Browser\"] = orig_train[\"id_31\"].apply(browser)\n",
    "\n",
    "orig_test[\"id_31\"].fillna(\"-999\", inplace=True)\n",
    "orig_test[\"Latest_browser\"] = orig_test[\"id_31\"].apply(latest_browser)\n",
    "orig_test[\"Browser\"] = orig_test[\"id_31\"].apply(browser)"
   ]
  },
  {
   "cell_type": "code",
   "execution_count": null,
   "metadata": {},
   "outputs": [],
   "source": [
    "# 민태꺼 'isFraud' drop\n",
    "V_cols_train = V_cols_train.drop('isFraud', axis=1)\n",
    "V_cols_test = V_cols_test.drop('isFraud', axis=1)"
   ]
  },
  {
   "cell_type": "code",
   "execution_count": 60,
   "metadata": {},
   "outputs": [],
   "source": [
    "# 민태꺼 V merge\n",
    "train_V = orig_train.merge(V_cols_train, how='left', on='TransactionID')\n",
    "test_V = orig_test.merge(V_cols_test, how='left', on='TransactionID')"
   ]
  },
  {
   "cell_type": "code",
   "execution_count": 61,
   "metadata": {},
   "outputs": [],
   "source": [
    "# 내꺼까지 merge\n",
    "train = train_V.merge(trans_train, how='left', on='TransactionID')\n",
    "test = test_V.merge(trans_test, how='left', on='TransactionID')"
   ]
  },
  {
   "cell_type": "code",
   "execution_count": 65,
   "metadata": {},
   "outputs": [
    {
     "data": {
      "text/plain": [
       "Text(0.5, 1.0, 'TransactionAmt Distribution')"
      ]
     },
     "execution_count": 65,
     "metadata": {},
     "output_type": "execute_result"
    },
    {
     "data": {
      "image/png": "[encoded data removed]",
      "text/plain": [
       "<Figure size 720x360 with 1 Axes>"
      ]
     },
     "metadata": {
      "needs_background": "light"
     },
     "output_type": "display_data"
    }
   ],
   "source": [
    "import matplotlib.pyplot as plt\n",
    "import seaborn as sns\n",
    "\n",
    "# 민태 TransactionAmt log regularization 그래프\n",
    "f, (ax1) = plt.subplots(1, 1, figsize=(10, 5))\n",
    "ax = sns.distplot(train['TransactionAmt'], bins=3, hist=False, ax=ax1,label='train',color='b')\n",
    "ax = sns.distplot(test['TransactionAmt'], bins=3, hist=False, ax=ax1, label='test',color='r')\n",
    "ax1.set_title('TransactionAmt Distribution', fontsize=20)"
   ]
  },
  {
   "cell_type": "code",
   "execution_count": 66,
   "metadata": {},
   "outputs": [],
   "source": [
    "train['TransactionAmt'] = np.log(train['TransactionAmt']+1)\n",
    "test['TransactionAmt'] = np.log(test['TransactionAmt']+1)"
   ]
  },
  {
   "cell_type": "code",
   "execution_count": 67,
   "metadata": {},
   "outputs": [
    {
     "data": {
      "text/plain": [
       "Text(0.5, 1.0, 'TransactionAmt Distribution')"
      ]
     },
     "execution_count": 67,
     "metadata": {},
     "output_type": "execute_result"
    },
    {
     "data": {
      "image/png": "[encoded data removed]",
      "text/plain": [
       "<Figure size 720x360 with 1 Axes>"
      ]
     },
     "metadata": {
      "needs_background": "light"
     },
     "output_type": "display_data"
    }
   ],
   "source": [
    "f, (ax1) = plt.subplots(1, 1, figsize=(10, 5))\n",
    "ax = sns.distplot(train['TransactionAmt'], bins=3, hist=False, ax=ax1,label='train',color='b')\n",
    "ax = sns.distplot(test['TransactionAmt'], bins=3, hist=False, ax=ax1, label='test',color='r')\n",
    "ax1.set_title('TransactionAmt Distribution', fontsize=20)"
   ]
  },
  {
   "cell_type": "code",
   "execution_count": 68,
   "metadata": {},
   "outputs": [
    {
     "name": "stdout",
     "output_type": "stream",
     "text": [
      "(590540, 372)\n",
      "(506691, 371)\n"
     ]
    }
   ],
   "source": [
    "print(train.shape)\n",
    "print(test.shape)"
   ]
  },
  {
   "cell_type": "code",
   "execution_count": 70,
   "metadata": {},
   "outputs": [],
   "source": [
    "dir_name = 'merged_data'\n",
    "train.to_csv('./{directory}/train.csv'.format(directory=dir_name), index=False)\n",
    "test.to_csv('./{directory}/test.csv'.format(directory=dir_name), index=False)"
   ]
  },
  {
   "cell_type": "markdown",
   "metadata": {},
   "source": [
    "###  원본  데이터 merge -> 민태꺼 V 있는거 빼기 -> 민태꺼 추가 -> 내꺼 추가 -> 준형이형꺼 추가"
   ]
  },
  {
   "cell_type": "markdown",
   "metadata": {},
   "source": [
    "# XGBoost"
   ]
  },
  {
   "cell_type": "code",
   "execution_count": 71,
   "metadata": {},
   "outputs": [],
   "source": [
    "y_train = train['isFraud'].copy()"
   ]
  },
  {
   "cell_type": "code",
   "execution_count": 72,
   "metadata": {},
   "outputs": [],
   "source": [
    "X_train = train.drop('isFraud', axis=1)\n",
    "X_test = test.copy()"
   ]
  },
  {
   "cell_type": "code",
   "execution_count": 73,
   "metadata": {},
   "outputs": [],
   "source": [
    "# Fill numeric columns' NaN values with mean\n",
    "for c in X_train.columns:\n",
    "    if X_train[c].dtype=='float16' or  X_train[c].dtype=='float32' or  X_train[c].dtype=='float64':\n",
    "        X_train[c].fillna(X_train[c].mean())\n",
    "        X_test[c].fillna(X_train[c].mean())"
   ]
  },
  {
   "cell_type": "code",
   "execution_count": 74,
   "metadata": {},
   "outputs": [],
   "source": [
    "# Fill categorical columns' NaN values with placeholder (-999)\n",
    "X_train = X_train.fillna(-999)\n",
    "X_test = X_test.fillna(-999)"
   ]
  },
  {
   "cell_type": "code",
   "execution_count": 75,
   "metadata": {},
   "outputs": [],
   "source": [
    "# Label-Encode categorical columns\n",
    "for f in X_train.columns:\n",
    "    if X_train[f].dtype=='object' or X_test[f].dtype=='object': \n",
    "        lbl = preprocessing.LabelEncoder()\n",
    "        lbl.fit(list(X_train[f].values) + list(X_test[f].values))\n",
    "        X_train[f] = lbl.transform(list(X_train[f].values))\n",
    "        X_test[f] = lbl.transform(list(X_test[f].values))"
   ]
  },
  {
   "cell_type": "code",
   "execution_count": 76,
   "metadata": {},
   "outputs": [
    {
     "name": "stdout",
     "output_type": "stream",
     "text": [
      "KFold(n_splits=4, random_state=None, shuffle=True)\n"
     ]
    }
   ],
   "source": [
    "# Set up K-Fold\n",
    "n_fold = 4\n",
    "folds = KFold(n_splits=n_fold, shuffle=True)\n",
    "\n",
    "print(folds)"
   ]
  },
  {
   "cell_type": "code",
   "execution_count": 77,
   "metadata": {},
   "outputs": [],
   "source": [
    "# Initialize submission DataFrame\n",
    "sample_submission = pd.read_csv('../../../Data/sample_submission.csv')\n",
    "xgb_submission = sample_submission.copy()\n",
    "xgb_submission['isFraud'] = 0"
   ]
  },
  {
   "cell_type": "code",
   "execution_count": 81,
   "metadata": {},
   "outputs": [
    {
     "name": "stdout",
     "output_type": "stream",
     "text": [
      "XGBoost --> Tree method: gpu_hist, Fold_N: 4\n",
      "-------------------------------------------------------\n",
      "Fold 0 started..., Time: 2019-8-16 20:45:36\n",
      "Completed, Time elapsed: 1264.5027296543121 seconds\n",
      "ROC accuracy: 0.9701758052714257\n",
      "-------------------------------------------------------\n",
      "Fold 1 started..., Time: 2019-8-16 21:6:40\n",
      "Completed, Time elapsed: 1275.3487725257874 seconds\n",
      "ROC accuracy: 0.9695751050676812\n",
      "-------------------------------------------------------\n",
      "Fold 2 started..., Time: 2019-8-16 21:27:56\n",
      "Completed, Time elapsed: 1266.3630414009094 seconds\n",
      "ROC accuracy: 0.9728236524779851\n",
      "-------------------------------------------------------\n",
      "Fold 3 started..., Time: 2019-8-16 21:49:3\n",
      "Completed, Time elapsed: 1280.5088231563568 seconds\n",
      "ROC accuracy: 0.970005734270613\n",
      "-------------------------------------------------------\n",
      "Done.\n"
     ]
    }
   ],
   "source": [
    "# auto, exact, approx, hist, gpu_hist (https://xgboost.readthedocs.io/en/latest/parameter.html)\n",
    "tree_method = 'gpu_hist'\n",
    "print('XGBoost --> Tree method: {}, Fold_N: {}'.format(tree_method, n_fold))\n",
    "print('-------------------------------------------------------')\n",
    "\n",
    "# Set timezone\n",
    "os.environ['TZ'] = 'Asia/Seoul'\n",
    "time.tzset()\n",
    "\n",
    "# Execute K-Fold XGBoost\n",
    "for fold_n, (train_index, valid_index) in enumerate(folds.split(X_train)):\n",
    "    xgbclf = xgb.XGBClassifier(\n",
    "        n_estimators=1000,\n",
    "        max_depth=8,\n",
    "        learning_rate=0.048,\n",
    "        subsample=0.85,\n",
    "        colsample_bytree=0.85,\n",
    "        missing=-999,\n",
    "        tree_method=tree_method,\n",
    "        reg_alpha=0.15,\n",
    "        reg_lamdba=0.85\n",
    "    )\n",
    "\n",
    "    # Print current iteration information\n",
    "    start = time.time()\n",
    "    now = time.localtime(start)\n",
    "    print('Fold {} started..., Time: {yy}-{mm}-{dd} {hh}:{MM}:{ss}'.format(fold_n, yy=now.tm_year, mm=now.tm_mon, dd=now.tm_mday, hh=now.tm_hour, MM=now.tm_min, ss=now.tm_sec))\n",
    "    \n",
    "    X_train_, X_valid = X_train.iloc[train_index], X_train.iloc[valid_index]\n",
    "    y_train_, y_valid = y_train.iloc[train_index], y_train.iloc[valid_index]\n",
    "    xgbclf.fit(X_train_,y_train_)\n",
    "    del X_train_,y_train_\n",
    "    pred=xgbclf.predict_proba(X_test)[:,1]\n",
    "    val=xgbclf.predict_proba(X_valid)[:,1]\n",
    "    del xgbclf, X_valid\n",
    "    \n",
    "    # Measure time elapsed\n",
    "    now = time.time()\n",
    "    time_elapsed = now - start\n",
    "    print('Completed, Time elapsed: {} seconds'.format(time_elapsed))\n",
    "    \n",
    "    print('ROC accuracy: {}'.format(roc_auc_score(y_valid, val)))\n",
    "    del val,y_valid\n",
    "    xgb_submission['isFraud'] = xgb_submission['isFraud']+pred/n_fold\n",
    "    del pred\n",
    "    gc.collect()\n",
    "    \n",
    "    print('-------------------------------------------------------')\n",
    "    \n",
    "print('Done.')"
   ]
  },
  {
   "cell_type": "code",
   "execution_count": 82,
   "metadata": {},
   "outputs": [
    {
     "data": {
      "text/html": [
       "<div>\n",
       "<style scoped>\n",
       "    .dataframe tbody tr th:only-of-type {\n",
       "        vertical-align: middle;\n",
       "    }\n",
       "\n",
       "    .dataframe tbody tr th {\n",
       "        vertical-align: top;\n",
       "    }\n",
       "\n",
       "    .dataframe thead th {\n",
       "        text-align: right;\n",
       "    }\n",
       "</style>\n",
       "<table border=\"1\" class=\"dataframe\">\n",
       "  <thead>\n",
       "    <tr style=\"text-align: right;\">\n",
       "      <th></th>\n",
       "      <th>TransactionID</th>\n",
       "      <th>isFraud</th>\n",
       "    </tr>\n",
       "  </thead>\n",
       "  <tbody>\n",
       "    <tr>\n",
       "      <th>0</th>\n",
       "      <td>3663549</td>\n",
       "      <td>0.000668</td>\n",
       "    </tr>\n",
       "    <tr>\n",
       "      <th>1</th>\n",
       "      <td>3663550</td>\n",
       "      <td>0.000819</td>\n",
       "    </tr>\n",
       "    <tr>\n",
       "      <th>2</th>\n",
       "      <td>3663551</td>\n",
       "      <td>0.000199</td>\n",
       "    </tr>\n",
       "    <tr>\n",
       "      <th>3</th>\n",
       "      <td>3663552</td>\n",
       "      <td>0.001080</td>\n",
       "    </tr>\n",
       "    <tr>\n",
       "      <th>4</th>\n",
       "      <td>3663553</td>\n",
       "      <td>0.000416</td>\n",
       "    </tr>\n",
       "  </tbody>\n",
       "</table>\n",
       "</div>"
      ],
      "text/plain": [
       "   TransactionID   isFraud\n",
       "0        3663549  0.000668\n",
       "1        3663550  0.000819\n",
       "2        3663551  0.000199\n",
       "3        3663552  0.001080\n",
       "4        3663553  0.000416"
      ]
     },
     "execution_count": 82,
     "metadata": {},
     "output_type": "execute_result"
    }
   ],
   "source": [
    "dir_name = 'submission'\n",
    "xgb_submission.to_csv('./{directory}/sub_xgboost.csv'.format(directory=dir_name), index=False)\n",
    "xgb_submission.head()"
   ]
  },
  {
   "cell_type": "code",
   "execution_count": null,
   "metadata": {},
   "outputs": [],
   "source": []
  }
 ],
 "metadata": {
  "kernelspec": {
   "display_name": "Python 3",
   "language": "python",
   "name": "python3"
  }
 },
 "nbformat": 4,
 "nbformat_minor": 2
}
