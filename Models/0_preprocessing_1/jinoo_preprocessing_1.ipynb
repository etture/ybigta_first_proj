{
 "cells": [
  {
   "cell_type": "code",
   "execution_count": null,
   "metadata": {},
   "outputs": [],
   "source": [
    "# !pip3 install modin \n",
    "# !pip3 install --upgrade pandas"
   ]
  },
  {
   "cell_type": "code",
   "execution_count": 2,
   "metadata": {},
   "outputs": [],
   "source": [
    "import os\n",
    "import gc\n",
    "import sys\n",
    "\n",
    "import pandas as pd\n",
    "# import modin.pandas as pd\n",
    "import numpy as np\n",
    "from sklearn.model_selection import TimeSeriesSplit, KFold\n",
    "from sklearn.metrics import roc_auc_score\n",
    "import xgboost as xgb"
   ]
  },
  {
   "cell_type": "code",
   "execution_count": 3,
   "metadata": {},
   "outputs": [],
   "source": [
    "from sklearn import preprocessing"
   ]
  },
  {
   "cell_type": "code",
   "execution_count": 4,
   "metadata": {},
   "outputs": [],
   "source": [
    "pd.set_option('display.expand_frame_repr', False)\n",
    "pd.set_option('display.max_columns', 500)\n",
    "pd.set_option('display.max_rows', 500)"
   ]
  },
  {
   "cell_type": "code",
   "execution_count": 9,
   "metadata": {},
   "outputs": [],
   "source": [
    "sample_submission = pd.read_csv('../../../Data/sample_submission.csv')"
   ]
  },
  {
   "cell_type": "code",
   "execution_count": 11,
   "metadata": {},
   "outputs": [],
   "source": [
    "train_tr = pd.read_csv('../../../Data/train_transaction.csv')\n",
    "train_id = pd.read_csv('../../../Data/train_identity.csv')\n",
    "test_tr = pd.read_csv('../../../Data/test_transaction.csv')\n",
    "test_id = pd.read_csv('../../../Data/test_identity.csv')"
   ]
  },
  {
   "cell_type": "code",
   "execution_count": 12,
   "metadata": {},
   "outputs": [],
   "source": [
    "train = train_tr.merge(train_id, how='left', on='TransactionID')\n",
    "test = test_tr.merge(test_id, how='left', on='TransactionID')\n",
    "# del train_tr, train_id, test_tr, test_id"
   ]
  },
  {
   "cell_type": "code",
   "execution_count": 13,
   "metadata": {},
   "outputs": [
    {
     "name": "stdout",
     "output_type": "stream",
     "text": [
      "train.shape:  (590540, 434)\n",
      "test.shape:  (506691, 433)\n",
      "----------------\n",
      "train_tr.shape:  (590540, 394)\n",
      "train_id.shape:  (144233, 41)\n",
      "test_tr.shape:  (506691, 393)\n",
      "test_id.shape:  (141907, 41)\n",
      "sample_submission.shape:  (506691, 2)\n"
     ]
    }
   ],
   "source": [
    "print('train.shape: ', train.shape)\n",
    "print('test.shape: ', test.shape)\n",
    "print('----------------')\n",
    "print('train_tr.shape: ', train_tr.shape)\n",
    "print('train_id.shape: ', train_id.shape)\n",
    "print('test_tr.shape: ', test_tr.shape)\n",
    "print('test_id.shape: ', test_id.shape)\n",
    "print('sample_submission.shape: ', sample_submission.shape)\n"
   ]
  },
  {
   "cell_type": "code",
   "execution_count": 14,
   "metadata": {},
   "outputs": [],
   "source": [
    "def reduce_mem_usage(df, verbose=True):\n",
    "    numerics = ['int16', 'int32', 'int64', 'float16', 'float32', 'float64']\n",
    "    start_mem = df.memory_usage().sum() / 1024**2    \n",
    "    for col in df.columns:\n",
    "        col_type = df[col].dtypes\n",
    "        if col_type in numerics:\n",
    "            c_min = df[col].min()\n",
    "            c_max = df[col].max()\n",
    "            if str(col_type)[:3] == 'int':\n",
    "                if c_min > np.iinfo(np.int8).min and c_max < np.iinfo(np.int8).max:\n",
    "                    df[col] = df[col].astype(np.int8)\n",
    "                elif c_min > np.iinfo(np.int16).min and c_max < np.iinfo(np.int16).max:\n",
    "                    df[col] = df[col].astype(np.int16)\n",
    "                elif c_min > np.iinfo(np.int32).min and c_max < np.iinfo(np.int32).max:\n",
    "                    df[col] = df[col].astype(np.int32)\n",
    "                elif c_min > np.iinfo(np.int64).min and c_max < np.iinfo(np.int64).max:\n",
    "                    df[col] = df[col].astype(np.int64)  \n",
    "            else:\n",
    "                if c_min > np.finfo(np.float16).min and c_max < np.finfo(np.float16).max:\n",
    "                    df[col] = df[col].astype(np.float16)\n",
    "                elif c_min > np.finfo(np.float32).min and c_max < np.finfo(np.float32).max:\n",
    "                    df[col] = df[col].astype(np.float32)\n",
    "                else:\n",
    "                    df[col] = df[col].astype(np.float64)    \n",
    "    end_mem = df.memory_usage().sum() / 1024**2\n",
    "    if verbose: print('Mem. usage decreased to {:5.2f} Mb ({:.1f}% reduction)'.format(end_mem, 100 * (start_mem - end_mem) / start_mem))\n",
    "    return df"
   ]
  },
  {
   "cell_type": "code",
   "execution_count": 15,
   "metadata": {},
   "outputs": [
    {
     "name": "stdout",
     "output_type": "stream",
     "text": [
      "Mem. usage decreased to 650.48 Mb (66.8% reduction)\n",
      "Mem. usage decreased to 565.37 Mb (66.3% reduction)\n",
      "training set shape:  (590540, 434)\n",
      "test set shape:  (506691, 433)\n"
     ]
    }
   ],
   "source": [
    "train = reduce_mem_usage(train)\n",
    "test = reduce_mem_usage(test)\n",
    "print('training set shape: ', train.shape)\n",
    "print('test set shape: ', test.shape)"
   ]
  },
  {
   "cell_type": "markdown",
   "metadata": {},
   "source": [
    "# 전처리\n",
    "### 맡은 부분: Transaction 앞부분 (~M까지)"
   ]
  },
  {
   "cell_type": "code",
   "execution_count": 16,
   "metadata": {},
   "outputs": [],
   "source": [
    "for column in ['card1', 'card2', 'card3', 'card4', 'card5', 'card6', 'addr1', 'addr2']:\n",
    "    train[column +  '_count_full'] = \\\n",
    "        train[column].map(pd.concat([train[column], test[column]], ignore_index=True).value_counts(dropna=False))\n",
    "    test[column +  '_count_full'] = \\\n",
    "        test[column].map(pd.concat([train[column], test[column]], ignore_index=True).value_counts(dropna=False))\n"
   ]
  },
  {
   "cell_type": "code",
   "execution_count": 17,
   "metadata": {},
   "outputs": [],
   "source": [
    "train['Transaction_day_of_week'] = np.floor((train['TransactionDT'] / (3600 * 24) - 1) % 7)\n",
    "test['Transaction_day_of_week'] = np.floor((test['TransactionDT'] / (3600 * 24) - 1) % 7)\n",
    "\n",
    "train['Transaction_hour_of_day'] = np.floor(train['TransactionDT'] / 3600) % 24\n",
    "test['Transaction_hour_of_day'] = np.floor(test['TransactionDT'] / 3600) % 24"
   ]
  },
  {
   "cell_type": "code",
   "execution_count": 18,
   "metadata": {},
   "outputs": [],
   "source": [
    "train['TransactionAmt_to_mean_card1'] = train['TransactionAmt'] / train.groupby(['card1'])['TransactionAmt'].transform('mean')\n",
    "train['TransactionAmt_to_mean_card4'] = train['TransactionAmt'] / train.groupby(['card4'])['TransactionAmt'].transform('mean')\n",
    "train['TransactionAmt_to_std_card1'] = train['TransactionAmt'] / train.groupby(['card1'])['TransactionAmt'].transform('std')\n",
    "train['TransactionAmt_to_std_card4'] = train['TransactionAmt'] / train.groupby(['card4'])['TransactionAmt'].transform('std')\n",
    "\n",
    "test['TransactionAmt_to_mean_card1'] = test['TransactionAmt'] / test.groupby(['card1'])['TransactionAmt'].transform('mean')\n",
    "test['TransactionAmt_to_mean_card4'] = test['TransactionAmt'] / test.groupby(['card4'])['TransactionAmt'].transform('mean')\n",
    "test['TransactionAmt_to_std_card1'] = test['TransactionAmt'] / test.groupby(['card1'])['TransactionAmt'].transform('std')\n",
    "test['TransactionAmt_to_std_card4'] = test['TransactionAmt'] / test.groupby(['card4'])['TransactionAmt'].transform('std')"
   ]
  },
  {
   "cell_type": "code",
   "execution_count": 19,
   "metadata": {},
   "outputs": [
    {
     "data": {
      "text/plain": [
       "0            NaN\n",
       "1      gmail.com\n",
       "2    outlook.com\n",
       "3      yahoo.com\n",
       "4      gmail.com\n",
       "dtype: object"
      ]
     },
     "execution_count": 19,
     "metadata": {},
     "output_type": "execute_result"
    }
   ],
   "source": [
    "train[['R_emaildomain', 'P_emaildomain']].apply(lambda x: x[0] if x[0] == np.nan else x[1], axis=1).head()"
   ]
  },
  {
   "cell_type": "code",
   "execution_count": 20,
   "metadata": {},
   "outputs": [],
   "source": [
    "train['emaildomain'] = train[['R_emaildomain', 'P_emaildomain']].apply(lambda x: x[0] if x[0] == np.nan else x[1], axis=1)\n",
    "test['emaildomain'] = test[['R_emaildomain', 'P_emaildomain']].apply(lambda x: x[0] if x[0] == np.nan else x[1], axis=1)"
   ]
  },
  {
   "cell_type": "code",
   "execution_count": 21,
   "metadata": {},
   "outputs": [],
   "source": [
    "train = train.drop(columns=['R_emaildomain', 'P_emaildomain'])\n",
    "test = test.drop(columns=['R_emaildomain', 'P_emaildomain'])"
   ]
  },
  {
   "cell_type": "code",
   "execution_count": 22,
   "metadata": {
    "scrolled": false
   },
   "outputs": [
    {
     "data": {
      "text/plain": [
       "Index(['TransactionID', 'isFraud', 'TransactionDT', 'TransactionAmt',\n",
       "       'ProductCD', 'card1', 'card2', 'card3', 'card4', 'card5',\n",
       "       ...\n",
       "       'card6_count_full', 'addr1_count_full', 'addr2_count_full',\n",
       "       'Transaction_day_of_week', 'Transaction_hour_of_day',\n",
       "       'TransactionAmt_to_mean_card1', 'TransactionAmt_to_mean_card4',\n",
       "       'TransactionAmt_to_std_card1', 'TransactionAmt_to_std_card4',\n",
       "       'emaildomain'],\n",
       "      dtype='object', length=447)"
      ]
     },
     "execution_count": 22,
     "metadata": {},
     "output_type": "execute_result"
    }
   ],
   "source": [
    "train.columns"
   ]
  },
  {
   "cell_type": "code",
   "execution_count": 23,
   "metadata": {},
   "outputs": [],
   "source": [
    "def print_columns(df):\n",
    "    cols = df.columns\n",
    "    string = ''\n",
    "    for col in cols:\n",
    "        string += '\"%s\", ' % str(col)\n",
    "    print(string)\n",
    "    print(len(string))"
   ]
  },
  {
   "cell_type": "code",
   "execution_count": 24,
   "metadata": {},
   "outputs": [
    {
     "name": "stdout",
     "output_type": "stream",
     "text": [
      "\"TransactionID\", \"isFraud\", \"TransactionDT\", \"TransactionAmt\", \"ProductCD\", \"card1\", \"card2\", \"card3\", \"card4\", \"card5\", \"card6\", \"addr1\", \"addr2\", \"dist1\", \"dist2\", \"C1\", \"C2\", \"C3\", \"C4\", \"C5\", \"C6\", \"C7\", \"C8\", \"C9\", \"C10\", \"C11\", \"C12\", \"C13\", \"C14\", \"D1\", \"D2\", \"D3\", \"D4\", \"D5\", \"D6\", \"D7\", \"D8\", \"D9\", \"D10\", \"D11\", \"D12\", \"D13\", \"D14\", \"D15\", \"M1\", \"M2\", \"M3\", \"M4\", \"M5\", \"M6\", \"M7\", \"M8\", \"M9\", \"V1\", \"V2\", \"V3\", \"V4\", \"V5\", \"V6\", \"V7\", \"V8\", \"V9\", \"V10\", \"V11\", \"V12\", \"V13\", \"V14\", \"V15\", \"V16\", \"V17\", \"V18\", \"V19\", \"V20\", \"V21\", \"V22\", \"V23\", \"V24\", \"V25\", \"V26\", \"V27\", \"V28\", \"V29\", \"V30\", \"V31\", \"V32\", \"V33\", \"V34\", \"V35\", \"V36\", \"V37\", \"V38\", \"V39\", \"V40\", \"V41\", \"V42\", \"V43\", \"V44\", \"V45\", \"V46\", \"V47\", \"V48\", \"V49\", \"V50\", \"V51\", \"V52\", \"V53\", \"V54\", \"V55\", \"V56\", \"V57\", \"V58\", \"V59\", \"V60\", \"V61\", \"V62\", \"V63\", \"V64\", \"V65\", \"V66\", \"V67\", \"V68\", \"V69\", \"V70\", \"V71\", \"V72\", \"V73\", \"V74\", \"V75\", \"V76\", \"V77\", \"V78\", \"V79\", \"V80\", \"V81\", \"V82\", \"V83\", \"V84\", \"V85\", \"V86\", \"V87\", \"V88\", \"V89\", \"V90\", \"V91\", \"V92\", \"V93\", \"V94\", \"V95\", \"V96\", \"V97\", \"V98\", \"V99\", \"V100\", \"V101\", \"V102\", \"V103\", \"V104\", \"V105\", \"V106\", \"V107\", \"V108\", \"V109\", \"V110\", \"V111\", \"V112\", \"V113\", \"V114\", \"V115\", \"V116\", \"V117\", \"V118\", \"V119\", \"V120\", \"V121\", \"V122\", \"V123\", \"V124\", \"V125\", \"V126\", \"V127\", \"V128\", \"V129\", \"V130\", \"V131\", \"V132\", \"V133\", \"V134\", \"V135\", \"V136\", \"V137\", \"V138\", \"V139\", \"V140\", \"V141\", \"V142\", \"V143\", \"V144\", \"V145\", \"V146\", \"V147\", \"V148\", \"V149\", \"V150\", \"V151\", \"V152\", \"V153\", \"V154\", \"V155\", \"V156\", \"V157\", \"V158\", \"V159\", \"V160\", \"V161\", \"V162\", \"V163\", \"V164\", \"V165\", \"V166\", \"V167\", \"V168\", \"V169\", \"V170\", \"V171\", \"V172\", \"V173\", \"V174\", \"V175\", \"V176\", \"V177\", \"V178\", \"V179\", \"V180\", \"V181\", \"V182\", \"V183\", \"V184\", \"V185\", \"V186\", \"V187\", \"V188\", \"V189\", \"V190\", \"V191\", \"V192\", \"V193\", \"V194\", \"V195\", \"V196\", \"V197\", \"V198\", \"V199\", \"V200\", \"V201\", \"V202\", \"V203\", \"V204\", \"V205\", \"V206\", \"V207\", \"V208\", \"V209\", \"V210\", \"V211\", \"V212\", \"V213\", \"V214\", \"V215\", \"V216\", \"V217\", \"V218\", \"V219\", \"V220\", \"V221\", \"V222\", \"V223\", \"V224\", \"V225\", \"V226\", \"V227\", \"V228\", \"V229\", \"V230\", \"V231\", \"V232\", \"V233\", \"V234\", \"V235\", \"V236\", \"V237\", \"V238\", \"V239\", \"V240\", \"V241\", \"V242\", \"V243\", \"V244\", \"V245\", \"V246\", \"V247\", \"V248\", \"V249\", \"V250\", \"V251\", \"V252\", \"V253\", \"V254\", \"V255\", \"V256\", \"V257\", \"V258\", \"V259\", \"V260\", \"V261\", \"V262\", \"V263\", \"V264\", \"V265\", \"V266\", \"V267\", \"V268\", \"V269\", \"V270\", \"V271\", \"V272\", \"V273\", \"V274\", \"V275\", \"V276\", \"V277\", \"V278\", \"V279\", \"V280\", \"V281\", \"V282\", \"V283\", \"V284\", \"V285\", \"V286\", \"V287\", \"V288\", \"V289\", \"V290\", \"V291\", \"V292\", \"V293\", \"V294\", \"V295\", \"V296\", \"V297\", \"V298\", \"V299\", \"V300\", \"V301\", \"V302\", \"V303\", \"V304\", \"V305\", \"V306\", \"V307\", \"V308\", \"V309\", \"V310\", \"V311\", \"V312\", \"V313\", \"V314\", \"V315\", \"V316\", \"V317\", \"V318\", \"V319\", \"V320\", \"V321\", \"V322\", \"V323\", \"V324\", \"V325\", \"V326\", \"V327\", \"V328\", \"V329\", \"V330\", \"V331\", \"V332\", \"V333\", \"V334\", \"V335\", \"V336\", \"V337\", \"V338\", \"V339\", \"id_01\", \"id_02\", \"id_03\", \"id_04\", \"id_05\", \"id_06\", \"id_07\", \"id_08\", \"id_09\", \"id_10\", \"id_11\", \"id_12\", \"id_13\", \"id_14\", \"id_15\", \"id_16\", \"id_17\", \"id_18\", \"id_19\", \"id_20\", \"id_21\", \"id_22\", \"id_23\", \"id_24\", \"id_25\", \"id_26\", \"id_27\", \"id_28\", \"id_29\", \"id_30\", \"id_31\", \"id_32\", \"id_33\", \"id_34\", \"id_35\", \"id_36\", \"id_37\", \"id_38\", \"DeviceType\", \"DeviceInfo\", \"card1_count_full\", \"card2_count_full\", \"card3_count_full\", \"card4_count_full\", \"card5_count_full\", \"card6_count_full\", \"addr1_count_full\", \"addr2_count_full\", \"Transaction_day_of_week\", \"Transaction_hour_of_day\", \"TransactionAmt_to_mean_card1\", \"TransactionAmt_to_mean_card4\", \"TransactionAmt_to_std_card1\", \"TransactionAmt_to_std_card4\", \"emaildomain\", \n",
      "3734\n"
     ]
    }
   ],
   "source": [
    "print_columns(train)"
   ]
  },
  {
   "cell_type": "code",
   "execution_count": 25,
   "metadata": {},
   "outputs": [
    {
     "name": "stdout",
     "output_type": "stream",
     "text": [
      "\"TransactionID\", \"TransactionDT\", \"TransactionAmt\", \"ProductCD\", \"card1\", \"card2\", \"card3\", \"card4\", \"card5\", \"card6\", \"addr1\", \"addr2\", \"dist1\", \"dist2\", \"C1\", \"C2\", \"C3\", \"C4\", \"C5\", \"C6\", \"C7\", \"C8\", \"C9\", \"C10\", \"C11\", \"C12\", \"C13\", \"C14\", \"D1\", \"D2\", \"D3\", \"D4\", \"D5\", \"D6\", \"D7\", \"D8\", \"D9\", \"D10\", \"D11\", \"D12\", \"D13\", \"D14\", \"D15\", \"M1\", \"M2\", \"M3\", \"M4\", \"M5\", \"M6\", \"M7\", \"M8\", \"M9\", \"V1\", \"V2\", \"V3\", \"V4\", \"V5\", \"V6\", \"V7\", \"V8\", \"V9\", \"V10\", \"V11\", \"V12\", \"V13\", \"V14\", \"V15\", \"V16\", \"V17\", \"V18\", \"V19\", \"V20\", \"V21\", \"V22\", \"V23\", \"V24\", \"V25\", \"V26\", \"V27\", \"V28\", \"V29\", \"V30\", \"V31\", \"V32\", \"V33\", \"V34\", \"V35\", \"V36\", \"V37\", \"V38\", \"V39\", \"V40\", \"V41\", \"V42\", \"V43\", \"V44\", \"V45\", \"V46\", \"V47\", \"V48\", \"V49\", \"V50\", \"V51\", \"V52\", \"V53\", \"V54\", \"V55\", \"V56\", \"V57\", \"V58\", \"V59\", \"V60\", \"V61\", \"V62\", \"V63\", \"V64\", \"V65\", \"V66\", \"V67\", \"V68\", \"V69\", \"V70\", \"V71\", \"V72\", \"V73\", \"V74\", \"V75\", \"V76\", \"V77\", \"V78\", \"V79\", \"V80\", \"V81\", \"V82\", \"V83\", \"V84\", \"V85\", \"V86\", \"V87\", \"V88\", \"V89\", \"V90\", \"V91\", \"V92\", \"V93\", \"V94\", \"V95\", \"V96\", \"V97\", \"V98\", \"V99\", \"V100\", \"V101\", \"V102\", \"V103\", \"V104\", \"V105\", \"V106\", \"V107\", \"V108\", \"V109\", \"V110\", \"V111\", \"V112\", \"V113\", \"V114\", \"V115\", \"V116\", \"V117\", \"V118\", \"V119\", \"V120\", \"V121\", \"V122\", \"V123\", \"V124\", \"V125\", \"V126\", \"V127\", \"V128\", \"V129\", \"V130\", \"V131\", \"V132\", \"V133\", \"V134\", \"V135\", \"V136\", \"V137\", \"V138\", \"V139\", \"V140\", \"V141\", \"V142\", \"V143\", \"V144\", \"V145\", \"V146\", \"V147\", \"V148\", \"V149\", \"V150\", \"V151\", \"V152\", \"V153\", \"V154\", \"V155\", \"V156\", \"V157\", \"V158\", \"V159\", \"V160\", \"V161\", \"V162\", \"V163\", \"V164\", \"V165\", \"V166\", \"V167\", \"V168\", \"V169\", \"V170\", \"V171\", \"V172\", \"V173\", \"V174\", \"V175\", \"V176\", \"V177\", \"V178\", \"V179\", \"V180\", \"V181\", \"V182\", \"V183\", \"V184\", \"V185\", \"V186\", \"V187\", \"V188\", \"V189\", \"V190\", \"V191\", \"V192\", \"V193\", \"V194\", \"V195\", \"V196\", \"V197\", \"V198\", \"V199\", \"V200\", \"V201\", \"V202\", \"V203\", \"V204\", \"V205\", \"V206\", \"V207\", \"V208\", \"V209\", \"V210\", \"V211\", \"V212\", \"V213\", \"V214\", \"V215\", \"V216\", \"V217\", \"V218\", \"V219\", \"V220\", \"V221\", \"V222\", \"V223\", \"V224\", \"V225\", \"V226\", \"V227\", \"V228\", \"V229\", \"V230\", \"V231\", \"V232\", \"V233\", \"V234\", \"V235\", \"V236\", \"V237\", \"V238\", \"V239\", \"V240\", \"V241\", \"V242\", \"V243\", \"V244\", \"V245\", \"V246\", \"V247\", \"V248\", \"V249\", \"V250\", \"V251\", \"V252\", \"V253\", \"V254\", \"V255\", \"V256\", \"V257\", \"V258\", \"V259\", \"V260\", \"V261\", \"V262\", \"V263\", \"V264\", \"V265\", \"V266\", \"V267\", \"V268\", \"V269\", \"V270\", \"V271\", \"V272\", \"V273\", \"V274\", \"V275\", \"V276\", \"V277\", \"V278\", \"V279\", \"V280\", \"V281\", \"V282\", \"V283\", \"V284\", \"V285\", \"V286\", \"V287\", \"V288\", \"V289\", \"V290\", \"V291\", \"V292\", \"V293\", \"V294\", \"V295\", \"V296\", \"V297\", \"V298\", \"V299\", \"V300\", \"V301\", \"V302\", \"V303\", \"V304\", \"V305\", \"V306\", \"V307\", \"V308\", \"V309\", \"V310\", \"V311\", \"V312\", \"V313\", \"V314\", \"V315\", \"V316\", \"V317\", \"V318\", \"V319\", \"V320\", \"V321\", \"V322\", \"V323\", \"V324\", \"V325\", \"V326\", \"V327\", \"V328\", \"V329\", \"V330\", \"V331\", \"V332\", \"V333\", \"V334\", \"V335\", \"V336\", \"V337\", \"V338\", \"V339\", \"id_01\", \"id_02\", \"id_03\", \"id_04\", \"id_05\", \"id_06\", \"id_07\", \"id_08\", \"id_09\", \"id_10\", \"id_11\", \"id_12\", \"id_13\", \"id_14\", \"id_15\", \"id_16\", \"id_17\", \"id_18\", \"id_19\", \"id_20\", \"id_21\", \"id_22\", \"id_23\", \"id_24\", \"id_25\", \"id_26\", \"id_27\", \"id_28\", \"id_29\", \"id_30\", \"id_31\", \"id_32\", \"id_33\", \"id_34\", \"id_35\", \"id_36\", \"id_37\", \"id_38\", \"DeviceType\", \"DeviceInfo\", \"card1_count_full\", \"card2_count_full\", \"card3_count_full\", \"card4_count_full\", \"card5_count_full\", \"card6_count_full\", \"addr1_count_full\", \"addr2_count_full\", \"Transaction_day_of_week\", \"Transaction_hour_of_day\", \"TransactionAmt_to_mean_card1\", \"TransactionAmt_to_mean_card4\", \"TransactionAmt_to_std_card1\", \"TransactionAmt_to_std_card4\", \"emaildomain\", \n",
      "3723\n"
     ]
    }
   ],
   "source": [
    "print_columns(test)"
   ]
  },
  {
   "cell_type": "markdown",
   "metadata": {},
   "source": [
    "# 나머지 columns 모두 drop"
   ]
  },
  {
   "cell_type": "code",
   "execution_count": 26,
   "metadata": {},
   "outputs": [],
   "source": [
    "def check_and_drop_column(df, column):\n",
    "    if column in df.columns:\n",
    "        df.drop(columns=[column], axis=1, inplace=True)\n",
    "\n",
    "my_cols_to_drop = ['dist1', 'M1', 'M2', 'M3', 'M5', 'M6', 'M7', 'M8', 'M9', 'D2', 'D11']\n",
    "other_cols_to_drop = ['DeviceType', 'DeviceInfo']\n",
    "\n",
    "cols_to_drop = my_cols_to_drop + other_cols_to_drop\n",
    "\n",
    "for col in cols_to_drop:\n",
    "    check_and_drop_column(train, col)\n",
    "    check_and_drop_column(test, col)\n",
    "\n",
    "# Drop id01~id38\n",
    "for num in range(1, 39):\n",
    "    num_str = '%d' % num\n",
    "    if num < 10:\n",
    "        num_str = '0' + num_str\n",
    "    id_str = 'id_%s' % num_str\n",
    "    check_and_drop_column(train, id_str)\n",
    "    check_and_drop_column(test, id_str)\n",
    "    \n",
    "# Drop V1~V339\n",
    "for num in range(1, 340):\n",
    "    v_str = 'V%d' % num\n",
    "    check_and_drop_column(train, v_str)\n",
    "    check_and_drop_column(test, v_str)"
   ]
  },
  {
   "cell_type": "code",
   "execution_count": 27,
   "metadata": {},
   "outputs": [],
   "source": [
    "my_final_cols = []\n",
    "\n",
    "my_final_cols.extend([\"TransactionID\", \"card1_count_full\", \"card2_count_full\", \\\n",
    "                      \"card3_count_full\", \"card4_count_full\", \\\n",
    "                      \"card5_count_full\", \"card6_count_full\", \\\n",
    "                      \"addr1_count_full\", \"addr2_count_full\", \\\n",
    "                      \"Transaction_day_of_week\", \"Transaction_hour_of_day\", \\\n",
    "                      \"TransactionAmt_to_mean_card1\", \"TransactionAmt_to_mean_card4\", \\\n",
    "                      \"TransactionAmt_to_std_card1\", \"TransactionAmt_to_std_card4\", \"emaildomain\"])\n",
    "\n",
    "for col in train.columns:\n",
    "    if col not in my_final_cols:\n",
    "        check_and_drop_column(train, col)\n",
    "        \n",
    "for col in test.columns:\n",
    "    if col not in my_final_cols:\n",
    "        check_and_drop_column(test, col)"
   ]
  },
  {
   "cell_type": "markdown",
   "metadata": {},
   "source": [
    "## 최종 Columns"
   ]
  },
  {
   "cell_type": "code",
   "execution_count": 28,
   "metadata": {},
   "outputs": [
    {
     "name": "stdout",
     "output_type": "stream",
     "text": [
      "\"TransactionID\", \"card1_count_full\", \"card2_count_full\", \"card3_count_full\", \"card4_count_full\", \"card5_count_full\", \"card6_count_full\", \"addr1_count_full\", \"addr2_count_full\", \"Transaction_day_of_week\", \"Transaction_hour_of_day\", \"TransactionAmt_to_mean_card1\", \"TransactionAmt_to_mean_card4\", \"TransactionAmt_to_std_card1\", \"TransactionAmt_to_std_card4\", \"emaildomain\", \n",
      "372\n"
     ]
    }
   ],
   "source": [
    "print_columns(train)"
   ]
  },
  {
   "cell_type": "code",
   "execution_count": 29,
   "metadata": {},
   "outputs": [
    {
     "name": "stdout",
     "output_type": "stream",
     "text": [
      "\"TransactionID\", \"card1_count_full\", \"card2_count_full\", \"card3_count_full\", \"card4_count_full\", \"card5_count_full\", \"card6_count_full\", \"addr1_count_full\", \"addr2_count_full\", \"Transaction_day_of_week\", \"Transaction_hour_of_day\", \"TransactionAmt_to_mean_card1\", \"TransactionAmt_to_mean_card4\", \"TransactionAmt_to_std_card1\", \"TransactionAmt_to_std_card4\", \"emaildomain\", \n",
      "372\n"
     ]
    }
   ],
   "source": [
    "print_columns(test)"
   ]
  },
  {
   "cell_type": "code",
   "execution_count": 32,
   "metadata": {},
   "outputs": [],
   "source": [
    "test.to_csv('jinoo_test.csv', index=False)"
   ]
  },
  {
   "cell_type": "code",
   "execution_count": 33,
   "metadata": {},
   "outputs": [],
   "source": [
    "train.to_csv('jinoo_train.csv', index=False)"
   ]
  }
 ],
 "metadata": {
  "kernelspec": {
   "display_name": "Python 3",
   "language": "python",
   "name": "python3"
  },
  "language_info": {
   "codemirror_mode": {
    "name": "ipython",
    "version": 3
   },
   "file_extension": ".py",
   "mimetype": "text/x-python",
   "name": "python",
   "nbconvert_exporter": "python",
   "pygments_lexer": "ipython3",
   "version": "3.6.8"
  }
 },
 "nbformat": 4,
 "nbformat_minor": 2
}
