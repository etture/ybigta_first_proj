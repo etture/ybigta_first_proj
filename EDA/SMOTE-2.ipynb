{
 "cells": [
  {
   "cell_type": "code",
   "execution_count": 1,
   "metadata": {},
   "outputs": [],
   "source": [
    "import pandas as pd\n",
    "import numpy as np\n",
    "import matplotlib.pyplot as plt\n",
    "import seaborn as sns\n",
    "#import pandas_profiling\n",
    "\n",
    "from sklearn.linear_model import LogisticRegression\n",
    "from sklearn.model_selection import train_test_split\n",
    "#from sklearn.model_selection import TimeSeriesSplit\n",
    "from sklearn.model_selection import KFold\n",
    "from sklearn.feature_selection import RFECV\n",
    "from sklearn.preprocessing import LabelEncoder\n",
    "\n",
    "from sklearn.neighbors import KNeighborsClassifier\n",
    "from sklearn.svm import SVC, LinearSVC\n",
    "\n",
    "from sklearn.metrics import roc_auc_score\n",
    "from sklearn import preprocessing\n",
    "\n",
    "import xgboost as xgb\n",
    "\n",
    "from datetime import datetime\n",
    "import lightgbm as lgb\n",
    "#import multiprocessing\n",
    "#import gc\n"
   ]
  },
  {
   "cell_type": "code",
   "execution_count": 2,
   "metadata": {},
   "outputs": [],
   "source": [
    "from sklearn.preprocessing import MinMaxScaler  \n",
    "##smote 데이터 스케일링"
   ]
  },
  {
   "cell_type": "code",
   "execution_count": 3,
   "metadata": {},
   "outputs": [],
   "source": [
    "#!pip3 install imblearn"
   ]
  },
  {
   "cell_type": "code",
   "execution_count": 4,
   "metadata": {},
   "outputs": [],
   "source": [
    "from sklearn.datasets import make_classification\n",
    "from sklearn.decomposition import PCA\n",
    "from imblearn.over_sampling import SMOTE ##SMOTE 오예~ "
   ]
  },
  {
   "cell_type": "code",
   "execution_count": 5,
   "metadata": {},
   "outputs": [],
   "source": [
    "def reduce_mem_usage(df, verbose=True):\n",
    "    numerics = ['int16', 'int32', 'int64', 'float16', 'float32', 'float64']\n",
    "    start_mem = df.memory_usage().sum() / 1024**2    \n",
    "    for col in df.columns:\n",
    "        col_type = df[col].dtypes\n",
    "        if col_type in numerics:\n",
    "            c_min = df[col].min()\n",
    "            c_max = df[col].max()\n",
    "            if str(col_type)[:3] == 'int':\n",
    "                if c_min > np.iinfo(np.int8).min and c_max < np.iinfo(np.int8).max:\n",
    "                    df[col] = df[col].astype(np.int8)\n",
    "                elif c_min > np.iinfo(np.int16).min and c_max < np.iinfo(np.int16).max:\n",
    "                    df[col] = df[col].astype(np.int16)\n",
    "                elif c_min > np.iinfo(np.int32).min and c_max < np.iinfo(np.int32).max:\n",
    "                    df[col] = df[col].astype(np.int32)\n",
    "                elif c_min > np.iinfo(np.int64).min and c_max < np.iinfo(np.int64).max:\n",
    "                    df[col] = df[col].astype(np.int64)  \n",
    "            else:\n",
    "                if c_min > np.finfo(np.float16).min and c_max < np.finfo(np.float16).max:\n",
    "                    df[col] = df[col].astype(np.float16)\n",
    "                elif c_min > np.finfo(np.float32).min and c_max < np.finfo(np.float32).max:\n",
    "                    df[col] = df[col].astype(np.float32)\n",
    "                else:\n",
    "                    df[col] = df[col].astype(np.float64)    \n",
    "    end_mem = df.memory_usage().sum() / 1024**2\n",
    "    if verbose: print('Mem. usage decreased to {:5.2f} Mb ({:.1f}% reduction)'.format(end_mem, 100 * (start_mem - end_mem) / start_mem))\n",
    "    return df"
   ]
  },
  {
   "cell_type": "code",
   "execution_count": 6,
   "metadata": {},
   "outputs": [],
   "source": [
    "import os\n",
    "import gc\n",
    "import sys\n",
    "sys.path.append(\"../..\")"
   ]
  },
  {
   "cell_type": "code",
   "execution_count": 7,
   "metadata": {},
   "outputs": [
    {
     "data": {
      "text/plain": [
       "'/home/biglake0987/ybigta_first_proj/EDA'"
      ]
     },
     "execution_count": 7,
     "metadata": {},
     "output_type": "execute_result"
    }
   ],
   "source": [
    "os.getcwd()"
   ]
  },
  {
   "cell_type": "code",
   "execution_count": 8,
   "metadata": {},
   "outputs": [
    {
     "data": {
      "text/plain": [
       "['FinalPT_RFECV---1.ipynb',\n",
       " 'FinalPT_RFECV-1_XGBoost(error).ipynb',\n",
       " 'smote_train.csv',\n",
       " 'test_transaction.csv',\n",
       " 'rfecv_1_train.csv',\n",
       " 'V_cols_test.csv',\n",
       " 'train_transaction.csv',\n",
       " 'V_cols_train.csv',\n",
       " 'FinalPT_RFECV-----1.ipynb',\n",
       " '.ipynb_checkpoints',\n",
       " 'FinalPT_RFECV-1.ipynb',\n",
       " 'rfecv_1_test.csv',\n",
       " 'jinoo_train.csv',\n",
       " 'FinalPT_RFECV-1_XGBoost(x).ipynb',\n",
       " 'FinalPT_RFECV-----2.ipynb',\n",
       " 'test_identity.csv',\n",
       " 'rfecv_2_train.csv',\n",
       " 'train_identity.csv',\n",
       " 'SMOTE.ipynb',\n",
       " 'FinalPT_RFECV-----1(to_csv).ipynb',\n",
       " 'sample_submission.csv',\n",
       " 'sample.ipynb',\n",
       " 'SMOTE-Copy2.ipynb',\n",
       " 'to_csv(진우).ipynb',\n",
       " 'rfecv_2_test.csv',\n",
       " 'mintae1.ipynb',\n",
       " 'SMOTE-2.ipynb',\n",
       " 'jinoo_test.csv',\n",
       " 'V_cols(20190814).ipynb',\n",
       " '.gitkeep',\n",
       " 'smote_test.csv']"
      ]
     },
     "execution_count": 8,
     "metadata": {},
     "output_type": "execute_result"
    }
   ],
   "source": [
    "os.listdir()"
   ]
  },
  {
   "cell_type": "code",
   "execution_count": 9,
   "metadata": {},
   "outputs": [],
   "source": [
    "trans = pd.read_csv('train_transaction.csv', index_col='TransactionID')\n",
    "test_trans = pd.read_csv('test_transaction.csv', index_col='TransactionID')"
   ]
  },
  {
   "cell_type": "code",
   "execution_count": 10,
   "metadata": {},
   "outputs": [],
   "source": [
    "ident = pd.read_csv('train_identity.csv', index_col='TransactionID')\n",
    "test_ident = pd.read_csv('test_identity.csv', index_col='TransactionID')"
   ]
  },
  {
   "cell_type": "code",
   "execution_count": 11,
   "metadata": {},
   "outputs": [],
   "source": [
    "sample_sub = pd.read_csv('sample_submission.csv', index_col='TransactionID')"
   ]
  },
  {
   "cell_type": "code",
   "execution_count": 12,
   "metadata": {},
   "outputs": [],
   "source": [
    "train = trans.merge(ident, how='left', left_index=True, right_index=True)\n",
    "test = test_trans.merge(test_ident, how='left', left_index=True, right_index=True)"
   ]
  },
  {
   "cell_type": "code",
   "execution_count": 13,
   "metadata": {},
   "outputs": [
    {
     "data": {
      "text/plain": [
       "77"
      ]
     },
     "execution_count": 13,
     "metadata": {},
     "output_type": "execute_result"
    }
   ],
   "source": [
    "del trans, ident, test_trans, test_ident\n",
    "gc.collect()"
   ]
  },
  {
   "cell_type": "markdown",
   "metadata": {},
   "source": [
    "train = reduce_mem_usage(train)\n",
    "test = reduce_mem_usage(test)"
   ]
  },
  {
   "cell_type": "code",
   "execution_count": 16,
   "metadata": {},
   "outputs": [],
   "source": [
    "final_cols = ['isFraud','TransactionAmt','TransactionDT',\n",
    " 'P_emaildomain',\n",
    " 'R_emaildomain', \"ProductCD\", \"card1\", \"card2\", \"card3\", \"card4\", \"card5\", \"card6\", \n",
    "\"addr1\", \"addr2\", \"dist1\", \"dist2\", \"C1\", \"C2\", \"C3\", \"C4\", \"C5\", \"C6\", \"C7\", \"C8\", \"C9\", \"C10\", \n",
    "\"C11\", \"C12\", \"C13\", \"C14\", \"D1\", \"D2\", \"D3\", \"D4\", \"D5\", \"D6\", \"D7\", \"D8\", \"D9\", \"D10\", \"D11\", \"D12\", \n",
    "\"D13\", \"D14\", \"D15\", \"M1\", \"M2\", \"M3\", \"M4\", \"M5\", \"M6\", \"M7\", \"M8\", \"M9\", \"id_01\", \"id_02\", \n",
    "\"id_03\", \"id_04\", \"id_05\", \"id_06\", \"id_07\", \"id_08\", \"id_09\", \"id_10\", \"id_11\", \n",
    "\"id_12\", \"id_13\", \"id_14\", \"id_15\", \"id_16\", \"id_17\", \"id_18\", \"id_19\", \"id_20\", \"id_21\", \"id_22\", \"id_23\", \"id_24\", \n",
    "\"id_25\", \"id_26\", \"id_27\", \"id_28\", \"id_29\", \"id_30\", \"id_31\", \"id_32\", \"id_33\", \"id_34\", \"id_35\", \n",
    "\"id_36\", \"id_37\", \"id_38\", \n",
    "'V1','V2','V3','V4','V5','V6','V7','V9','V12','V13','V17','V18','V19',\n",
    "'V20','V23','V24','V25','V26','V29','V30','V33',\n",
    " 'V34','V35','V36','V37','V38','V39','V40','V42','V43','V44','V45','V47','V48','V49','V51','V52','V53','V54','V55',\n",
    " 'V56','V57','V58','V59','V60','V61','V62','V63','V64','V66','V67','V69','V70','V71','V72','V73','V74','V75','V76',\n",
    " 'V77','V78','V79','V80','V81','V82','V83','V85','V86','V87','V90','V91','V92','V93','V94', 'V95', 'V96', 'V97',\n",
    " 'V98','V99','V100','V101','V102','V103','V105','V109','V115','V124','V125','V126','V127','V128','V129', 'V130','V131',\n",
    " 'V132', 'V133', 'V134','V135','V136','V137','V139','V140','V143','V145','V146','V147','V149','V150','V151','V152',\n",
    " 'V156','V158','V159','V160','V161','V162','V164','V165','V166',\n",
    " 'V167','V168','V169','V170','V171','V172','V173','V174','V175','V176','V177','V178','V179','V180','V182','V187','V188',\n",
    " 'V189','V192','V198','V199','V200','V201','V202','V203','V204','V205','V206','V207','V208','V209','V210',\n",
    " 'V211', 'V212','V213','V214','V215','V216','V217','V218','V219','V220','V221','V222','V223','V224','V225','V226',\n",
    " 'V227','V228','V229','V230','V231','V232','V233','V234','V236','V239','V243','V244','V245','V246','V248','V250',\n",
    " 'V251','V256','V257',\n",
    " 'V258','V259','V260','V261','V262','V263','V264','V265','V266','V267','V268','V270','V271','V272','V273','V274',\n",
    " 'V275','V276','V277','V278','V279','V280','V281','V282','V283','V284','V285','V286','V287','V288','V289','V290',\n",
    " 'V291','V292','V293','V294','V295',\n",
    " 'V296','V297','V298','V299','V300','V301','V303','V304','V306','V307','V308','V309','V310','V311','V312',\n",
    " 'V313','V314','V315','V316','V317','V318','V319','V320','V321','V322','V323','V324','V326','V329','V331',\n",
    " 'V332','V333','V335','V336','V338','V339',  'DeviceType',\n",
    " 'DeviceInfo']"
   ]
  },
  {
   "cell_type": "code",
   "execution_count": 17,
   "metadata": {},
   "outputs": [
    {
     "name": "stdout",
     "output_type": "stream",
     "text": [
      "353\n",
      "80\n",
      "False\n"
     ]
    }
   ],
   "source": [
    "\n",
    "del_cols = []\n",
    "no_cols= []\n",
    "for col in train.columns:\n",
    "\n",
    "  if col not in final_cols:\n",
    "    del_cols.append(col)\n",
    "  else:\n",
    "    no_cols.append(col)\n",
    "print(len(no_cols));print(len(del_cols))\n",
    "print(no_cols == final_cols)"
   ]
  },
  {
   "cell_type": "code",
   "execution_count": 18,
   "metadata": {},
   "outputs": [
    {
     "name": "stdout",
     "output_type": "stream",
     "text": [
      "80\n"
     ]
    },
    {
     "data": {
      "text/plain": [
       "['V8',\n",
       " 'V10',\n",
       " 'V11',\n",
       " 'V14',\n",
       " 'V15',\n",
       " 'V16',\n",
       " 'V21',\n",
       " 'V22',\n",
       " 'V27',\n",
       " 'V28',\n",
       " 'V31',\n",
       " 'V32',\n",
       " 'V41',\n",
       " 'V46',\n",
       " 'V50',\n",
       " 'V65',\n",
       " 'V68',\n",
       " 'V84',\n",
       " 'V88',\n",
       " 'V89',\n",
       " 'V104',\n",
       " 'V106',\n",
       " 'V107',\n",
       " 'V108',\n",
       " 'V110',\n",
       " 'V111',\n",
       " 'V112',\n",
       " 'V113',\n",
       " 'V114',\n",
       " 'V116',\n",
       " 'V117',\n",
       " 'V118',\n",
       " 'V119',\n",
       " 'V120',\n",
       " 'V121',\n",
       " 'V122',\n",
       " 'V123',\n",
       " 'V138',\n",
       " 'V141',\n",
       " 'V142',\n",
       " 'V144',\n",
       " 'V148',\n",
       " 'V153',\n",
       " 'V154',\n",
       " 'V155',\n",
       " 'V157',\n",
       " 'V163',\n",
       " 'V181',\n",
       " 'V183',\n",
       " 'V184',\n",
       " 'V185',\n",
       " 'V186',\n",
       " 'V190',\n",
       " 'V191',\n",
       " 'V193',\n",
       " 'V194',\n",
       " 'V195',\n",
       " 'V196',\n",
       " 'V197',\n",
       " 'V235',\n",
       " 'V237',\n",
       " 'V238',\n",
       " 'V240',\n",
       " 'V241',\n",
       " 'V242',\n",
       " 'V247',\n",
       " 'V249',\n",
       " 'V252',\n",
       " 'V253',\n",
       " 'V254',\n",
       " 'V255',\n",
       " 'V269',\n",
       " 'V302',\n",
       " 'V305',\n",
       " 'V325',\n",
       " 'V327',\n",
       " 'V328',\n",
       " 'V330',\n",
       " 'V334',\n",
       " 'V337']"
      ]
     },
     "execution_count": 18,
     "metadata": {},
     "output_type": "execute_result"
    }
   ],
   "source": [
    "print(len(del_cols))\n",
    "del_cols"
   ]
  },
  {
   "cell_type": "code",
   "execution_count": 19,
   "metadata": {},
   "outputs": [],
   "source": [
    "train = train.drop(del_cols, axis=1)\n",
    "test = test.drop(del_cols, axis=1)"
   ]
  },
  {
   "cell_type": "code",
   "execution_count": 20,
   "metadata": {},
   "outputs": [],
   "source": [
    "for column in ['card1', 'card2', 'card3', 'card4', 'card5', 'card6', 'addr1', 'addr2']:\n",
    "    train[column +  '_count_full'] = \\\n",
    "        train[column].map(pd.concat([train[column], test[column]], ignore_index=True).value_counts(dropna=False))\n",
    "    test[column +  '_count_full'] = \\\n",
    "        test[column].map(pd.concat([train[column], test[column]], ignore_index=True).value_counts(dropna=False))"
   ]
  },
  {
   "cell_type": "code",
   "execution_count": 21,
   "metadata": {},
   "outputs": [],
   "source": [
    "train['TransactionAmt_to_mean_card1'] = train['TransactionAmt'] / train.groupby(['card1'])['TransactionAmt'].transform('mean')\n",
    "train['TransactionAmt_to_mean_card4'] = train['TransactionAmt'] / train.groupby(['card4'])['TransactionAmt'].transform('mean')\n",
    "train['TransactionAmt_to_std_card1'] = train['TransactionAmt'] / train.groupby(['card1'])['TransactionAmt'].transform('std')\n",
    "train['TransactionAmt_to_std_card4'] = train['TransactionAmt'] / train.groupby(['card4'])['TransactionAmt'].transform('std')\n",
    "\n",
    "test['TransactionAmt_to_mean_card1'] = test['TransactionAmt'] / test.groupby(['card1'])['TransactionAmt'].transform('mean')\n",
    "test['TransactionAmt_to_mean_card4'] = test['TransactionAmt'] / test.groupby(['card4'])['TransactionAmt'].transform('mean')\n",
    "test['TransactionAmt_to_std_card1'] = test['TransactionAmt'] / test.groupby(['card1'])['TransactionAmt'].transform('std')\n",
    "test['TransactionAmt_to_std_card4'] = test['TransactionAmt'] / test.groupby(['card4'])['TransactionAmt'].transform('std')"
   ]
  },
  {
   "cell_type": "code",
   "execution_count": 22,
   "metadata": {},
   "outputs": [
    {
     "data": {
      "text/plain": [
       "Index(['isFraud', 'TransactionDT', 'TransactionAmt', 'ProductCD', 'card1',\n",
       "       'card2', 'card3', 'card4', 'card5', 'card6',\n",
       "       ...\n",
       "       'card3_count_full', 'card4_count_full', 'card5_count_full',\n",
       "       'card6_count_full', 'addr1_count_full', 'addr2_count_full',\n",
       "       'TransactionAmt_to_mean_card1', 'TransactionAmt_to_mean_card4',\n",
       "       'TransactionAmt_to_std_card1', 'TransactionAmt_to_std_card4'],\n",
       "      dtype='object', length=365)"
      ]
     },
     "execution_count": 22,
     "metadata": {},
     "output_type": "execute_result"
    }
   ],
   "source": [
    "train.columns"
   ]
  },
  {
   "cell_type": "code",
   "execution_count": 23,
   "metadata": {},
   "outputs": [],
   "source": [
    "# 준형이형꺼 처리\n",
    "#id_30\n",
    "\n",
    "def os(df):\n",
    "    if df == \"-999\":\n",
    "        df = -999\n",
    "    elif \"Windows\" in df:\n",
    "        df = \"Windows\"\n",
    "    elif \"Mac\" in df:\n",
    "        df = \"Mac\"\n",
    "    elif \"iOS\" in df:\n",
    "        df = \"ios\"\n",
    "    elif \"Android\" in df:\n",
    "        df = \"Android\"\n",
    "    else:\n",
    "        df = \"other\"\n",
    "        \n",
    "    return df\n",
    "\n",
    "train[\"id_30\"].fillna(\"-999\", inplace=True)\n",
    "train[\"OS\"] = train[\"id_30\"].apply(os)\n",
    "\n",
    "test[\"id_30\"].fillna(\"-999\", inplace=True)\n",
    "test[\"OS\"] = test[\"id_30\"].apply(os)\n",
    "\n",
    "#id_31 \n",
    "# latest 여부 / 브라우저 col 생성\n",
    "latest_browser_list = [\"samsung browser 7.0\",\n",
    "                  \"opera 53.0\",\n",
    "                  \"mobile safari 10.0\",\n",
    "                  \"google search application 49.0\",\n",
    "                  \"firefox 60.0\",\n",
    "                  \"edge 17.0\",\n",
    "                  \"chrome 69.0\", \n",
    "                  \"chrome 67.0 for android\",\n",
    "                  \"chrome 63.0 for android\",\n",
    "                  \"chrome 63.0 for ios\",\n",
    "                  \"chrome 64.0\",\n",
    "                  \"chrome 64.0 for android\",\n",
    "                  \"chrome 64.0 for ios\",\n",
    "                  \"chrome 65.0\",\n",
    "                  \"chrome 65.0 for android\",\n",
    "                  \"chrome 65.0 for ios\",\n",
    "                  \"chrome 66.0\",\n",
    "                  \"chrome 66.0 for android\",\n",
    "                  \"chrome 66.0 for ios\"\n",
    "                 ]\n",
    "\n",
    "def latest_browser(df):\n",
    "    if df == \"-999\":\n",
    "        df = -999\n",
    "    elif df in latest_browser_list:\n",
    "        df = 1\n",
    "    else:\n",
    "        df = 0\n",
    "    return df\n",
    "\n",
    "def browser(df):\n",
    "    if df == \"-999\":\n",
    "        df = -999\n",
    "    elif \"chrome\" in df:\n",
    "        df = \"chrome\"\n",
    "    elif \"safari\" in df:\n",
    "        df = \"safari\"\n",
    "    elif \"firefox\" in df:\n",
    "        df = \"firefox\"\n",
    "    elif \"ie\" in df:\n",
    "        df = \"ie\"\n",
    "    elif \"samsung\" in df:\n",
    "        df = \"samsumg\"\n",
    "    elif \"Samsung\" in df:\n",
    "        df = \"samsumg\"\n",
    "    return df \n",
    "    \n",
    "\n",
    "train[\"id_31\"].fillna(\"-999\", inplace=True)\n",
    "train[\"Latest_browser\"] = train[\"id_31\"].apply(latest_browser)\n",
    "train[\"Browser\"] = train[\"id_31\"].apply(browser)\n",
    "\n",
    "test[\"id_31\"].fillna(\"-999\", inplace=True)\n",
    "test[\"Latest_browser\"] = test[\"id_31\"].apply(latest_browser)\n",
    "test[\"Browser\"] = test[\"id_31\"].apply(browser)"
   ]
  },
  {
   "cell_type": "code",
   "execution_count": 24,
   "metadata": {},
   "outputs": [],
   "source": [
    "y_train = train['isFraud'].copy()"
   ]
  },
  {
   "cell_type": "code",
   "execution_count": 25,
   "metadata": {},
   "outputs": [],
   "source": [
    "X_train = train.drop('isFraud', axis=1)\n",
    "X_test = test.copy()"
   ]
  },
  {
   "cell_type": "code",
   "execution_count": 26,
   "metadata": {},
   "outputs": [],
   "source": [
    "# Fill numeric columns' NaN values with mean\n",
    "for c in X_train.columns:\n",
    "    if X_train[c].dtype=='float16' or  X_train[c].dtype=='float32' or  X_train[c].dtype=='float64':\n",
    "        X_train[c].fillna(X_train[c].mean())\n",
    "        X_test[c].fillna(X_train[c].mean())"
   ]
  },
  {
   "cell_type": "code",
   "execution_count": 27,
   "metadata": {},
   "outputs": [],
   "source": [
    "\n",
    "# Fill categorical columns' NaN values with placeholder (-999)\n",
    "X_train = X_train.fillna(-999)\n",
    "X_test = X_test.fillna(-999)"
   ]
  },
  {
   "cell_type": "code",
   "execution_count": null,
   "metadata": {},
   "outputs": [],
   "source": [
    "# Label-Encode categorical columns\n",
    "for f in X_train.columns:\n",
    "    if X_train[f].dtype=='object' or X_test[f].dtype=='object': \n",
    "        lbl = preprocessing.LabelEncoder()\n",
    "        lbl.fit(list(X_train[f].values) + list(X_test[f].values))\n",
    "        X_train[f] = lbl.transform(list(X_train[f].values))\n",
    "        X_test[f] = lbl.transform(list(X_test[f].values))"
   ]
  },
  {
   "cell_type": "code",
   "execution_count": null,
   "metadata": {},
   "outputs": [],
   "source": []
  },
  {
   "cell_type": "code",
   "execution_count": null,
   "metadata": {},
   "outputs": [],
   "source": []
  },
  {
   "cell_type": "code",
   "execution_count": 40,
   "metadata": {},
   "outputs": [
    {
     "name": "stdout",
     "output_type": "stream",
     "text": [
      "After OverSampling, the shape of train_X: (1139754, 350)\n",
      "After OverSampling, the shape of train_y: (1139754, 350) \n",
      "\n",
      "After OverSampling, counts of label '1': 569877\n",
      "After OverSampling, counts of label '0': 569877\n"
     ]
    }
   ],
   "source": [
    "# 모델설정\n",
    "sm = SMOTE(ratio='auto', kind='regular')\n",
    "\n",
    "# train데이터를 넣어 복제함\n",
    "X_resampled, y_resampled = sm.fit_sample(X_train,list(y_train))\n",
    "\n",
    "print('After OverSampling, the shape of train_X: {}'.format(X_resampled.shape))\n",
    "print('After OverSampling, the shape of train_y: {} \\n'.format(X_resampled.shape))\n",
    "\n",
    "print(\"After OverSampling, counts of label '1': {}\".format(sum(y_resampled==1)))\n",
    "print(\"After OverSampling, counts of label '0': {}\".format(sum(y_resampled==0)))"
   ]
  },
  {
   "cell_type": "code",
   "execution_count": null,
   "metadata": {},
   "outputs": [],
   "source": []
  },
  {
   "cell_type": "code",
   "execution_count": 41,
   "metadata": {},
   "outputs": [],
   "source": [
    "train.to_csv('smote_train.csv')\n",
    "test.to_csv('smote_test.csv')"
   ]
  },
  {
   "cell_type": "code",
   "execution_count": null,
   "metadata": {},
   "outputs": [],
   "source": []
  }
 ],
 "metadata": {
  "kernelspec": {
   "display_name": "Python 3",
   "language": "python",
   "name": "python3"
  },
  "language_info": {
   "codemirror_mode": {
    "name": "ipython",
    "version": 3
   },
   "file_extension": ".py",
   "mimetype": "text/x-python",
   "name": "python",
   "nbconvert_exporter": "python",
   "pygments_lexer": "ipython3",
   "version": "3.6.8"
  }
 },
 "nbformat": 4,
 "nbformat_minor": 2
}
