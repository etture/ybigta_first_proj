{
 "cells": [
  {
   "cell_type": "markdown",
   "metadata": {},
   "source": [
    "#2 한 번 처리한 변수들에 RFECV"
   ]
  },
  {
   "cell_type": "code",
   "execution_count": 1,
   "metadata": {},
   "outputs": [],
   "source": [
    "import pandas as pd\n",
    "import numpy as np\n",
    "import matplotlib.pyplot as plt\n",
    "import seaborn as sns\n",
    "#import pandas_profiling\n",
    "\n",
    "from sklearn.linear_model import LogisticRegression\n",
    "from sklearn.model_selection import train_test_split\n",
    "#from sklearn.model_selection import TimeSeriesSplit\n",
    "from sklearn.model_selection import KFold\n",
    "from sklearn.feature_selection import RFECV\n",
    "from sklearn.preprocessing import LabelEncoder\n",
    "\n",
    "from sklearn.neighbors import KNeighborsClassifier\n",
    "from sklearn.svm import SVC, LinearSVC\n",
    "\n",
    "from sklearn.metrics import roc_auc_score\n",
    "from sklearn import preprocessing\n",
    "\n",
    "import xgboost as xgb\n",
    "\n",
    "from datetime import datetime\n",
    "import lightgbm as lgb\n",
    "#import multiprocessing\n",
    "#import gc"
   ]
  },
  {
   "cell_type": "code",
   "execution_count": 2,
   "metadata": {},
   "outputs": [],
   "source": [
    "def reduce_mem_usage(df, verbose=True):\n",
    "    numerics = ['int16', 'int32', 'int64', 'float16', 'float32', 'float64']\n",
    "    start_mem = df.memory_usage().sum() / 1024**2    \n",
    "    for col in df.columns:\n",
    "        col_type = df[col].dtypes\n",
    "        if col_type in numerics:\n",
    "            c_min = df[col].min()\n",
    "            c_max = df[col].max()\n",
    "            if str(col_type)[:3] == 'int':\n",
    "                if c_min > np.iinfo(np.int8).min and c_max < np.iinfo(np.int8).max:\n",
    "                    df[col] = df[col].astype(np.int8)\n",
    "                elif c_min > np.iinfo(np.int16).min and c_max < np.iinfo(np.int16).max:\n",
    "                    df[col] = df[col].astype(np.int16)\n",
    "                elif c_min > np.iinfo(np.int32).min and c_max < np.iinfo(np.int32).max:\n",
    "                    df[col] = df[col].astype(np.int32)\n",
    "                elif c_min > np.iinfo(np.int64).min and c_max < np.iinfo(np.int64).max:\n",
    "                    df[col] = df[col].astype(np.int64)  \n",
    "            else:\n",
    "                if c_min > np.finfo(np.float16).min and c_max < np.finfo(np.float16).max:\n",
    "                    df[col] = df[col].astype(np.float16)\n",
    "                elif c_min > np.finfo(np.float32).min and c_max < np.finfo(np.float32).max:\n",
    "                    df[col] = df[col].astype(np.float32)\n",
    "                else:\n",
    "                    df[col] = df[col].astype(np.float64)    \n",
    "    end_mem = df.memory_usage().sum() / 1024**2\n",
    "    if verbose: print('Mem. usage decreased to {:5.2f} Mb ({:.1f}% reduction)'.format(end_mem, 100 * (start_mem - end_mem) / start_mem))\n",
    "    return df"
   ]
  },
  {
   "cell_type": "code",
   "execution_count": 4,
   "metadata": {},
   "outputs": [],
   "source": [
    "import os\n",
    "import gc\n",
    "import sys\n",
    "sys.path.append(\"../..\")"
   ]
  },
  {
   "cell_type": "code",
   "execution_count": 5,
   "metadata": {},
   "outputs": [
    {
     "data": {
      "text/plain": [
       "'/home/biglake0987/ybigta_first_proj/EDA'"
      ]
     },
     "execution_count": 5,
     "metadata": {},
     "output_type": "execute_result"
    }
   ],
   "source": [
    "os.getcwd()"
   ]
  },
  {
   "cell_type": "code",
   "execution_count": 6,
   "metadata": {},
   "outputs": [
    {
     "data": {
      "text/plain": [
       "['FinalPT_RFECV---1.ipynb',\n",
       " 'FinalPT_RFECV-1_XGBoost(error).ipynb',\n",
       " 'test_transaction.csv',\n",
       " 'rfecv_1_train.csv',\n",
       " 'V_cols_test.csv',\n",
       " 'train_transaction.csv',\n",
       " 'V_cols_train.csv',\n",
       " 'FinalPT_RFECV-----1.ipynb',\n",
       " '.ipynb_checkpoints',\n",
       " 'FinalPT_RFECV-1.ipynb',\n",
       " 'rfecv_1_test.csv',\n",
       " 'jinoo_train.csv',\n",
       " 'FinalPT_RFECV-1_XGBoost(x).ipynb',\n",
       " 'FinalPT_RFECV-----2.ipynb',\n",
       " 'test_identity.csv',\n",
       " 'train_identity.csv',\n",
       " 'FinalPT_RFECV-----1(to_csv).ipynb',\n",
       " 'sample_submission.csv',\n",
       " 'sample.ipynb',\n",
       " 'to_csv(진우).ipynb',\n",
       " 'mintae1.ipynb',\n",
       " 'jinoo_test.csv',\n",
       " 'V_cols(20190814).ipynb',\n",
       " '.gitkeep']"
      ]
     },
     "execution_count": 6,
     "metadata": {},
     "output_type": "execute_result"
    }
   ],
   "source": [
    "os.listdir()"
   ]
  },
  {
   "cell_type": "code",
   "execution_count": 149,
   "metadata": {},
   "outputs": [],
   "source": [
    "trans = pd.read_csv('train_transaction.csv', index_col='TransactionID')\n",
    "test_trans = pd.read_csv('test_transaction.csv', index_col='TransactionID')"
   ]
  },
  {
   "cell_type": "code",
   "execution_count": 150,
   "metadata": {},
   "outputs": [],
   "source": [
    "ident = pd.read_csv('train_identity.csv', index_col='TransactionID')\n",
    "test_ident = pd.read_csv('test_identity.csv', index_col='TransactionID')"
   ]
  },
  {
   "cell_type": "code",
   "execution_count": 151,
   "metadata": {},
   "outputs": [],
   "source": [
    "sample_sub = pd.read_csv('sample_submission.csv', index_col='TransactionID')"
   ]
  },
  {
   "cell_type": "code",
   "execution_count": 152,
   "metadata": {},
   "outputs": [],
   "source": [
    "train = trans.merge(ident, how='left', left_index=True, right_index=True)\n",
    "test = test_trans.merge(test_ident, how='left', left_index=True, right_index=True)"
   ]
  },
  {
   "cell_type": "code",
   "execution_count": 153,
   "metadata": {},
   "outputs": [
    {
     "name": "stdout",
     "output_type": "stream",
     "text": [
      "(590540, 433)\n",
      "(506691, 432)\n"
     ]
    }
   ],
   "source": [
    "print(train.shape)\n",
    "print(test.shape)"
   ]
  },
  {
   "cell_type": "code",
   "execution_count": 154,
   "metadata": {},
   "outputs": [
    {
     "data": {
      "text/plain": [
       "3476"
      ]
     },
     "execution_count": 154,
     "metadata": {},
     "output_type": "execute_result"
    }
   ],
   "source": [
    "del trans, ident, test_trans, test_ident\n",
    "gc.collect()"
   ]
  },
  {
   "cell_type": "markdown",
   "metadata": {},
   "source": [
    "for column in ['card1', 'card2', 'card3', 'card4', 'card5', 'card6', 'addr1', 'addr2']:\n",
    "    train[column +  '_count_full'] = \\\n",
    "        train[column].map(pd.concat([train[column], test[column]], ignore_index=True).value_counts(dropna=False))\n",
    "    test[column +  '_count_full'] = \\\n",
    "        test[column].map(pd.concat([train[column], test[column]], ignore_index=True).value_counts(dropna=False))"
   ]
  },
  {
   "cell_type": "markdown",
   "metadata": {},
   "source": [
    "train['Transaction_day_of_week'] = np.floor((train['TransactionDT'] / (3600 * 24) - 1) % 7)\n",
    "test['Transaction_day_of_week'] = np.floor((test['TransactionDT'] / (3600 * 24) - 1) % 7)\n",
    "\n",
    "train['Transaction_hour_of_day'] = np.floor(train['TransactionDT'] / 3600) % 24\n",
    "test['Transaction_hour_of_day'] = np.floor(test['TransactionDT'] / 3600) % 24"
   ]
  },
  {
   "cell_type": "markdown",
   "metadata": {},
   "source": [
    "\n",
    "train['TransactionAmt_to_mean_card1'] = train['TransactionAmt'] / train.groupby(['card1'])['TransactionAmt'].transform('mean')\n",
    "train['TransactionAmt_to_mean_card4'] = train['TransactionAmt'] / train.groupby(['card4'])['TransactionAmt'].transform('mean')\n",
    "train['TransactionAmt_to_std_card1'] = train['TransactionAmt'] / train.groupby(['card1'])['TransactionAmt'].transform('std')\n",
    "train['TransactionAmt_to_std_card4'] = train['TransactionAmt'] / train.groupby(['card4'])['TransactionAmt'].transform('std')\n",
    "\n",
    "test['TransactionAmt_to_mean_card1'] = test['TransactionAmt'] / test.groupby(['card1'])['TransactionAmt'].transform('mean')\n",
    "test['TransactionAmt_to_mean_card4'] = test['TransactionAmt'] / test.groupby(['card4'])['TransactionAmt'].transform('mean')\n",
    "test['TransactionAmt_to_std_card1'] = test['TransactionAmt'] / test.groupby(['card1'])['TransactionAmt'].transform('std')\n",
    "test['TransactionAmt_to_std_card4'] = test['TransactionAmt'] / test.groupby(['card4'])['TransactionAmt'].transform('std')\n",
    "\n",
    "train[['R_emaildomain', 'P_emaildomain']].apply(lambda x: x[0] if x[0] == np.nan else x[1], axis=1).head()"
   ]
  },
  {
   "cell_type": "markdown",
   "metadata": {},
   "source": [
    "train['emaildomain'] = train[['R_emaildomain', 'P_emaildomain']].apply(lambda x: x[0] if x[0] == np.nan else x[1], axis=1)\n",
    "test['emaildomain'] = test[['R_emaildomain', 'P_emaildomain']].apply(lambda x: x[0] if x[0] == np.nan else x[1], axis=1)"
   ]
  },
  {
   "cell_type": "markdown",
   "metadata": {},
   "source": [
    "train = train.drop(columns=['R_emaildomain', 'P_emaildomain'])\n",
    "test = test.drop(columns=['R_emaildomain', 'P_emaildomain'])"
   ]
  },
  {
   "cell_type": "code",
   "execution_count": 155,
   "metadata": {
    "scrolled": true
   },
   "outputs": [
    {
     "data": {
      "text/plain": [
       "Index(['isFraud', 'TransactionDT', 'TransactionAmt', 'ProductCD', 'card1',\n",
       "       'card2', 'card3', 'card4', 'card5', 'card6',\n",
       "       ...\n",
       "       'id_31', 'id_32', 'id_33', 'id_34', 'id_35', 'id_36', 'id_37', 'id_38',\n",
       "       'DeviceType', 'DeviceInfo'],\n",
       "      dtype='object', length=433)"
      ]
     },
     "execution_count": 155,
     "metadata": {},
     "output_type": "execute_result"
    }
   ],
   "source": [
    "train.columns"
   ]
  },
  {
   "cell_type": "code",
   "execution_count": 156,
   "metadata": {},
   "outputs": [],
   "source": [
    "def print_columns(df):\n",
    "    cols = df.columns\n",
    "    string = ''\n",
    "    for col in cols:\n",
    "        string += '\"%s\", ' % str(col)\n",
    "    print(string)\n",
    "    print(len(string))"
   ]
  },
  {
   "cell_type": "code",
   "execution_count": 157,
   "metadata": {},
   "outputs": [
    {
     "name": "stdout",
     "output_type": "stream",
     "text": [
      "\"isFraud\", \"TransactionDT\", \"TransactionAmt\", \"ProductCD\", \"card1\", \"card2\", \"card3\", \"card4\", \"card5\", \"card6\", \"addr1\", \"addr2\", \"dist1\", \"dist2\", \"P_emaildomain\", \"R_emaildomain\", \"C1\", \"C2\", \"C3\", \"C4\", \"C5\", \"C6\", \"C7\", \"C8\", \"C9\", \"C10\", \"C11\", \"C12\", \"C13\", \"C14\", \"D1\", \"D2\", \"D3\", \"D4\", \"D5\", \"D6\", \"D7\", \"D8\", \"D9\", \"D10\", \"D11\", \"D12\", \"D13\", \"D14\", \"D15\", \"M1\", \"M2\", \"M3\", \"M4\", \"M5\", \"M6\", \"M7\", \"M8\", \"M9\", \"V1\", \"V2\", \"V3\", \"V4\", \"V5\", \"V6\", \"V7\", \"V8\", \"V9\", \"V10\", \"V11\", \"V12\", \"V13\", \"V14\", \"V15\", \"V16\", \"V17\", \"V18\", \"V19\", \"V20\", \"V21\", \"V22\", \"V23\", \"V24\", \"V25\", \"V26\", \"V27\", \"V28\", \"V29\", \"V30\", \"V31\", \"V32\", \"V33\", \"V34\", \"V35\", \"V36\", \"V37\", \"V38\", \"V39\", \"V40\", \"V41\", \"V42\", \"V43\", \"V44\", \"V45\", \"V46\", \"V47\", \"V48\", \"V49\", \"V50\", \"V51\", \"V52\", \"V53\", \"V54\", \"V55\", \"V56\", \"V57\", \"V58\", \"V59\", \"V60\", \"V61\", \"V62\", \"V63\", \"V64\", \"V65\", \"V66\", \"V67\", \"V68\", \"V69\", \"V70\", \"V71\", \"V72\", \"V73\", \"V74\", \"V75\", \"V76\", \"V77\", \"V78\", \"V79\", \"V80\", \"V81\", \"V82\", \"V83\", \"V84\", \"V85\", \"V86\", \"V87\", \"V88\", \"V89\", \"V90\", \"V91\", \"V92\", \"V93\", \"V94\", \"V95\", \"V96\", \"V97\", \"V98\", \"V99\", \"V100\", \"V101\", \"V102\", \"V103\", \"V104\", \"V105\", \"V106\", \"V107\", \"V108\", \"V109\", \"V110\", \"V111\", \"V112\", \"V113\", \"V114\", \"V115\", \"V116\", \"V117\", \"V118\", \"V119\", \"V120\", \"V121\", \"V122\", \"V123\", \"V124\", \"V125\", \"V126\", \"V127\", \"V128\", \"V129\", \"V130\", \"V131\", \"V132\", \"V133\", \"V134\", \"V135\", \"V136\", \"V137\", \"V138\", \"V139\", \"V140\", \"V141\", \"V142\", \"V143\", \"V144\", \"V145\", \"V146\", \"V147\", \"V148\", \"V149\", \"V150\", \"V151\", \"V152\", \"V153\", \"V154\", \"V155\", \"V156\", \"V157\", \"V158\", \"V159\", \"V160\", \"V161\", \"V162\", \"V163\", \"V164\", \"V165\", \"V166\", \"V167\", \"V168\", \"V169\", \"V170\", \"V171\", \"V172\", \"V173\", \"V174\", \"V175\", \"V176\", \"V177\", \"V178\", \"V179\", \"V180\", \"V181\", \"V182\", \"V183\", \"V184\", \"V185\", \"V186\", \"V187\", \"V188\", \"V189\", \"V190\", \"V191\", \"V192\", \"V193\", \"V194\", \"V195\", \"V196\", \"V197\", \"V198\", \"V199\", \"V200\", \"V201\", \"V202\", \"V203\", \"V204\", \"V205\", \"V206\", \"V207\", \"V208\", \"V209\", \"V210\", \"V211\", \"V212\", \"V213\", \"V214\", \"V215\", \"V216\", \"V217\", \"V218\", \"V219\", \"V220\", \"V221\", \"V222\", \"V223\", \"V224\", \"V225\", \"V226\", \"V227\", \"V228\", \"V229\", \"V230\", \"V231\", \"V232\", \"V233\", \"V234\", \"V235\", \"V236\", \"V237\", \"V238\", \"V239\", \"V240\", \"V241\", \"V242\", \"V243\", \"V244\", \"V245\", \"V246\", \"V247\", \"V248\", \"V249\", \"V250\", \"V251\", \"V252\", \"V253\", \"V254\", \"V255\", \"V256\", \"V257\", \"V258\", \"V259\", \"V260\", \"V261\", \"V262\", \"V263\", \"V264\", \"V265\", \"V266\", \"V267\", \"V268\", \"V269\", \"V270\", \"V271\", \"V272\", \"V273\", \"V274\", \"V275\", \"V276\", \"V277\", \"V278\", \"V279\", \"V280\", \"V281\", \"V282\", \"V283\", \"V284\", \"V285\", \"V286\", \"V287\", \"V288\", \"V289\", \"V290\", \"V291\", \"V292\", \"V293\", \"V294\", \"V295\", \"V296\", \"V297\", \"V298\", \"V299\", \"V300\", \"V301\", \"V302\", \"V303\", \"V304\", \"V305\", \"V306\", \"V307\", \"V308\", \"V309\", \"V310\", \"V311\", \"V312\", \"V313\", \"V314\", \"V315\", \"V316\", \"V317\", \"V318\", \"V319\", \"V320\", \"V321\", \"V322\", \"V323\", \"V324\", \"V325\", \"V326\", \"V327\", \"V328\", \"V329\", \"V330\", \"V331\", \"V332\", \"V333\", \"V334\", \"V335\", \"V336\", \"V337\", \"V338\", \"V339\", \"id_01\", \"id_02\", \"id_03\", \"id_04\", \"id_05\", \"id_06\", \"id_07\", \"id_08\", \"id_09\", \"id_10\", \"id_11\", \"id_12\", \"id_13\", \"id_14\", \"id_15\", \"id_16\", \"id_17\", \"id_18\", \"id_19\", \"id_20\", \"id_21\", \"id_22\", \"id_23\", \"id_24\", \"id_25\", \"id_26\", \"id_27\", \"id_28\", \"id_29\", \"id_30\", \"id_31\", \"id_32\", \"id_33\", \"id_34\", \"id_35\", \"id_36\", \"id_37\", \"id_38\", \"DeviceType\", \"DeviceInfo\", \n",
      "3396\n"
     ]
    }
   ],
   "source": [
    "print_columns(train)"
   ]
  },
  {
   "cell_type": "markdown",
   "metadata": {},
   "source": [
    "# 준형이형꺼 처리\n",
    "#id_30\n",
    "\n",
    "def os(df):\n",
    "    if df == \"-999\":\n",
    "        df = -999\n",
    "    elif \"Windows\" in df:\n",
    "        df = \"Windows\"\n",
    "    elif \"Mac\" in df:\n",
    "        df = \"Mac\"\n",
    "    elif \"iOS\" in df:\n",
    "        df = \"ios\"\n",
    "    elif \"Android\" in df:\n",
    "        df = \"Android\"\n",
    "    else:\n",
    "        df = \"other\"\n",
    "        \n",
    "    return df\n",
    "\n",
    "train[\"id_30\"].fillna(\"-999\", inplace=True)\n",
    "train[\"OS\"] = train[\"id_30\"].apply(os)\n",
    "\n",
    "test[\"id_30\"].fillna(\"-999\", inplace=True)\n",
    "test[\"OS\"] = test[\"id_30\"].apply(os)\n",
    "\n",
    "#id_31 \n",
    "# latest 여부 / 브라우저 col 생성\n",
    "latest_browser_list = [\"samsung browser 7.0\",\n",
    "                  \"opera 53.0\",\n",
    "                  \"mobile safari 10.0\",\n",
    "                  \"google search application 49.0\",\n",
    "                  \"firefox 60.0\",\n",
    "                  \"edge 17.0\",\n",
    "                  \"chrome 69.0\", \n",
    "                  \"chrome 67.0 for android\",\n",
    "                  \"chrome 63.0 for android\",\n",
    "                  \"chrome 63.0 for ios\",\n",
    "                  \"chrome 64.0\",\n",
    "                  \"chrome 64.0 for android\",\n",
    "                  \"chrome 64.0 for ios\",\n",
    "                  \"chrome 65.0\",\n",
    "                  \"chrome 65.0 for android\",\n",
    "                  \"chrome 65.0 for ios\",\n",
    "                  \"chrome 66.0\",\n",
    "                  \"chrome 66.0 for android\",\n",
    "                  \"chrome 66.0 for ios\"\n",
    "                 ]\n",
    "\n",
    "def latest_browser(df):\n",
    "    if df == \"-999\":\n",
    "        df = -999\n",
    "    elif df in latest_browser_list:\n",
    "        df = 1\n",
    "    else:\n",
    "        df = 0\n",
    "    return df\n",
    "\n",
    "def browser(df):\n",
    "    if df == \"-999\":\n",
    "        df = -999\n",
    "    elif \"chrome\" in df:\n",
    "        df = \"chrome\"\n",
    "    elif \"safari\" in df:\n",
    "        df = \"safari\"\n",
    "    elif \"firefox\" in df:\n",
    "        df = \"firefox\"\n",
    "    elif \"ie\" in df:\n",
    "        df = \"ie\"\n",
    "    elif \"samsung\" in df:\n",
    "        df = \"samsumg\"\n",
    "    elif \"Samsung\" in df:\n",
    "        df = \"samsumg\"\n",
    "    return df \n",
    "    \n",
    "\n",
    "train[\"id_31\"].fillna(\"-999\", inplace=True)\n",
    "train[\"Latest_browser\"] = train[\"id_31\"].apply(latest_browser)\n",
    "train[\"Browser\"] = train[\"id_31\"].apply(browser)\n",
    "\n",
    "test[\"id_31\"].fillna(\"-999\", inplace=True)\n",
    "test[\"Latest_browser\"] = test[\"id_31\"].apply(latest_browser)\n",
    "test[\"Browser\"] = test[\"id_31\"].apply(browser)"
   ]
  },
  {
   "cell_type": "code",
   "execution_count": 158,
   "metadata": {},
   "outputs": [
    {
     "data": {
      "text/plain": [
       "Index(['isFraud', 'TransactionDT', 'TransactionAmt', 'ProductCD', 'card1',\n",
       "       'card2', 'card3', 'card4', 'card5', 'card6',\n",
       "       ...\n",
       "       'id_31', 'id_32', 'id_33', 'id_34', 'id_35', 'id_36', 'id_37', 'id_38',\n",
       "       'DeviceType', 'DeviceInfo'],\n",
       "      dtype='object', length=433)"
      ]
     },
     "execution_count": 158,
     "metadata": {},
     "output_type": "execute_result"
    }
   ],
   "source": [
    "train.columns"
   ]
  },
  {
   "cell_type": "code",
   "execution_count": 159,
   "metadata": {
    "scrolled": false
   },
   "outputs": [
    {
     "name": "stdout",
     "output_type": "stream",
     "text": [
      "\"isFraud\", \"TransactionDT\", \"TransactionAmt\", \"ProductCD\", \"card1\", \"card2\", \"card3\", \"card4\", \"card5\", \"card6\", \"addr1\", \"addr2\", \"dist1\", \"dist2\", \"P_emaildomain\", \"R_emaildomain\", \"C1\", \"C2\", \"C3\", \"C4\", \"C5\", \"C6\", \"C7\", \"C8\", \"C9\", \"C10\", \"C11\", \"C12\", \"C13\", \"C14\", \"D1\", \"D2\", \"D3\", \"D4\", \"D5\", \"D6\", \"D7\", \"D8\", \"D9\", \"D10\", \"D11\", \"D12\", \"D13\", \"D14\", \"D15\", \"M1\", \"M2\", \"M3\", \"M4\", \"M5\", \"M6\", \"M7\", \"M8\", \"M9\", \"V1\", \"V2\", \"V3\", \"V4\", \"V5\", \"V6\", \"V7\", \"V8\", \"V9\", \"V10\", \"V11\", \"V12\", \"V13\", \"V14\", \"V15\", \"V16\", \"V17\", \"V18\", \"V19\", \"V20\", \"V21\", \"V22\", \"V23\", \"V24\", \"V25\", \"V26\", \"V27\", \"V28\", \"V29\", \"V30\", \"V31\", \"V32\", \"V33\", \"V34\", \"V35\", \"V36\", \"V37\", \"V38\", \"V39\", \"V40\", \"V41\", \"V42\", \"V43\", \"V44\", \"V45\", \"V46\", \"V47\", \"V48\", \"V49\", \"V50\", \"V51\", \"V52\", \"V53\", \"V54\", \"V55\", \"V56\", \"V57\", \"V58\", \"V59\", \"V60\", \"V61\", \"V62\", \"V63\", \"V64\", \"V65\", \"V66\", \"V67\", \"V68\", \"V69\", \"V70\", \"V71\", \"V72\", \"V73\", \"V74\", \"V75\", \"V76\", \"V77\", \"V78\", \"V79\", \"V80\", \"V81\", \"V82\", \"V83\", \"V84\", \"V85\", \"V86\", \"V87\", \"V88\", \"V89\", \"V90\", \"V91\", \"V92\", \"V93\", \"V94\", \"V95\", \"V96\", \"V97\", \"V98\", \"V99\", \"V100\", \"V101\", \"V102\", \"V103\", \"V104\", \"V105\", \"V106\", \"V107\", \"V108\", \"V109\", \"V110\", \"V111\", \"V112\", \"V113\", \"V114\", \"V115\", \"V116\", \"V117\", \"V118\", \"V119\", \"V120\", \"V121\", \"V122\", \"V123\", \"V124\", \"V125\", \"V126\", \"V127\", \"V128\", \"V129\", \"V130\", \"V131\", \"V132\", \"V133\", \"V134\", \"V135\", \"V136\", \"V137\", \"V138\", \"V139\", \"V140\", \"V141\", \"V142\", \"V143\", \"V144\", \"V145\", \"V146\", \"V147\", \"V148\", \"V149\", \"V150\", \"V151\", \"V152\", \"V153\", \"V154\", \"V155\", \"V156\", \"V157\", \"V158\", \"V159\", \"V160\", \"V161\", \"V162\", \"V163\", \"V164\", \"V165\", \"V166\", \"V167\", \"V168\", \"V169\", \"V170\", \"V171\", \"V172\", \"V173\", \"V174\", \"V175\", \"V176\", \"V177\", \"V178\", \"V179\", \"V180\", \"V181\", \"V182\", \"V183\", \"V184\", \"V185\", \"V186\", \"V187\", \"V188\", \"V189\", \"V190\", \"V191\", \"V192\", \"V193\", \"V194\", \"V195\", \"V196\", \"V197\", \"V198\", \"V199\", \"V200\", \"V201\", \"V202\", \"V203\", \"V204\", \"V205\", \"V206\", \"V207\", \"V208\", \"V209\", \"V210\", \"V211\", \"V212\", \"V213\", \"V214\", \"V215\", \"V216\", \"V217\", \"V218\", \"V219\", \"V220\", \"V221\", \"V222\", \"V223\", \"V224\", \"V225\", \"V226\", \"V227\", \"V228\", \"V229\", \"V230\", \"V231\", \"V232\", \"V233\", \"V234\", \"V235\", \"V236\", \"V237\", \"V238\", \"V239\", \"V240\", \"V241\", \"V242\", \"V243\", \"V244\", \"V245\", \"V246\", \"V247\", \"V248\", \"V249\", \"V250\", \"V251\", \"V252\", \"V253\", \"V254\", \"V255\", \"V256\", \"V257\", \"V258\", \"V259\", \"V260\", \"V261\", \"V262\", \"V263\", \"V264\", \"V265\", \"V266\", \"V267\", \"V268\", \"V269\", \"V270\", \"V271\", \"V272\", \"V273\", \"V274\", \"V275\", \"V276\", \"V277\", \"V278\", \"V279\", \"V280\", \"V281\", \"V282\", \"V283\", \"V284\", \"V285\", \"V286\", \"V287\", \"V288\", \"V289\", \"V290\", \"V291\", \"V292\", \"V293\", \"V294\", \"V295\", \"V296\", \"V297\", \"V298\", \"V299\", \"V300\", \"V301\", \"V302\", \"V303\", \"V304\", \"V305\", \"V306\", \"V307\", \"V308\", \"V309\", \"V310\", \"V311\", \"V312\", \"V313\", \"V314\", \"V315\", \"V316\", \"V317\", \"V318\", \"V319\", \"V320\", \"V321\", \"V322\", \"V323\", \"V324\", \"V325\", \"V326\", \"V327\", \"V328\", \"V329\", \"V330\", \"V331\", \"V332\", \"V333\", \"V334\", \"V335\", \"V336\", \"V337\", \"V338\", \"V339\", \"id_01\", \"id_02\", \"id_03\", \"id_04\", \"id_05\", \"id_06\", \"id_07\", \"id_08\", \"id_09\", \"id_10\", \"id_11\", \"id_12\", \"id_13\", \"id_14\", \"id_15\", \"id_16\", \"id_17\", \"id_18\", \"id_19\", \"id_20\", \"id_21\", \"id_22\", \"id_23\", \"id_24\", \"id_25\", \"id_26\", \"id_27\", \"id_28\", \"id_29\", \"id_30\", \"id_31\", \"id_32\", \"id_33\", \"id_34\", \"id_35\", \"id_36\", \"id_37\", \"id_38\", \"DeviceType\", \"DeviceInfo\", \n",
      "3396\n"
     ]
    }
   ],
   "source": [
    "print_columns(train)"
   ]
  },
  {
   "cell_type": "code",
   "execution_count": 160,
   "metadata": {},
   "outputs": [],
   "source": [
    "train['TransactionAmt'] = np.log(train['TransactionAmt']+1)\n",
    "test['TransactionAmt'] = np.log(test['TransactionAmt']+1)"
   ]
  },
  {
   "cell_type": "code",
   "execution_count": null,
   "metadata": {},
   "outputs": [],
   "source": []
  },
  {
   "cell_type": "markdown",
   "metadata": {},
   "source": [
    "final_cols = ['isFraud','TransactionAmt', \"ProductCD\", \"card1\", \"card2\", \"card3\", \"card4\", \"card5\", \"card6\", \n",
    "\"addr1\", \"addr2\", \"dist1\", \"dist2\", \"C1\", \"C2\", \"C3\", \"C4\", \"C5\", \"C6\", \"C7\", \"C8\", \"C9\", \"C10\", \n",
    "\"C11\", \"C12\", \"C13\", \"C14\", \"D1\", \"D2\", \"D3\", \"D4\", \"D5\", \"D6\", \"D7\", \"D8\", \"D9\", \"D10\", \"D11\", \"D12\", \n",
    "\"D13\", \"D14\", \"D15\", \"M1\", \"M2\", \"M3\", \"M4\", \"M5\", \"M6\", \"M7\", \"M8\", \"M9\", 'card1_count_full', \n",
    "'card2_count_full', 'card3_count_full', 'card4_count_full', \n",
    "'card5_count_full', 'card6_count_full', 'addr1_count_full', 'addr2_count_full', 'Transaction_day_of_week', \n",
    "'Transaction_hour_of_day', 'TransactionAmt_to_mean_card1', 'TransactionAmt_to_mean_card4',\n",
    "'TransactionAmt_to_std_card1', 'TransactionAmt_to_std_card4', 'emaildomain',\"id_01\", \"id_02\", \n",
    "\"id_03\", \"id_04\", \"id_05\", \"id_06\", \"id_07\", \"id_08\", \"id_09\", \"id_10\", \"id_11\", \n",
    "\"id_12\", \"id_13\", \"id_14\", \"id_15\", \"id_16\", \"id_17\", \"id_18\", \"id_19\", \"id_20\", \"id_21\", \"id_22\", \"id_23\", \"id_24\", \n",
    "\"id_25\", \"id_26\", \"id_27\", \"id_28\", \"id_29\", \"id_30\", \"id_31\", \"id_32\", \"id_33\", \"id_34\", \"id_35\", \n",
    "\"id_36\", \"id_37\", \"id_38\", \"OS\", \"Latest_browser\", \"Browser\",\n",
    "'V1','V2','V3','V4','V5','V6','V7','V9','V12','V13','V17','V18','V19',\n",
    "'V20','V23','V24','V25','V26','V29','V30','V33',\n",
    " 'V34','V35','V36','V37','V38','V39','V40','V42','V43','V44','V45','V47','V48','V49','V51','V52','V53','V54','V55',\n",
    " 'V56','V57','V58','V59','V60','V61','V62','V63','V64','V66','V67','V69','V70','V71','V72','V73','V74','V75','V76',\n",
    " 'V77','V78','V79','V80','V81','V82','V83','V85','V86','V87','V90','V91','V92','V93','V94', 'V95', 'V96', 'V97',\n",
    " 'V98','V99','V100','V101','V102','V103','V105','V109','V115','V124','V125','V126','V127','V128','V129', 'V130','V131',\n",
    " 'V132', 'V133', 'V134','V135','V136','V137','V139','V140','V143','V145','V146','V147','V149','V150','V151','V152',\n",
    " 'V156','V158','V159','V160','V161','V162','V164','V165','V166',\n",
    " 'V167','V168','V169','V170','V171','V172','V173','V174','V175','V176','V177','V178','V179','V180','V182','V187','V188',\n",
    " 'V189','V192','V198','V199','V200','V201','V202','V203','V204','V205','V206','V207','V208','V209','V210',\n",
    " 'V211', 'V212','V213','V214','V215','V216','V217','V218','V219','V220','V221','V222','V223','V224','V225','V226',\n",
    " 'V227','V228','V229','V230','V231','V232','V233','V234','V236','V239','V243','V244','V245','V246','V248','V250',\n",
    " 'V251','V256','V257',\n",
    " 'V258','V259','V260','V261','V262','V263','V264','V265','V266','V267','V268','V270','V271','V272','V273','V274',\n",
    " 'V275','V276','V277','V278','V279','V280','V281','V282','V283','V284','V285','V286','V287','V288','V289','V290',\n",
    " 'V291','V292','V293','V294','V295',\n",
    " 'V296','V297','V298','V299','V300','V301','V303','V304','V306','V307','V308','V309','V310','V311','V312',\n",
    " 'V313','V314','V315','V316','V317','V318','V319','V320','V321','V322','V323','V324','V326','V329','V331',\n",
    " 'V332','V333','V335','V336','V338','V339']"
   ]
  },
  {
   "cell_type": "code",
   "execution_count": 179,
   "metadata": {},
   "outputs": [],
   "source": [
    "final_cols = ['isFraud','TransactionAmt', \"ProductCD\", \"card1\", \"card2\", \"card3\", \"card4\", \"card5\", \"card6\", \n",
    "\"addr1\", \"addr2\", \"dist1\", \"dist2\", \"C1\", \"C2\", \"C3\", \"C4\", \"C5\", \"C6\", \"C7\", \"C8\", \"C9\", \"C10\", \n",
    "\"C11\", \"C12\", \"C13\", \"C14\", \"D1\", \"D2\", \"D3\", \"D4\", \"D5\", \"D6\", \"D7\", \"D8\", \"D9\", \"D10\", \"D11\", \"D12\", \n",
    "\"D13\", \"D14\", \"D15\", \"M1\", \"M2\", \"M3\", \"M4\", \"M5\", \"M6\", \"M7\", \"M8\", \"M9\", \"id_01\", \"id_02\", \n",
    "\"id_03\", \"id_04\", \"id_05\", \"id_06\", \"id_07\", \"id_08\", \"id_09\", \"id_10\", \"id_11\", \n",
    "\"id_12\", \"id_13\", \"id_14\", \"id_15\", \"id_16\", \"id_17\", \"id_18\", \"id_19\", \"id_20\", \"id_21\", \"id_22\", \"id_23\", \"id_24\", \n",
    "\"id_25\", \"id_26\", \"id_27\", \"id_28\", \"id_29\", \"id_30\", \"id_31\", \"id_32\", \"id_33\", \"id_34\", \"id_35\", \n",
    "\"id_36\", \"id_37\", \"id_38\", \n",
    "'V1','V2','V3','V4','V5','V6','V7','V9','V12','V13','V17','V18','V19',\n",
    "'V20','V23','V24','V25','V26','V29','V30','V33',\n",
    " 'V34','V35','V36','V37','V38','V39','V40','V42','V43','V44','V45','V47','V48','V49','V51','V52','V53','V54','V55',\n",
    " 'V56','V57','V58','V59','V60','V61','V62','V63','V64','V66','V67','V69','V70','V71','V72','V73','V74','V75','V76',\n",
    " 'V77','V78','V79','V80','V81','V82','V83','V85','V86','V87','V90','V91','V92','V93','V94', 'V95', 'V96', 'V97',\n",
    " 'V98','V99','V100','V101','V102','V103','V105','V109','V115','V124','V125','V126','V127','V128','V129', 'V130','V131',\n",
    " 'V132', 'V133', 'V134','V135','V136','V137','V139','V140','V143','V145','V146','V147','V149','V150','V151','V152',\n",
    " 'V156','V158','V159','V160','V161','V162','V164','V165','V166',\n",
    " 'V167','V168','V169','V170','V171','V172','V173','V174','V175','V176','V177','V178','V179','V180','V182','V187','V188',\n",
    " 'V189','V192','V198','V199','V200','V201','V202','V203','V204','V205','V206','V207','V208','V209','V210',\n",
    " 'V211', 'V212','V213','V214','V215','V216','V217','V218','V219','V220','V221','V222','V223','V224','V225','V226',\n",
    " 'V227','V228','V229','V230','V231','V232','V233','V234','V236','V239','V243','V244','V245','V246','V248','V250',\n",
    " 'V251','V256','V257',\n",
    " 'V258','V259','V260','V261','V262','V263','V264','V265','V266','V267','V268','V270','V271','V272','V273','V274',\n",
    " 'V275','V276','V277','V278','V279','V280','V281','V282','V283','V284','V285','V286','V287','V288','V289','V290',\n",
    " 'V291','V292','V293','V294','V295',\n",
    " 'V296','V297','V298','V299','V300','V301','V303','V304','V306','V307','V308','V309','V310','V311','V312',\n",
    " 'V313','V314','V315','V316','V317','V318','V319','V320','V321','V322','V323','V324','V326','V329','V331',\n",
    " 'V332','V333','V335','V336','V338','V339']"
   ]
  },
  {
   "cell_type": "markdown",
   "metadata": {},
   "source": [
    "train['card1_count_full'] = np.log(train['card1_count_full']+1)\n",
    "test['card1_count_full'] = np.log(test['card1_count_full']+1)"
   ]
  },
  {
   "cell_type": "markdown",
   "metadata": {},
   "source": [
    "train['card2_count_full'] = np.log(train['card2_count_full']+1)\n",
    "test['card2_count_full'] = np.log(test['card2_count_full']+1)"
   ]
  },
  {
   "cell_type": "markdown",
   "metadata": {},
   "source": [
    "train['card3_count_full'] = np.log(train['card3_count_full']+1)\n",
    "test['card3_count_full'] = np.log(test['card3_count_full']+1)"
   ]
  },
  {
   "cell_type": "markdown",
   "metadata": {},
   "source": [
    "train['card4_count_full'] = np.log(train['card4_count_full']+1)\n",
    "test['card4_count_full'] = np.log(test['card4_count_full']+1)"
   ]
  },
  {
   "cell_type": "markdown",
   "metadata": {},
   "source": [
    "train['card5_count_full'] = np.log(train['card5_count_full']+1)\n",
    "test['card5_count_full'] = np.log(test['card5_count_full']+1)"
   ]
  },
  {
   "cell_type": "markdown",
   "metadata": {},
   "source": [
    "train['card6_count_full'] = np.log(train['card6_count_full']+1)\n",
    "test['card6_count_full'] = np.log(test['card6_count_full']+1)"
   ]
  },
  {
   "cell_type": "markdown",
   "metadata": {},
   "source": [
    "train['addr1_count_full'] = np.log(train['addr1_count_full']+1)\n",
    "test['addr1_count_full'] = np.log(test['addr1_count_full']+1)"
   ]
  },
  {
   "cell_type": "markdown",
   "metadata": {},
   "source": [
    "train['addr2_count_full'] = np.log(train['addr2_count_full']+1)\n",
    "test['addr2_count_full'] = np.log(test['addr2_count_full']+1)"
   ]
  },
  {
   "cell_type": "markdown",
   "metadata": {},
   "source": [
    "j_train = pd.read_csv('jinoo_train.csv')"
   ]
  },
  {
   "cell_type": "code",
   "execution_count": null,
   "metadata": {},
   "outputs": [],
   "source": []
  },
  {
   "cell_type": "code",
   "execution_count": null,
   "metadata": {},
   "outputs": [],
   "source": []
  },
  {
   "cell_type": "code",
   "execution_count": null,
   "metadata": {},
   "outputs": [],
   "source": []
  },
  {
   "cell_type": "code",
   "execution_count": 129,
   "metadata": {},
   "outputs": [
    {
     "data": {
      "text/plain": [
       "Index(['card1_count_full', 'card2_count_full', 'card3_count_full',\n",
       "       'card4_count_full', 'card5_count_full', 'card6_count_full',\n",
       "       'addr1_count_full', 'addr2_count_full', 'Transaction_day_of_week',\n",
       "       'Transaction_hour_of_day', 'TransactionAmt_to_mean_card1',\n",
       "       'TransactionAmt_to_mean_card4', 'TransactionAmt_to_std_card1',\n",
       "       'TransactionAmt_to_std_card4', 'emaildomain'],\n",
       "      dtype='object')"
      ]
     },
     "execution_count": 129,
     "metadata": {},
     "output_type": "execute_result"
    }
   ],
   "source": [
    "j_train.columns"
   ]
  },
  {
   "cell_type": "markdown",
   "metadata": {},
   "source": [
    "tttrain = pd.read_csv('train_transaction.csv', index_col='TransactionID')"
   ]
  },
  {
   "cell_type": "markdown",
   "metadata": {},
   "source": [
    "\n",
    "def check_and_drop_column(df, column):\n",
    "    if column in df.columns:\n",
    "        df.drop(columns=[column], axis=1, inplace=True)"
   ]
  },
  {
   "cell_type": "markdown",
   "metadata": {},
   "source": [
    " for col in tttrain.columns:\n",
    "    if str(col)[0] == 'V':\n",
    "        check_and_drop_column(tttrain, col)"
   ]
  },
  {
   "cell_type": "markdown",
   "metadata": {},
   "source": [
    "tttrain.columns"
   ]
  },
  {
   "cell_type": "code",
   "execution_count": null,
   "metadata": {},
   "outputs": [],
   "source": []
  },
  {
   "cell_type": "code",
   "execution_count": null,
   "metadata": {},
   "outputs": [],
   "source": []
  },
  {
   "cell_type": "code",
   "execution_count": null,
   "metadata": {},
   "outputs": [],
   "source": []
  },
  {
   "cell_type": "code",
   "execution_count": 210,
   "metadata": {},
   "outputs": [
    {
     "name": "stdout",
     "output_type": "stream",
     "text": [
      "348\n",
      "85\n",
      "False\n"
     ]
    }
   ],
   "source": [
    "\n",
    "del_cols2 = []\n",
    "no_cols2= []\n",
    "for col in train.columns:\n",
    "\n",
    "  if col not in final_cols:\n",
    "    del_cols2.append(col)\n",
    "  else:\n",
    "    no_cols2.append(col)\n",
    "print(len(no_cols2));print(len(del_cols2))\n",
    "print(no_cols2 == final_cols)"
   ]
  },
  {
   "cell_type": "code",
   "execution_count": 213,
   "metadata": {},
   "outputs": [
    {
     "data": {
      "text/plain": [
       "85"
      ]
     },
     "execution_count": 213,
     "metadata": {},
     "output_type": "execute_result"
    }
   ],
   "source": [
    "del_cols_test2 = del_cols2\n",
    "len(del_cols_test2)"
   ]
  },
  {
   "cell_type": "code",
   "execution_count": 214,
   "metadata": {
    "scrolled": true
   },
   "outputs": [
    {
     "name": "stdout",
     "output_type": "stream",
     "text": [
      "85\n"
     ]
    },
    {
     "data": {
      "text/plain": [
       "['TransactionDT',\n",
       " 'P_emaildomain',\n",
       " 'R_emaildomain',\n",
       " 'V8',\n",
       " 'V10',\n",
       " 'V11',\n",
       " 'V14',\n",
       " 'V15',\n",
       " 'V16',\n",
       " 'V21',\n",
       " 'V22',\n",
       " 'V27',\n",
       " 'V28',\n",
       " 'V31',\n",
       " 'V32',\n",
       " 'V41',\n",
       " 'V46',\n",
       " 'V50',\n",
       " 'V65',\n",
       " 'V68',\n",
       " 'V84',\n",
       " 'V88',\n",
       " 'V89',\n",
       " 'V104',\n",
       " 'V106',\n",
       " 'V107',\n",
       " 'V108',\n",
       " 'V110',\n",
       " 'V111',\n",
       " 'V112',\n",
       " 'V113',\n",
       " 'V114',\n",
       " 'V116',\n",
       " 'V117',\n",
       " 'V118',\n",
       " 'V119',\n",
       " 'V120',\n",
       " 'V121',\n",
       " 'V122',\n",
       " 'V123',\n",
       " 'V138',\n",
       " 'V141',\n",
       " 'V142',\n",
       " 'V144',\n",
       " 'V148',\n",
       " 'V153',\n",
       " 'V154',\n",
       " 'V155',\n",
       " 'V157',\n",
       " 'V163',\n",
       " 'V181',\n",
       " 'V183',\n",
       " 'V184',\n",
       " 'V185',\n",
       " 'V186',\n",
       " 'V190',\n",
       " 'V191',\n",
       " 'V193',\n",
       " 'V194',\n",
       " 'V195',\n",
       " 'V196',\n",
       " 'V197',\n",
       " 'V235',\n",
       " 'V237',\n",
       " 'V238',\n",
       " 'V240',\n",
       " 'V241',\n",
       " 'V242',\n",
       " 'V247',\n",
       " 'V249',\n",
       " 'V252',\n",
       " 'V253',\n",
       " 'V254',\n",
       " 'V255',\n",
       " 'V269',\n",
       " 'V302',\n",
       " 'V305',\n",
       " 'V325',\n",
       " 'V327',\n",
       " 'V328',\n",
       " 'V330',\n",
       " 'V334',\n",
       " 'V337',\n",
       " 'DeviceType',\n",
       " 'DeviceInfo',\n",
       " 'isFraud',\n",
       " 'C3',\n",
       " 'M1',\n",
       " 'id_04',\n",
       " 'id_07',\n",
       " 'id_08',\n",
       " 'id_10',\n",
       " 'id_11',\n",
       " 'id_12',\n",
       " 'id_21',\n",
       " 'id_22',\n",
       " 'id_23',\n",
       " 'id_24',\n",
       " 'id_25',\n",
       " 'id_26',\n",
       " 'id_27',\n",
       " 'id_28',\n",
       " 'id_29',\n",
       " 'id_34',\n",
       " 'id_35',\n",
       " 'id_37',\n",
       " 'V1',\n",
       " 'V2',\n",
       " 'V6',\n",
       " 'V9',\n",
       " 'V17',\n",
       " 'V18',\n",
       " 'V40',\n",
       " 'V42',\n",
       " 'V43',\n",
       " 'V59',\n",
       " 'V71',\n",
       " 'V72',\n",
       " 'V73',\n",
       " 'V79',\n",
       " 'V80',\n",
       " 'V92',\n",
       " 'V93',\n",
       " 'V98',\n",
       " 'V101',\n",
       " 'V109',\n",
       " 'V125',\n",
       " 'V135',\n",
       " 'V146',\n",
       " 'V150',\n",
       " 'V156',\n",
       " 'V168',\n",
       " 'V172',\n",
       " 'V173',\n",
       " 'V174',\n",
       " 'V176',\n",
       " 'V177',\n",
       " 'V178',\n",
       " 'V179',\n",
       " 'V180',\n",
       " 'V182',\n",
       " 'V188',\n",
       " 'V192',\n",
       " 'V199',\n",
       " 'V214',\n",
       " 'V220',\n",
       " 'V227',\n",
       " 'V228',\n",
       " 'V230',\n",
       " 'V236',\n",
       " 'V246',\n",
       " 'V250',\n",
       " 'V259',\n",
       " 'V260',\n",
       " 'V270',\n",
       " 'V272',\n",
       " 'V273',\n",
       " 'V297',\n",
       " 'V299',\n",
       " 'V300',\n",
       " 'V303',\n",
       " 'V304',\n",
       " 'V326',\n",
       " 'V329',\n",
       " 'V338',\n",
       " 'V339']"
      ]
     },
     "execution_count": 214,
     "metadata": {},
     "output_type": "execute_result"
    }
   ],
   "source": [
    "print(len(del_cols2))\n",
    "del_cols"
   ]
  },
  {
   "cell_type": "code",
   "execution_count": 183,
   "metadata": {},
   "outputs": [],
   "source": [
    "one_train = train\n",
    "two_train = train\n",
    "three_train = train\n",
    "four_train = train\n",
    "five_train = train"
   ]
  },
  {
   "cell_type": "code",
   "execution_count": 184,
   "metadata": {},
   "outputs": [],
   "source": [
    "one_test = test\n",
    "two_test = test\n",
    "three_test = test\n",
    "four_test = test\n",
    "five_test = test"
   ]
  },
  {
   "cell_type": "code",
   "execution_count": 185,
   "metadata": {},
   "outputs": [],
   "source": [
    "from tqdm import tqdm_notebook"
   ]
  },
  {
   "cell_type": "code",
   "execution_count": 186,
   "metadata": {},
   "outputs": [
    {
     "data": {
      "application/vnd.jupyter.widget-view+json": {
       "model_id": "157190ac28394ea6af45e896022a17cf",
       "version_major": 2,
       "version_minor": 0
      },
      "text/plain": [
       "HBox(children=(IntProgress(value=0, max=433), HTML(value='')))"
      ]
     },
     "metadata": {},
     "output_type": "display_data"
    },
    {
     "name": "stdout",
     "output_type": "stream",
     "text": [
      "\n"
     ]
    }
   ],
   "source": [
    "for col in tqdm_notebook(one_train.columns): \n",
    "    if one_train[col].dtype == 'object':\n",
    "        le = LabelEncoder()\n",
    "        le.fit(list(one_train[col].astype(str).values) + list(one_test[col].astype(str).values))\n",
    "        one_train[col] = le.transform(list(one_train[col].astype(str).values))"
   ]
  },
  {
   "cell_type": "code",
   "execution_count": 169,
   "metadata": {},
   "outputs": [
    {
     "name": "stdout",
     "output_type": "stream",
     "text": [
      "Mem. usage decreased to 547.70 Mb (72.3% reduction)\n",
      "Mem. usage decreased to 583.43 Mb (65.6% reduction)\n"
     ]
    }
   ],
   "source": [
    "one_train = reduce_mem_usage(one_train)\n",
    "one_test = reduce_mem_usage(one_test)\n",
    "\n"
   ]
  },
  {
   "cell_type": "code",
   "execution_count": 188,
   "metadata": {},
   "outputs": [],
   "source": [
    "one_train = one_train.drop(del_cols, axis=1)\n",
    "one_test = one_test.drop(del_cols, axis=1)"
   ]
  },
  {
   "cell_type": "code",
   "execution_count": 215,
   "metadata": {},
   "outputs": [],
   "source": [
    "three_train = three_train.drop(del_cols2, axis=1)\n",
    "three_test = three_test.drop(del_cols2, axis=1)"
   ]
  },
  {
   "cell_type": "code",
   "execution_count": 189,
   "metadata": {},
   "outputs": [
    {
     "data": {
      "text/plain": [
       "Index(['isFraud', 'TransactionAmt', 'ProductCD', 'card1', 'card2', 'card3',\n",
       "       'card4', 'card5', 'card6', 'addr1',\n",
       "       ...\n",
       "       'id_29', 'id_30', 'id_31', 'id_32', 'id_33', 'id_34', 'id_35', 'id_36',\n",
       "       'id_37', 'id_38'],\n",
       "      dtype='object', length=348)"
      ]
     },
     "execution_count": 189,
     "metadata": {},
     "output_type": "execute_result"
    }
   ],
   "source": [
    "one_train.columns"
   ]
  },
  {
   "cell_type": "code",
   "execution_count": 190,
   "metadata": {},
   "outputs": [
    {
     "data": {
      "text/plain": [
       "Index(['TransactionAmt', 'ProductCD', 'card1', 'card2', 'card3', 'card4',\n",
       "       'card5', 'card6', 'addr1', 'addr2',\n",
       "       ...\n",
       "       'id_29', 'id_30', 'id_31', 'id_32', 'id_33', 'id_34', 'id_35', 'id_36',\n",
       "       'id_37', 'id_38'],\n",
       "      dtype='object', length=347)"
      ]
     },
     "execution_count": 190,
     "metadata": {},
     "output_type": "execute_result"
    }
   ],
   "source": [
    "one_test.columns"
   ]
  },
  {
   "cell_type": "markdown",
   "metadata": {},
   "source": [
    "for col in one_train.columns:\n",
    "    if col != 'isFraud':\n",
    "        one_train[col] = np.log(one_train[col]+1)\n",
    "    else:\n",
    "        print(\"isFraud pass\")\n",
    "        \n",
    "for col in one_test.columns:\n",
    "    one_test[col] = np.log(one_test[col]+1)"
   ]
  },
  {
   "cell_type": "code",
   "execution_count": 191,
   "metadata": {},
   "outputs": [
    {
     "data": {
      "text/html": [
       "<div>\n",
       "<style scoped>\n",
       "    .dataframe tbody tr th:only-of-type {\n",
       "        vertical-align: middle;\n",
       "    }\n",
       "\n",
       "    .dataframe tbody tr th {\n",
       "        vertical-align: top;\n",
       "    }\n",
       "\n",
       "    .dataframe thead th {\n",
       "        text-align: right;\n",
       "    }\n",
       "</style>\n",
       "<table border=\"1\" class=\"dataframe\">\n",
       "  <thead>\n",
       "    <tr style=\"text-align: right;\">\n",
       "      <th></th>\n",
       "      <th>isFraud</th>\n",
       "      <th>TransactionAmt</th>\n",
       "      <th>ProductCD</th>\n",
       "      <th>card1</th>\n",
       "      <th>card2</th>\n",
       "      <th>card3</th>\n",
       "      <th>card4</th>\n",
       "      <th>card5</th>\n",
       "      <th>card6</th>\n",
       "      <th>addr1</th>\n",
       "      <th>...</th>\n",
       "      <th>id_29</th>\n",
       "      <th>id_30</th>\n",
       "      <th>id_31</th>\n",
       "      <th>id_32</th>\n",
       "      <th>id_33</th>\n",
       "      <th>id_34</th>\n",
       "      <th>id_35</th>\n",
       "      <th>id_36</th>\n",
       "      <th>id_37</th>\n",
       "      <th>id_38</th>\n",
       "    </tr>\n",
       "  </thead>\n",
       "  <tbody>\n",
       "    <tr>\n",
       "      <th>count</th>\n",
       "      <td>590540.000000</td>\n",
       "      <td>590540.000000</td>\n",
       "      <td>590540.000000</td>\n",
       "      <td>590540.000000</td>\n",
       "      <td>581607.0</td>\n",
       "      <td>588975.0</td>\n",
       "      <td>590540.000000</td>\n",
       "      <td>586281.0</td>\n",
       "      <td>590540.000000</td>\n",
       "      <td>524834.0</td>\n",
       "      <td>...</td>\n",
       "      <td>590540.000000</td>\n",
       "      <td>590540.000000</td>\n",
       "      <td>590540.000000</td>\n",
       "      <td>77586.0</td>\n",
       "      <td>590540.000000</td>\n",
       "      <td>590540.000000</td>\n",
       "      <td>590540.000000</td>\n",
       "      <td>590540.000000</td>\n",
       "      <td>590540.000000</td>\n",
       "      <td>590540.000000</td>\n",
       "    </tr>\n",
       "    <tr>\n",
       "      <th>mean</th>\n",
       "      <td>0.034990</td>\n",
       "      <td>NaN</td>\n",
       "      <td>3.220757</td>\n",
       "      <td>9898.734658</td>\n",
       "      <td>NaN</td>\n",
       "      <td>NaN</td>\n",
       "      <td>3.266305</td>\n",
       "      <td>NaN</td>\n",
       "      <td>1.753033</td>\n",
       "      <td>NaN</td>\n",
       "      <td>...</td>\n",
       "      <td>1.634396</td>\n",
       "      <td>80.935500</td>\n",
       "      <td>123.923744</td>\n",
       "      <td>NaN</td>\n",
       "      <td>426.594436</td>\n",
       "      <td>3.837403</td>\n",
       "      <td>1.654289</td>\n",
       "      <td>1.534238</td>\n",
       "      <td>1.709557</td>\n",
       "      <td>1.636084</td>\n",
       "    </tr>\n",
       "    <tr>\n",
       "      <th>std</th>\n",
       "      <td>0.183755</td>\n",
       "      <td>0.000000</td>\n",
       "      <td>1.423926</td>\n",
       "      <td>4901.170153</td>\n",
       "      <td>NaN</td>\n",
       "      <td>0.0</td>\n",
       "      <td>1.035866</td>\n",
       "      <td>0.0</td>\n",
       "      <td>0.449543</td>\n",
       "      <td>NaN</td>\n",
       "      <td>...</td>\n",
       "      <td>0.696917</td>\n",
       "      <td>14.756863</td>\n",
       "      <td>29.237451</td>\n",
       "      <td>0.0</td>\n",
       "      <td>97.397769</td>\n",
       "      <td>0.446413</td>\n",
       "      <td>0.663430</td>\n",
       "      <td>0.838376</td>\n",
       "      <td>0.556321</td>\n",
       "      <td>0.694144</td>\n",
       "    </tr>\n",
       "    <tr>\n",
       "      <th>min</th>\n",
       "      <td>0.000000</td>\n",
       "      <td>0.223999</td>\n",
       "      <td>0.000000</td>\n",
       "      <td>1000.000000</td>\n",
       "      <td>100.0</td>\n",
       "      <td>100.0</td>\n",
       "      <td>0.000000</td>\n",
       "      <td>100.0</td>\n",
       "      <td>0.000000</td>\n",
       "      <td>100.0</td>\n",
       "      <td>...</td>\n",
       "      <td>0.000000</td>\n",
       "      <td>0.000000</td>\n",
       "      <td>0.000000</td>\n",
       "      <td>0.0</td>\n",
       "      <td>0.000000</td>\n",
       "      <td>0.000000</td>\n",
       "      <td>0.000000</td>\n",
       "      <td>0.000000</td>\n",
       "      <td>0.000000</td>\n",
       "      <td>0.000000</td>\n",
       "    </tr>\n",
       "    <tr>\n",
       "      <th>25%</th>\n",
       "      <td>0.000000</td>\n",
       "      <td>3.791016</td>\n",
       "      <td>3.000000</td>\n",
       "      <td>6019.000000</td>\n",
       "      <td>214.0</td>\n",
       "      <td>150.0</td>\n",
       "      <td>2.000000</td>\n",
       "      <td>166.0</td>\n",
       "      <td>1.000000</td>\n",
       "      <td>204.0</td>\n",
       "      <td>...</td>\n",
       "      <td>2.000000</td>\n",
       "      <td>86.000000</td>\n",
       "      <td>136.000000</td>\n",
       "      <td>24.0</td>\n",
       "      <td>461.000000</td>\n",
       "      <td>4.000000</td>\n",
       "      <td>2.000000</td>\n",
       "      <td>2.000000</td>\n",
       "      <td>2.000000</td>\n",
       "      <td>2.000000</td>\n",
       "    </tr>\n",
       "    <tr>\n",
       "      <th>50%</th>\n",
       "      <td>0.000000</td>\n",
       "      <td>4.246094</td>\n",
       "      <td>4.000000</td>\n",
       "      <td>9678.000000</td>\n",
       "      <td>361.0</td>\n",
       "      <td>150.0</td>\n",
       "      <td>4.000000</td>\n",
       "      <td>226.0</td>\n",
       "      <td>2.000000</td>\n",
       "      <td>299.0</td>\n",
       "      <td>...</td>\n",
       "      <td>2.000000</td>\n",
       "      <td>86.000000</td>\n",
       "      <td>136.000000</td>\n",
       "      <td>24.0</td>\n",
       "      <td>461.000000</td>\n",
       "      <td>4.000000</td>\n",
       "      <td>2.000000</td>\n",
       "      <td>2.000000</td>\n",
       "      <td>2.000000</td>\n",
       "      <td>2.000000</td>\n",
       "    </tr>\n",
       "    <tr>\n",
       "      <th>75%</th>\n",
       "      <td>0.000000</td>\n",
       "      <td>4.835938</td>\n",
       "      <td>4.000000</td>\n",
       "      <td>14184.000000</td>\n",
       "      <td>512.0</td>\n",
       "      <td>150.0</td>\n",
       "      <td>4.000000</td>\n",
       "      <td>226.0</td>\n",
       "      <td>2.000000</td>\n",
       "      <td>330.0</td>\n",
       "      <td>...</td>\n",
       "      <td>2.000000</td>\n",
       "      <td>86.000000</td>\n",
       "      <td>136.000000</td>\n",
       "      <td>32.0</td>\n",
       "      <td>461.000000</td>\n",
       "      <td>4.000000</td>\n",
       "      <td>2.000000</td>\n",
       "      <td>2.000000</td>\n",
       "      <td>2.000000</td>\n",
       "      <td>2.000000</td>\n",
       "    </tr>\n",
       "    <tr>\n",
       "      <th>max</th>\n",
       "      <td>1.000000</td>\n",
       "      <td>10.375000</td>\n",
       "      <td>4.000000</td>\n",
       "      <td>18396.000000</td>\n",
       "      <td>600.0</td>\n",
       "      <td>231.0</td>\n",
       "      <td>4.000000</td>\n",
       "      <td>237.0</td>\n",
       "      <td>4.000000</td>\n",
       "      <td>540.0</td>\n",
       "      <td>...</td>\n",
       "      <td>2.000000</td>\n",
       "      <td>87.000000</td>\n",
       "      <td>172.000000</td>\n",
       "      <td>32.0</td>\n",
       "      <td>461.000000</td>\n",
       "      <td>4.000000</td>\n",
       "      <td>2.000000</td>\n",
       "      <td>2.000000</td>\n",
       "      <td>2.000000</td>\n",
       "      <td>2.000000</td>\n",
       "    </tr>\n",
       "  </tbody>\n",
       "</table>\n",
       "<p>8 rows × 348 columns</p>\n",
       "</div>"
      ],
      "text/plain": [
       "             isFraud  TransactionAmt      ProductCD          card1     card2  \\\n",
       "count  590540.000000   590540.000000  590540.000000  590540.000000  581607.0   \n",
       "mean        0.034990             NaN       3.220757    9898.734658       NaN   \n",
       "std         0.183755        0.000000       1.423926    4901.170153       NaN   \n",
       "min         0.000000        0.223999       0.000000    1000.000000     100.0   \n",
       "25%         0.000000        3.791016       3.000000    6019.000000     214.0   \n",
       "50%         0.000000        4.246094       4.000000    9678.000000     361.0   \n",
       "75%         0.000000        4.835938       4.000000   14184.000000     512.0   \n",
       "max         1.000000       10.375000       4.000000   18396.000000     600.0   \n",
       "\n",
       "          card3          card4     card5          card6     addr1  ...  \\\n",
       "count  588975.0  590540.000000  586281.0  590540.000000  524834.0  ...   \n",
       "mean        NaN       3.266305       NaN       1.753033       NaN  ...   \n",
       "std         0.0       1.035866       0.0       0.449543       NaN  ...   \n",
       "min       100.0       0.000000     100.0       0.000000     100.0  ...   \n",
       "25%       150.0       2.000000     166.0       1.000000     204.0  ...   \n",
       "50%       150.0       4.000000     226.0       2.000000     299.0  ...   \n",
       "75%       150.0       4.000000     226.0       2.000000     330.0  ...   \n",
       "max       231.0       4.000000     237.0       4.000000     540.0  ...   \n",
       "\n",
       "               id_29          id_30          id_31    id_32          id_33  \\\n",
       "count  590540.000000  590540.000000  590540.000000  77586.0  590540.000000   \n",
       "mean        1.634396      80.935500     123.923744      NaN     426.594436   \n",
       "std         0.696917      14.756863      29.237451      0.0      97.397769   \n",
       "min         0.000000       0.000000       0.000000      0.0       0.000000   \n",
       "25%         2.000000      86.000000     136.000000     24.0     461.000000   \n",
       "50%         2.000000      86.000000     136.000000     24.0     461.000000   \n",
       "75%         2.000000      86.000000     136.000000     32.0     461.000000   \n",
       "max         2.000000      87.000000     172.000000     32.0     461.000000   \n",
       "\n",
       "               id_34          id_35          id_36          id_37  \\\n",
       "count  590540.000000  590540.000000  590540.000000  590540.000000   \n",
       "mean        3.837403       1.654289       1.534238       1.709557   \n",
       "std         0.446413       0.663430       0.838376       0.556321   \n",
       "min         0.000000       0.000000       0.000000       0.000000   \n",
       "25%         4.000000       2.000000       2.000000       2.000000   \n",
       "50%         4.000000       2.000000       2.000000       2.000000   \n",
       "75%         4.000000       2.000000       2.000000       2.000000   \n",
       "max         4.000000       2.000000       2.000000       2.000000   \n",
       "\n",
       "               id_38  \n",
       "count  590540.000000  \n",
       "mean        1.636084  \n",
       "std         0.694144  \n",
       "min         0.000000  \n",
       "25%         2.000000  \n",
       "50%         2.000000  \n",
       "75%         2.000000  \n",
       "max         2.000000  \n",
       "\n",
       "[8 rows x 348 columns]"
      ]
     },
     "execution_count": 191,
     "metadata": {},
     "output_type": "execute_result"
    }
   ],
   "source": [
    "one_train.describe()"
   ]
  },
  {
   "cell_type": "markdown",
   "metadata": {},
   "source": [
    "## rfecv"
   ]
  },
  {
   "cell_type": "code",
   "execution_count": 192,
   "metadata": {},
   "outputs": [],
   "source": [
    "X = one_train.sort_values('TransactionAmt').drop(['isFraud'], axis=1)\n",
    "y = one_train.sort_values('TransactionAmt')['isFraud']"
   ]
  },
  {
   "cell_type": "code",
   "execution_count": 193,
   "metadata": {},
   "outputs": [],
   "source": [
    "# RFECV does not support NaNs\n",
    "X.fillna(-999, inplace=True)"
   ]
  },
  {
   "cell_type": "code",
   "execution_count": 196,
   "metadata": {},
   "outputs": [
    {
     "name": "stdout",
     "output_type": "stream",
     "text": [
      "(590540, 348)\n",
      "(506691, 347)\n"
     ]
    }
   ],
   "source": [
    "print(one_train.shape)\n",
    "print(one_test.shape)"
   ]
  },
  {
   "cell_type": "code",
   "execution_count": 197,
   "metadata": {},
   "outputs": [],
   "source": [
    "params = {'num_leaves': 491,\n",
    "          'min_child_weight': 0.03454472573214212,\n",
    "          'feature_fraction': 0.3797454081646243,\n",
    "          'bagging_fraction': 0.4181193142567742,\n",
    "          'min_data_in_leaf': 106,\n",
    "          'objective': 'binary',\n",
    "          'max_depth': -1,\n",
    "          'learning_rate': 0.006883242363721497,\n",
    "          \"boosting_type\": \"gbdt\",\n",
    "          \"bagging_seed\": 11,\n",
    "          \"metric\": 'auc',\n",
    "          \"verbosity\": -1,\n",
    "          'reg_alpha': 0.3899927210061127,\n",
    "          'reg_lambda': 0.6485237330340494,\n",
    "          'random_state': 47\n",
    "         }\n"
   ]
  },
  {
   "cell_type": "code",
   "execution_count": 198,
   "metadata": {},
   "outputs": [],
   "source": [
    "clf = lgb.LGBMClassifier(**params)\n",
    "rfecv = RFECV(estimator=clf, step=10, cv=KFold(n_splits=5, shuffle=False), scoring='roc_auc', verbose=2)"
   ]
  },
  {
   "cell_type": "code",
   "execution_count": 199,
   "metadata": {},
   "outputs": [
    {
     "name": "stdout",
     "output_type": "stream",
     "text": [
      "Fitting estimator with 347 features.\n",
      "Fitting estimator with 337 features.\n",
      "Fitting estimator with 327 features.\n",
      "Fitting estimator with 317 features.\n",
      "Fitting estimator with 307 features.\n",
      "Fitting estimator with 297 features.\n",
      "Fitting estimator with 287 features.\n",
      "Fitting estimator with 277 features.\n",
      "Fitting estimator with 267 features.\n",
      "Fitting estimator with 257 features.\n",
      "Fitting estimator with 247 features.\n",
      "Fitting estimator with 237 features.\n",
      "Fitting estimator with 227 features.\n",
      "Fitting estimator with 217 features.\n",
      "Fitting estimator with 207 features.\n",
      "Fitting estimator with 197 features.\n",
      "Fitting estimator with 187 features.\n",
      "Fitting estimator with 177 features.\n",
      "Fitting estimator with 167 features.\n",
      "Fitting estimator with 157 features.\n",
      "Fitting estimator with 147 features.\n",
      "Fitting estimator with 137 features.\n",
      "Fitting estimator with 127 features.\n",
      "Fitting estimator with 117 features.\n",
      "Fitting estimator with 107 features.\n",
      "Fitting estimator with 97 features.\n",
      "Fitting estimator with 87 features.\n",
      "Fitting estimator with 77 features.\n",
      "Fitting estimator with 67 features.\n",
      "Fitting estimator with 57 features.\n",
      "Fitting estimator with 47 features.\n",
      "Fitting estimator with 37 features.\n",
      "Fitting estimator with 27 features.\n",
      "Fitting estimator with 17 features.\n",
      "Fitting estimator with 7 features.\n",
      "Fitting estimator with 347 features.\n",
      "Fitting estimator with 337 features.\n",
      "Fitting estimator with 327 features.\n",
      "Fitting estimator with 317 features.\n",
      "Fitting estimator with 307 features.\n",
      "Fitting estimator with 297 features.\n",
      "Fitting estimator with 287 features.\n",
      "Fitting estimator with 277 features.\n",
      "Fitting estimator with 267 features.\n",
      "Fitting estimator with 257 features.\n",
      "Fitting estimator with 247 features.\n",
      "Fitting estimator with 237 features.\n",
      "Fitting estimator with 227 features.\n",
      "Fitting estimator with 217 features.\n",
      "Fitting estimator with 207 features.\n",
      "Fitting estimator with 197 features.\n",
      "Fitting estimator with 187 features.\n",
      "Fitting estimator with 177 features.\n",
      "Fitting estimator with 167 features.\n",
      "Fitting estimator with 157 features.\n",
      "Fitting estimator with 147 features.\n",
      "Fitting estimator with 137 features.\n",
      "Fitting estimator with 127 features.\n",
      "Fitting estimator with 117 features.\n",
      "Fitting estimator with 107 features.\n",
      "Fitting estimator with 97 features.\n",
      "Fitting estimator with 87 features.\n",
      "Fitting estimator with 77 features.\n",
      "Fitting estimator with 67 features.\n",
      "Fitting estimator with 57 features.\n",
      "Fitting estimator with 47 features.\n",
      "Fitting estimator with 37 features.\n",
      "Fitting estimator with 27 features.\n",
      "Fitting estimator with 17 features.\n",
      "Fitting estimator with 7 features.\n",
      "Fitting estimator with 347 features.\n",
      "Fitting estimator with 337 features.\n",
      "Fitting estimator with 327 features.\n",
      "Fitting estimator with 317 features.\n",
      "Fitting estimator with 307 features.\n",
      "Fitting estimator with 297 features.\n",
      "Fitting estimator with 287 features.\n",
      "Fitting estimator with 277 features.\n",
      "Fitting estimator with 267 features.\n",
      "Fitting estimator with 257 features.\n",
      "Fitting estimator with 247 features.\n",
      "Fitting estimator with 237 features.\n",
      "Fitting estimator with 227 features.\n",
      "Fitting estimator with 217 features.\n",
      "Fitting estimator with 207 features.\n",
      "Fitting estimator with 197 features.\n",
      "Fitting estimator with 187 features.\n",
      "Fitting estimator with 177 features.\n",
      "Fitting estimator with 167 features.\n",
      "Fitting estimator with 157 features.\n",
      "Fitting estimator with 147 features.\n",
      "Fitting estimator with 137 features.\n",
      "Fitting estimator with 127 features.\n",
      "Fitting estimator with 117 features.\n",
      "Fitting estimator with 107 features.\n",
      "Fitting estimator with 97 features.\n",
      "Fitting estimator with 87 features.\n",
      "Fitting estimator with 77 features.\n",
      "Fitting estimator with 67 features.\n",
      "Fitting estimator with 57 features.\n",
      "Fitting estimator with 47 features.\n",
      "Fitting estimator with 37 features.\n",
      "Fitting estimator with 27 features.\n",
      "Fitting estimator with 17 features.\n",
      "Fitting estimator with 7 features.\n",
      "Fitting estimator with 347 features.\n",
      "Fitting estimator with 337 features.\n",
      "Fitting estimator with 327 features.\n",
      "Fitting estimator with 317 features.\n",
      "Fitting estimator with 307 features.\n",
      "Fitting estimator with 297 features.\n",
      "Fitting estimator with 287 features.\n",
      "Fitting estimator with 277 features.\n",
      "Fitting estimator with 267 features.\n",
      "Fitting estimator with 257 features.\n",
      "Fitting estimator with 247 features.\n",
      "Fitting estimator with 237 features.\n",
      "Fitting estimator with 227 features.\n",
      "Fitting estimator with 217 features.\n",
      "Fitting estimator with 207 features.\n",
      "Fitting estimator with 197 features.\n",
      "Fitting estimator with 187 features.\n",
      "Fitting estimator with 177 features.\n",
      "Fitting estimator with 167 features.\n",
      "Fitting estimator with 157 features.\n",
      "Fitting estimator with 147 features.\n",
      "Fitting estimator with 137 features.\n",
      "Fitting estimator with 127 features.\n",
      "Fitting estimator with 117 features.\n",
      "Fitting estimator with 107 features.\n",
      "Fitting estimator with 97 features.\n",
      "Fitting estimator with 87 features.\n",
      "Fitting estimator with 77 features.\n",
      "Fitting estimator with 67 features.\n",
      "Fitting estimator with 57 features.\n",
      "Fitting estimator with 47 features.\n",
      "Fitting estimator with 37 features.\n",
      "Fitting estimator with 27 features.\n",
      "Fitting estimator with 17 features.\n",
      "Fitting estimator with 7 features.\n",
      "Fitting estimator with 347 features.\n",
      "Fitting estimator with 337 features.\n",
      "Fitting estimator with 327 features.\n",
      "Fitting estimator with 317 features.\n",
      "Fitting estimator with 307 features.\n",
      "Fitting estimator with 297 features.\n",
      "Fitting estimator with 287 features.\n",
      "Fitting estimator with 277 features.\n",
      "Fitting estimator with 267 features.\n",
      "Fitting estimator with 257 features.\n",
      "Fitting estimator with 247 features.\n",
      "Fitting estimator with 237 features.\n",
      "Fitting estimator with 227 features.\n",
      "Fitting estimator with 217 features.\n",
      "Fitting estimator with 207 features.\n",
      "Fitting estimator with 197 features.\n",
      "Fitting estimator with 187 features.\n",
      "Fitting estimator with 177 features.\n",
      "Fitting estimator with 167 features.\n",
      "Fitting estimator with 157 features.\n",
      "Fitting estimator with 147 features.\n",
      "Fitting estimator with 137 features.\n",
      "Fitting estimator with 127 features.\n",
      "Fitting estimator with 117 features.\n",
      "Fitting estimator with 107 features.\n",
      "Fitting estimator with 97 features.\n",
      "Fitting estimator with 87 features.\n",
      "Fitting estimator with 77 features.\n",
      "Fitting estimator with 67 features.\n",
      "Fitting estimator with 57 features.\n",
      "Fitting estimator with 47 features.\n",
      "Fitting estimator with 37 features.\n",
      "Fitting estimator with 27 features.\n",
      "Fitting estimator with 17 features.\n",
      "Fitting estimator with 7 features.\n",
      "Fitting estimator with 347 features.\n",
      "Fitting estimator with 337 features.\n",
      "Fitting estimator with 327 features.\n",
      "Fitting estimator with 317 features.\n",
      "Fitting estimator with 307 features.\n",
      "Fitting estimator with 297 features.\n",
      "Fitting estimator with 287 features.\n",
      "Fitting estimator with 277 features.\n"
     ]
    },
    {
     "data": {
      "text/plain": [
       "RFECV(cv=KFold(n_splits=5, random_state=None, shuffle=False),\n",
       "      estimator=LGBMClassifier(bagging_fraction=0.4181193142567742,\n",
       "                               bagging_seed=11, boosting_type='gbdt',\n",
       "                               class_weight=None, colsample_bytree=1.0,\n",
       "                               feature_fraction=0.3797454081646243,\n",
       "                               importance_type='split',\n",
       "                               learning_rate=0.006883242363721497, max_depth=-1,\n",
       "                               metric='auc', min_child_samples=20,\n",
       "                               min_child_we....03454472573214212,\n",
       "                               min_data_in_leaf=106, min_split_gain=0.0,\n",
       "                               n_estimators=100, n_jobs=-1, num_leaves=491,\n",
       "                               objective='binary', random_state=47,\n",
       "                               reg_alpha=0.3899927210061127,\n",
       "                               reg_lambda=0.6485237330340494, silent=True,\n",
       "                               subsample=1.0, subsample_for_bin=200000,\n",
       "                               subsample_freq=0, verbosity=-1),\n",
       "      min_features_to_select=1, n_jobs=None, scoring='roc_auc', step=10,\n",
       "      verbose=2)"
      ]
     },
     "execution_count": 199,
     "metadata": {},
     "output_type": "execute_result"
    }
   ],
   "source": [
    "rfecv.fit(X, y)"
   ]
  },
  {
   "cell_type": "code",
   "execution_count": 201,
   "metadata": {},
   "outputs": [
    {
     "name": "stdout",
     "output_type": "stream",
     "text": [
      "Optimal number of features: 267\n"
     ]
    }
   ],
   "source": [
    "print('Optimal number of features:', rfecv.n_features_)"
   ]
  },
  {
   "cell_type": "code",
   "execution_count": 200,
   "metadata": {},
   "outputs": [
    {
     "name": "stdout",
     "output_type": "stream",
     "text": [
      "267\n"
     ]
    },
    {
     "data": {
      "text/plain": [
       "['TransactionAmt',\n",
       " 'ProductCD',\n",
       " 'card1',\n",
       " 'card2',\n",
       " 'card3',\n",
       " 'card4',\n",
       " 'card5',\n",
       " 'card6',\n",
       " 'addr1',\n",
       " 'addr2',\n",
       " 'dist1',\n",
       " 'dist2',\n",
       " 'C1',\n",
       " 'C2',\n",
       " 'C4',\n",
       " 'C5',\n",
       " 'C6',\n",
       " 'C7',\n",
       " 'C8',\n",
       " 'C9',\n",
       " 'C10',\n",
       " 'C11',\n",
       " 'C12',\n",
       " 'C13',\n",
       " 'C14',\n",
       " 'D1',\n",
       " 'D2',\n",
       " 'D3',\n",
       " 'D4',\n",
       " 'D5',\n",
       " 'D6',\n",
       " 'D7',\n",
       " 'D8',\n",
       " 'D9',\n",
       " 'D10',\n",
       " 'D11',\n",
       " 'D12',\n",
       " 'D13',\n",
       " 'D14',\n",
       " 'D15',\n",
       " 'M2',\n",
       " 'M3',\n",
       " 'M4',\n",
       " 'M5',\n",
       " 'M6',\n",
       " 'M7',\n",
       " 'M8',\n",
       " 'M9',\n",
       " 'V3',\n",
       " 'V4',\n",
       " 'V5',\n",
       " 'V7',\n",
       " 'V12',\n",
       " 'V13',\n",
       " 'V19',\n",
       " 'V20',\n",
       " 'V23',\n",
       " 'V24',\n",
       " 'V25',\n",
       " 'V26',\n",
       " 'V29',\n",
       " 'V30',\n",
       " 'V33',\n",
       " 'V34',\n",
       " 'V35',\n",
       " 'V36',\n",
       " 'V37',\n",
       " 'V38',\n",
       " 'V39',\n",
       " 'V44',\n",
       " 'V45',\n",
       " 'V47',\n",
       " 'V48',\n",
       " 'V49',\n",
       " 'V51',\n",
       " 'V52',\n",
       " 'V53',\n",
       " 'V54',\n",
       " 'V55',\n",
       " 'V56',\n",
       " 'V57',\n",
       " 'V58',\n",
       " 'V60',\n",
       " 'V61',\n",
       " 'V62',\n",
       " 'V63',\n",
       " 'V64',\n",
       " 'V66',\n",
       " 'V67',\n",
       " 'V69',\n",
       " 'V70',\n",
       " 'V74',\n",
       " 'V75',\n",
       " 'V76',\n",
       " 'V77',\n",
       " 'V78',\n",
       " 'V81',\n",
       " 'V82',\n",
       " 'V83',\n",
       " 'V85',\n",
       " 'V86',\n",
       " 'V87',\n",
       " 'V90',\n",
       " 'V91',\n",
       " 'V94',\n",
       " 'V95',\n",
       " 'V96',\n",
       " 'V97',\n",
       " 'V99',\n",
       " 'V100',\n",
       " 'V102',\n",
       " 'V103',\n",
       " 'V105',\n",
       " 'V115',\n",
       " 'V124',\n",
       " 'V126',\n",
       " 'V127',\n",
       " 'V128',\n",
       " 'V129',\n",
       " 'V130',\n",
       " 'V131',\n",
       " 'V132',\n",
       " 'V133',\n",
       " 'V134',\n",
       " 'V136',\n",
       " 'V137',\n",
       " 'V139',\n",
       " 'V140',\n",
       " 'V143',\n",
       " 'V145',\n",
       " 'V147',\n",
       " 'V149',\n",
       " 'V151',\n",
       " 'V152',\n",
       " 'V158',\n",
       " 'V159',\n",
       " 'V160',\n",
       " 'V161',\n",
       " 'V162',\n",
       " 'V164',\n",
       " 'V165',\n",
       " 'V166',\n",
       " 'V167',\n",
       " 'V169',\n",
       " 'V170',\n",
       " 'V171',\n",
       " 'V175',\n",
       " 'V187',\n",
       " 'V189',\n",
       " 'V198',\n",
       " 'V200',\n",
       " 'V201',\n",
       " 'V202',\n",
       " 'V203',\n",
       " 'V204',\n",
       " 'V205',\n",
       " 'V206',\n",
       " 'V207',\n",
       " 'V208',\n",
       " 'V209',\n",
       " 'V210',\n",
       " 'V211',\n",
       " 'V212',\n",
       " 'V213',\n",
       " 'V215',\n",
       " 'V216',\n",
       " 'V217',\n",
       " 'V218',\n",
       " 'V219',\n",
       " 'V221',\n",
       " 'V222',\n",
       " 'V223',\n",
       " 'V224',\n",
       " 'V225',\n",
       " 'V226',\n",
       " 'V229',\n",
       " 'V231',\n",
       " 'V232',\n",
       " 'V233',\n",
       " 'V234',\n",
       " 'V239',\n",
       " 'V243',\n",
       " 'V244',\n",
       " 'V245',\n",
       " 'V248',\n",
       " 'V251',\n",
       " 'V256',\n",
       " 'V257',\n",
       " 'V258',\n",
       " 'V261',\n",
       " 'V262',\n",
       " 'V263',\n",
       " 'V264',\n",
       " 'V265',\n",
       " 'V266',\n",
       " 'V267',\n",
       " 'V268',\n",
       " 'V271',\n",
       " 'V274',\n",
       " 'V275',\n",
       " 'V276',\n",
       " 'V277',\n",
       " 'V278',\n",
       " 'V279',\n",
       " 'V280',\n",
       " 'V281',\n",
       " 'V282',\n",
       " 'V283',\n",
       " 'V284',\n",
       " 'V285',\n",
       " 'V286',\n",
       " 'V287',\n",
       " 'V288',\n",
       " 'V289',\n",
       " 'V290',\n",
       " 'V291',\n",
       " 'V292',\n",
       " 'V293',\n",
       " 'V294',\n",
       " 'V295',\n",
       " 'V296',\n",
       " 'V298',\n",
       " 'V301',\n",
       " 'V306',\n",
       " 'V307',\n",
       " 'V308',\n",
       " 'V309',\n",
       " 'V310',\n",
       " 'V311',\n",
       " 'V312',\n",
       " 'V313',\n",
       " 'V314',\n",
       " 'V315',\n",
       " 'V316',\n",
       " 'V317',\n",
       " 'V318',\n",
       " 'V319',\n",
       " 'V320',\n",
       " 'V321',\n",
       " 'V322',\n",
       " 'V323',\n",
       " 'V324',\n",
       " 'V331',\n",
       " 'V332',\n",
       " 'V333',\n",
       " 'V335',\n",
       " 'V336',\n",
       " 'id_01',\n",
       " 'id_02',\n",
       " 'id_03',\n",
       " 'id_05',\n",
       " 'id_06',\n",
       " 'id_09',\n",
       " 'id_13',\n",
       " 'id_14',\n",
       " 'id_15',\n",
       " 'id_16',\n",
       " 'id_17',\n",
       " 'id_18',\n",
       " 'id_19',\n",
       " 'id_20',\n",
       " 'id_30',\n",
       " 'id_31',\n",
       " 'id_32',\n",
       " 'id_33',\n",
       " 'id_36',\n",
       " 'id_38']"
      ]
     },
     "execution_count": 200,
     "metadata": {},
     "output_type": "execute_result"
    }
   ],
   "source": [
    "all_final_cols = [col for col in X.columns[rfecv.ranking_ == 1]]\n",
    "print(len(all_final_cols))\n",
    "all_final_cols"
   ]
  },
  {
   "cell_type": "code",
   "execution_count": 206,
   "metadata": {},
   "outputs": [
    {
     "name": "stdout",
     "output_type": "stream",
     "text": [
      "267\n",
      "81\n",
      "False\n"
     ]
    }
   ],
   "source": [
    "all_del_cols = []\n",
    "all_no_cols= []\n",
    "for col in final_cols:\n",
    "\n",
    "  if col not in all_final_cols:\n",
    "    all_del_cols.append(col)\n",
    "  else:\n",
    "    all_no_cols.append(col)\n",
    "print(len(all_no_cols));print(len(all_del_cols))\n",
    "print(all_del_cols == all_final_cols)"
   ]
  },
  {
   "cell_type": "code",
   "execution_count": 217,
   "metadata": {},
   "outputs": [
    {
     "data": {
      "text/plain": [
       "'isFraud'"
      ]
     },
     "execution_count": 217,
     "metadata": {},
     "output_type": "execute_result"
    }
   ],
   "source": [
    "all_del_cols.pop(0)"
   ]
  },
  {
   "cell_type": "code",
   "execution_count": 218,
   "metadata": {},
   "outputs": [
    {
     "data": {
      "text/plain": [
       "['C3',\n",
       " 'M1',\n",
       " 'id_04',\n",
       " 'id_07',\n",
       " 'id_08',\n",
       " 'id_10',\n",
       " 'id_11',\n",
       " 'id_12',\n",
       " 'id_21',\n",
       " 'id_22',\n",
       " 'id_23',\n",
       " 'id_24',\n",
       " 'id_25',\n",
       " 'id_26',\n",
       " 'id_27',\n",
       " 'id_28',\n",
       " 'id_29',\n",
       " 'id_34',\n",
       " 'id_35',\n",
       " 'id_37',\n",
       " 'V1',\n",
       " 'V2',\n",
       " 'V6',\n",
       " 'V9',\n",
       " 'V17',\n",
       " 'V18',\n",
       " 'V40',\n",
       " 'V42',\n",
       " 'V43',\n",
       " 'V59',\n",
       " 'V71',\n",
       " 'V72',\n",
       " 'V73',\n",
       " 'V79',\n",
       " 'V80',\n",
       " 'V92',\n",
       " 'V93',\n",
       " 'V98',\n",
       " 'V101',\n",
       " 'V109',\n",
       " 'V125',\n",
       " 'V135',\n",
       " 'V146',\n",
       " 'V150',\n",
       " 'V156',\n",
       " 'V168',\n",
       " 'V172',\n",
       " 'V173',\n",
       " 'V174',\n",
       " 'V176',\n",
       " 'V177',\n",
       " 'V178',\n",
       " 'V179',\n",
       " 'V180',\n",
       " 'V182',\n",
       " 'V188',\n",
       " 'V192',\n",
       " 'V199',\n",
       " 'V214',\n",
       " 'V220',\n",
       " 'V227',\n",
       " 'V228',\n",
       " 'V230',\n",
       " 'V236',\n",
       " 'V246',\n",
       " 'V250',\n",
       " 'V259',\n",
       " 'V260',\n",
       " 'V270',\n",
       " 'V272',\n",
       " 'V273',\n",
       " 'V297',\n",
       " 'V299',\n",
       " 'V300',\n",
       " 'V303',\n",
       " 'V304',\n",
       " 'V326',\n",
       " 'V329',\n",
       " 'V338',\n",
       " 'V339']"
      ]
     },
     "execution_count": 218,
     "metadata": {},
     "output_type": "execute_result"
    }
   ],
   "source": [
    "all_del_cols"
   ]
  },
  {
   "cell_type": "code",
   "execution_count": 219,
   "metadata": {
    "scrolled": true
   },
   "outputs": [],
   "source": [
    "three_train = three_train.drop(all_del_cols, axis=1)\n",
    "three_test = three_test.drop(all_no_cols, axis=1)"
   ]
  },
  {
   "cell_type": "code",
   "execution_count": 220,
   "metadata": {},
   "outputs": [],
   "source": [
    "train = three_train\n",
    "test = three_test"
   ]
  },
  {
   "cell_type": "code",
   "execution_count": 225,
   "metadata": {},
   "outputs": [
    {
     "data": {
      "text/plain": [
       "['TransactionAmt',\n",
       " 'ProductCD',\n",
       " 'card1',\n",
       " 'card2',\n",
       " 'card3',\n",
       " 'card4',\n",
       " 'card5',\n",
       " 'card6',\n",
       " 'addr1',\n",
       " 'addr2',\n",
       " 'dist1',\n",
       " 'dist2',\n",
       " 'C1',\n",
       " 'C2',\n",
       " 'C4',\n",
       " 'C5',\n",
       " 'C6',\n",
       " 'C7',\n",
       " 'C8',\n",
       " 'C9',\n",
       " 'C10',\n",
       " 'C11',\n",
       " 'C12',\n",
       " 'C13',\n",
       " 'C14',\n",
       " 'D1',\n",
       " 'D2',\n",
       " 'D3',\n",
       " 'D4',\n",
       " 'D5',\n",
       " 'D6',\n",
       " 'D7',\n",
       " 'D8',\n",
       " 'D9',\n",
       " 'D10',\n",
       " 'D11',\n",
       " 'D12',\n",
       " 'D13',\n",
       " 'D14',\n",
       " 'D15',\n",
       " 'M2',\n",
       " 'M3',\n",
       " 'M4',\n",
       " 'M5',\n",
       " 'M6',\n",
       " 'M7',\n",
       " 'M8',\n",
       " 'M9',\n",
       " 'id_01',\n",
       " 'id_02',\n",
       " 'id_03',\n",
       " 'id_05',\n",
       " 'id_06',\n",
       " 'id_09',\n",
       " 'id_13',\n",
       " 'id_14',\n",
       " 'id_15',\n",
       " 'id_16',\n",
       " 'id_17',\n",
       " 'id_18',\n",
       " 'id_19',\n",
       " 'id_20',\n",
       " 'id_30',\n",
       " 'id_31',\n",
       " 'id_32',\n",
       " 'id_33',\n",
       " 'id_36',\n",
       " 'id_38',\n",
       " 'V3',\n",
       " 'V4',\n",
       " 'V5',\n",
       " 'V7',\n",
       " 'V12',\n",
       " 'V13',\n",
       " 'V19',\n",
       " 'V20',\n",
       " 'V23',\n",
       " 'V24',\n",
       " 'V25',\n",
       " 'V26',\n",
       " 'V29',\n",
       " 'V30',\n",
       " 'V33',\n",
       " 'V34',\n",
       " 'V35',\n",
       " 'V36',\n",
       " 'V37',\n",
       " 'V38',\n",
       " 'V39',\n",
       " 'V44',\n",
       " 'V45',\n",
       " 'V47',\n",
       " 'V48',\n",
       " 'V49',\n",
       " 'V51',\n",
       " 'V52',\n",
       " 'V53',\n",
       " 'V54',\n",
       " 'V55',\n",
       " 'V56',\n",
       " 'V57',\n",
       " 'V58',\n",
       " 'V60',\n",
       " 'V61',\n",
       " 'V62',\n",
       " 'V63',\n",
       " 'V64',\n",
       " 'V66',\n",
       " 'V67',\n",
       " 'V69',\n",
       " 'V70',\n",
       " 'V74',\n",
       " 'V75',\n",
       " 'V76',\n",
       " 'V77',\n",
       " 'V78',\n",
       " 'V81',\n",
       " 'V82',\n",
       " 'V83',\n",
       " 'V85',\n",
       " 'V86',\n",
       " 'V87',\n",
       " 'V90',\n",
       " 'V91',\n",
       " 'V94',\n",
       " 'V95',\n",
       " 'V96',\n",
       " 'V97',\n",
       " 'V99',\n",
       " 'V100',\n",
       " 'V102',\n",
       " 'V103',\n",
       " 'V105',\n",
       " 'V115',\n",
       " 'V124',\n",
       " 'V126',\n",
       " 'V127',\n",
       " 'V128',\n",
       " 'V129',\n",
       " 'V130',\n",
       " 'V131',\n",
       " 'V132',\n",
       " 'V133',\n",
       " 'V134',\n",
       " 'V136',\n",
       " 'V137',\n",
       " 'V139',\n",
       " 'V140',\n",
       " 'V143',\n",
       " 'V145',\n",
       " 'V147',\n",
       " 'V149',\n",
       " 'V151',\n",
       " 'V152',\n",
       " 'V158',\n",
       " 'V159',\n",
       " 'V160',\n",
       " 'V161',\n",
       " 'V162',\n",
       " 'V164',\n",
       " 'V165',\n",
       " 'V166',\n",
       " 'V167',\n",
       " 'V169',\n",
       " 'V170',\n",
       " 'V171',\n",
       " 'V175',\n",
       " 'V187',\n",
       " 'V189',\n",
       " 'V198',\n",
       " 'V200',\n",
       " 'V201',\n",
       " 'V202',\n",
       " 'V203',\n",
       " 'V204',\n",
       " 'V205',\n",
       " 'V206',\n",
       " 'V207',\n",
       " 'V208',\n",
       " 'V209',\n",
       " 'V210',\n",
       " 'V211',\n",
       " 'V212',\n",
       " 'V213',\n",
       " 'V215',\n",
       " 'V216',\n",
       " 'V217',\n",
       " 'V218',\n",
       " 'V219',\n",
       " 'V221',\n",
       " 'V222',\n",
       " 'V223',\n",
       " 'V224',\n",
       " 'V225',\n",
       " 'V226',\n",
       " 'V229',\n",
       " 'V231',\n",
       " 'V232',\n",
       " 'V233',\n",
       " 'V234',\n",
       " 'V239',\n",
       " 'V243',\n",
       " 'V244',\n",
       " 'V245',\n",
       " 'V248',\n",
       " 'V251',\n",
       " 'V256',\n",
       " 'V257',\n",
       " 'V258',\n",
       " 'V261',\n",
       " 'V262',\n",
       " 'V263',\n",
       " 'V264',\n",
       " 'V265',\n",
       " 'V266',\n",
       " 'V267',\n",
       " 'V268',\n",
       " 'V271',\n",
       " 'V274',\n",
       " 'V275',\n",
       " 'V276',\n",
       " 'V277',\n",
       " 'V278',\n",
       " 'V279',\n",
       " 'V280',\n",
       " 'V281',\n",
       " 'V282',\n",
       " 'V283',\n",
       " 'V284',\n",
       " 'V285',\n",
       " 'V286',\n",
       " 'V287',\n",
       " 'V288',\n",
       " 'V289',\n",
       " 'V290',\n",
       " 'V291',\n",
       " 'V292',\n",
       " 'V293',\n",
       " 'V294',\n",
       " 'V295',\n",
       " 'V296',\n",
       " 'V298',\n",
       " 'V301',\n",
       " 'V306',\n",
       " 'V307',\n",
       " 'V308',\n",
       " 'V309',\n",
       " 'V310',\n",
       " 'V311',\n",
       " 'V312',\n",
       " 'V313',\n",
       " 'V314',\n",
       " 'V315',\n",
       " 'V316',\n",
       " 'V317',\n",
       " 'V318',\n",
       " 'V319',\n",
       " 'V320',\n",
       " 'V321',\n",
       " 'V322',\n",
       " 'V323',\n",
       " 'V324',\n",
       " 'V331',\n",
       " 'V332',\n",
       " 'V333',\n",
       " 'V335',\n",
       " 'V336']"
      ]
     },
     "execution_count": 225,
     "metadata": {},
     "output_type": "execute_result"
    }
   ],
   "source": [
    "all_no_cols"
   ]
  },
  {
   "cell_type": "code",
   "execution_count": 227,
   "metadata": {},
   "outputs": [],
   "source": [
    "train.to_csv('rfecv_2_train.csv')\n",
    "test.to_csv('rfecv_2_test.csv')"
   ]
  },
  {
   "cell_type": "code",
   "execution_count": null,
   "metadata": {},
   "outputs": [],
   "source": []
  }
 ],
 "metadata": {
  "kernelspec": {
   "display_name": "Python 3",
   "language": "python",
   "name": "python3"
  },
  "language_info": {
   "codemirror_mode": {
    "name": "ipython",
    "version": 3
   },
   "file_extension": ".py",
   "mimetype": "text/x-python",
   "name": "python",
   "nbconvert_exporter": "python",
   "pygments_lexer": "ipython3",
   "version": "3.6.8"
  }
 },
 "nbformat": 4,
 "nbformat_minor": 2
}
